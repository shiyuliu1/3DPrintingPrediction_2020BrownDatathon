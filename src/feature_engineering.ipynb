{
 "cells": [
  {
   "cell_type": "code",
   "execution_count": 421,
   "metadata": {},
   "outputs": [],
   "source": [
    "import numpy as np\n",
    "import pandas as pd"
   ]
  },
  {
   "cell_type": "code",
   "execution_count": 422,
   "metadata": {},
   "outputs": [],
   "source": [
    "train=pd.read_csv('temp_train.csv', index_col=False).drop('Unnamed: 0',1)\n",
    "test=pd.read_csv('temp_test.csv', index_col=False).drop('Unnamed: 0',1)"
   ]
  },
  {
   "cell_type": "code",
   "execution_count": 427,
   "metadata": {},
   "outputs": [],
   "source": [
    "from sklearn.ensemble import GradientBoostingRegressor, RandomForestRegressor\n",
    "from sklearn.linear_model import LinearRegression\n",
    "import os"
   ]
  },
  {
   "cell_type": "code",
   "execution_count": 442,
   "metadata": {
    "scrolled": true
   },
   "outputs": [
    {
     "name": "stderr",
     "output_type": "stream",
     "text": [
      "/Users/zysophia/anaconda3/lib/python3.7/site-packages/sklearn/ensemble/forest.py:245: FutureWarning: The default value of n_estimators will change from 10 in version 0.20 to 100 in 0.22.\n",
      "  \"10 in version 0.20 to 100 in 0.22.\", FutureWarning)\n"
     ]
    },
    {
     "data": {
      "text/plain": [
       "0.9935142252985842"
      ]
     },
     "execution_count": 442,
     "metadata": {},
     "output_type": "execute_result"
    }
   ],
   "source": [
    "model_1a = RandomForestRegressor()\n",
    "model_1a.fit(train.drop('Temp',axis=1), train['Temp'])\n",
    "model_1a.score(test.drop('Temp',axis=1), test['Temp'])"
   ]
  },
  {
   "cell_type": "code",
   "execution_count": 438,
   "metadata": {
    "scrolled": true
   },
   "outputs": [
    {
     "data": {
      "text/html": [
       "<div>\n",
       "<style scoped>\n",
       "    .dataframe tbody tr th:only-of-type {\n",
       "        vertical-align: middle;\n",
       "    }\n",
       "\n",
       "    .dataframe tbody tr th {\n",
       "        vertical-align: top;\n",
       "    }\n",
       "\n",
       "    .dataframe thead th {\n",
       "        text-align: right;\n",
       "    }\n",
       "</style>\n",
       "<table border=\"1\" class=\"dataframe\">\n",
       "  <thead>\n",
       "    <tr style=\"text-align: right;\">\n",
       "      <th></th>\n",
       "      <th>X_Coord</th>\n",
       "      <th>Y_Coord</th>\n",
       "      <th>Z_Coord</th>\n",
       "      <th>Temp</th>\n",
       "      <th>speed</th>\n",
       "      <th>power</th>\n",
       "    </tr>\n",
       "  </thead>\n",
       "  <tbody>\n",
       "    <tr>\n",
       "      <th>0</th>\n",
       "      <td>0.18</td>\n",
       "      <td>-0.21</td>\n",
       "      <td>0.0</td>\n",
       "      <td>0.00008</td>\n",
       "      <td>0.6</td>\n",
       "      <td>125</td>\n",
       "    </tr>\n",
       "    <tr>\n",
       "      <th>1</th>\n",
       "      <td>0.15</td>\n",
       "      <td>-0.21</td>\n",
       "      <td>0.0</td>\n",
       "      <td>0.00008</td>\n",
       "      <td>0.6</td>\n",
       "      <td>125</td>\n",
       "    </tr>\n",
       "    <tr>\n",
       "      <th>2</th>\n",
       "      <td>0.12</td>\n",
       "      <td>-0.21</td>\n",
       "      <td>0.0</td>\n",
       "      <td>0.00008</td>\n",
       "      <td>0.6</td>\n",
       "      <td>125</td>\n",
       "    </tr>\n",
       "    <tr>\n",
       "      <th>3</th>\n",
       "      <td>0.09</td>\n",
       "      <td>-0.21</td>\n",
       "      <td>0.0</td>\n",
       "      <td>0.00009</td>\n",
       "      <td>0.6</td>\n",
       "      <td>125</td>\n",
       "    </tr>\n",
       "    <tr>\n",
       "      <th>4</th>\n",
       "      <td>0.06</td>\n",
       "      <td>-0.21</td>\n",
       "      <td>0.0</td>\n",
       "      <td>0.00011</td>\n",
       "      <td>0.6</td>\n",
       "      <td>125</td>\n",
       "    </tr>\n",
       "  </tbody>\n",
       "</table>\n",
       "</div>"
      ],
      "text/plain": [
       "   X_Coord  Y_Coord  Z_Coord     Temp  speed  power\n",
       "0     0.18    -0.21      0.0  0.00008    0.6    125\n",
       "1     0.15    -0.21      0.0  0.00008    0.6    125\n",
       "2     0.12    -0.21      0.0  0.00008    0.6    125\n",
       "3     0.09    -0.21      0.0  0.00009    0.6    125\n",
       "4     0.06    -0.21      0.0  0.00011    0.6    125"
      ]
     },
     "execution_count": 438,
     "metadata": {},
     "output_type": "execute_result"
    }
   ],
   "source": [
    "train.head()"
   ]
  },
  {
   "cell_type": "code",
   "execution_count": 464,
   "metadata": {},
   "outputs": [
    {
     "name": "stderr",
     "output_type": "stream",
     "text": [
      "/Users/zysophia/anaconda3/lib/python3.7/site-packages/sklearn/ensemble/forest.py:245: FutureWarning: The default value of n_estimators will change from 10 in version 0.20 to 100 in 0.22.\n",
      "  \"10 in version 0.20 to 100 in 0.22.\", FutureWarning)\n"
     ]
    },
    {
     "data": {
      "text/plain": [
       "0.8530137132871802"
      ]
     },
     "execution_count": 464,
     "metadata": {},
     "output_type": "execute_result"
    }
   ],
   "source": [
    "train = pd.read_csv('random_samples_temp_50.csv').drop('Unnamed: 0',1)\n",
    "test = pd.read_csv('random_samples_temp_50.csv').drop('Unnamed: 0',1)\n",
    "\n",
    "train = train.assign(volumn=lambda x: 1/np.sin(x.Edge_Angle/180*np.pi)*x.Edge_Distance**3)\n",
    "train = train.assign(surface=lambda x: 1/np.sin(x.Edge_Angle/180*np.pi)*x.Edge_Distance**2)\n",
    "train = train.assign(distance=lambda x: 1/np.sin(x.Edge_Angle/180*np.pi)*x.Edge_Distance**1)\n",
    "train = train.assign(sin=lambda x: 1/np.sin(x.Edge_Angle/180*np.pi))\n",
    "\n",
    "model_2a = RandomForestRegressor(n_jobs=-1)\n",
    "model_2a.fit(train.drop('Temp',axis=1), train['Temp'])\n",
    "model_2a.score(test.drop('Temp',axis=1), test['Temp'])"
   ]
  },
  {
   "cell_type": "code",
   "execution_count": 466,
   "metadata": {},
   "outputs": [
    {
     "data": {
      "text/html": [
       "<div>\n",
       "<style scoped>\n",
       "    .dataframe tbody tr th:only-of-type {\n",
       "        vertical-align: middle;\n",
       "    }\n",
       "\n",
       "    .dataframe tbody tr th {\n",
       "        vertical-align: top;\n",
       "    }\n",
       "\n",
       "    .dataframe thead th {\n",
       "        text-align: right;\n",
       "    }\n",
       "</style>\n",
       "<table border=\"1\" class=\"dataframe\">\n",
       "  <thead>\n",
       "    <tr style=\"text-align: right;\">\n",
       "      <th></th>\n",
       "      <th>X_Coord</th>\n",
       "      <th>Y_Coord</th>\n",
       "      <th>Z_Coord</th>\n",
       "      <th>Edge_Distance</th>\n",
       "      <th>Laser_Direction</th>\n",
       "      <th>Temp</th>\n",
       "      <th>LasPower</th>\n",
       "      <th>LasSpeed</th>\n",
       "      <th>LasAngle</th>\n",
       "    </tr>\n",
       "  </thead>\n",
       "  <tbody>\n",
       "    <tr>\n",
       "      <th>0</th>\n",
       "      <td>0.176231</td>\n",
       "      <td>-0.200626</td>\n",
       "      <td>0.00</td>\n",
       "      <td>0.0658</td>\n",
       "      <td>-1</td>\n",
       "      <td>0.00091</td>\n",
       "      <td>200.0</td>\n",
       "      <td>0.6</td>\n",
       "      <td>70</td>\n",
       "    </tr>\n",
       "    <tr>\n",
       "      <th>1</th>\n",
       "      <td>0.176231</td>\n",
       "      <td>-0.200626</td>\n",
       "      <td>-0.03</td>\n",
       "      <td>0.0658</td>\n",
       "      <td>-1</td>\n",
       "      <td>0.00088</td>\n",
       "      <td>200.0</td>\n",
       "      <td>0.6</td>\n",
       "      <td>70</td>\n",
       "    </tr>\n",
       "    <tr>\n",
       "      <th>2</th>\n",
       "      <td>0.176231</td>\n",
       "      <td>-0.200626</td>\n",
       "      <td>-0.06</td>\n",
       "      <td>0.0658</td>\n",
       "      <td>-1</td>\n",
       "      <td>0.00078</td>\n",
       "      <td>200.0</td>\n",
       "      <td>0.6</td>\n",
       "      <td>70</td>\n",
       "    </tr>\n",
       "    <tr>\n",
       "      <th>3</th>\n",
       "      <td>0.176231</td>\n",
       "      <td>-0.200626</td>\n",
       "      <td>-0.09</td>\n",
       "      <td>0.0658</td>\n",
       "      <td>-1</td>\n",
       "      <td>0.00072</td>\n",
       "      <td>200.0</td>\n",
       "      <td>0.6</td>\n",
       "      <td>70</td>\n",
       "    </tr>\n",
       "    <tr>\n",
       "      <th>4</th>\n",
       "      <td>0.176231</td>\n",
       "      <td>-0.200626</td>\n",
       "      <td>-0.12</td>\n",
       "      <td>0.0658</td>\n",
       "      <td>-1</td>\n",
       "      <td>0.00068</td>\n",
       "      <td>200.0</td>\n",
       "      <td>0.6</td>\n",
       "      <td>70</td>\n",
       "    </tr>\n",
       "  </tbody>\n",
       "</table>\n",
       "</div>"
      ],
      "text/plain": [
       "    X_Coord   Y_Coord  Z_Coord  Edge_Distance  Laser_Direction     Temp  \\\n",
       "0  0.176231 -0.200626     0.00         0.0658               -1  0.00091   \n",
       "1  0.176231 -0.200626    -0.03         0.0658               -1  0.00088   \n",
       "2  0.176231 -0.200626    -0.06         0.0658               -1  0.00078   \n",
       "3  0.176231 -0.200626    -0.09         0.0658               -1  0.00072   \n",
       "4  0.176231 -0.200626    -0.12         0.0658               -1  0.00068   \n",
       "\n",
       "   LasPower  LasSpeed  LasAngle  \n",
       "0     200.0       0.6        70  \n",
       "1     200.0       0.6        70  \n",
       "2     200.0       0.6        70  \n",
       "3     200.0       0.6        70  \n",
       "4     200.0       0.6        70  "
      ]
     },
     "execution_count": 466,
     "metadata": {},
     "output_type": "execute_result"
    }
   ],
   "source": [
    "train.head()"
   ]
  },
  {
   "cell_type": "code",
   "execution_count": null,
   "metadata": {},
   "outputs": [],
   "source": []
  },
  {
   "cell_type": "code",
   "execution_count": 559,
   "metadata": {},
   "outputs": [
    {
     "name": "stdout",
     "output_type": "stream",
     "text": [
      "1_47ms_310W_60Deg.csv\n",
      "0_77ms_110W_80Deg.csv\n",
      "1_38ms_240W_40Deg.csv\n",
      "0_77ms_390W_20Deg.csv\n",
      "0_77ms_310W_40Deg.csv\n",
      "1_38ms_160W_40Deg.csv\n",
      "1_07ms_390W_80Deg.csv\n",
      "0_62ms_110W_20Deg.csv\n",
      "0_77ms_240W_40Deg.csv\n",
      "0_77ms_160W_40Deg.csv\n",
      "1_38ms_310W_40Deg.csv\n",
      "1_47ms_240W_60Deg.csv\n",
      "1_07ms_110W_20Deg.csv\n",
      "0_62ms_390W_80Deg.csv\n",
      "1_38ms_390W_20Deg.csv\n",
      "0_93ms_240W_20Deg.csv\n",
      "1_47ms_390W_80Deg.csv\n",
      "0_62ms_240W_60Deg.csv\n",
      "1_07ms_160W_60Deg.csv\n",
      "0_62ms_160W_60Deg.csv\n",
      "0_93ms_160W_20Deg.csv\n",
      "1_07ms_240W_60Deg.csv\n",
      "1_07ms_310W_60Deg.csv\n",
      "0_93ms_390W_40Deg.csv\n",
      "0_93ms_310W_20Deg.csv\n",
      "0_62ms_310W_60Deg.csv\n",
      "1_07ms_160W_40Deg.csv\n",
      "0_62ms_240W_40Deg.csv\n",
      "0_77ms_110W_20Deg.csv\n",
      "0_77ms_390W_80Deg.csv\n",
      "1_07ms_240W_40Deg.csv\n",
      "0_62ms_160W_40Deg.csv\n",
      "0_62ms_110W_80Deg.csv\n",
      "1_07ms_390W_20Deg.csv\n",
      "Melt_Pool_Dimensions.csv\n",
      "1_07ms_310W_40Deg.csv\n",
      "0_62ms_310W_40Deg.csv\n",
      "0_62ms_390W_20Deg.csv\n",
      "1_38ms_390W_80Deg.csv\n",
      "0_93ms_390W_60Deg.csv\n",
      "1_38ms_240W_60Deg.csv\n",
      "1_47ms_390W_20Deg.csv\n",
      "0_93ms_240W_80Deg.csv\n",
      "1_47ms_310W_40Deg.csv\n",
      "0_93ms_160W_80Deg.csv\n",
      "0_77ms_310W_60Deg.csv\n",
      "1_47ms_160W_40Deg.csv\n",
      "0_93ms_110W_40Deg.csv\n",
      "0_77ms_240W_60Deg.csv\n",
      "1_47ms_240W_40Deg.csv\n",
      "1_38ms_310W_60Deg.csv\n",
      "0_77ms_160W_60Deg.csv\n",
      "0_93ms_310W_80Deg.csv\n",
      "0_93ms_160W_40Deg.csv\n",
      "1_47ms_310W_80Deg.csv\n",
      "0_77ms_110W_60Deg.csv\n",
      "0_93ms_240W_40Deg.csv\n",
      "0_93ms_310W_40Deg.csv\n",
      "1_47ms_240W_80Deg.csv\n",
      "0_93ms_390W_20Deg.csv\n",
      "0_62ms_390W_60Deg.csv\n",
      "1_07ms_390W_60Deg.csv\n",
      "0_77ms_310W_20Deg.csv\n",
      "0_62ms_160W_80Deg.csv\n",
      "1_38ms_160W_20Deg.csv\n",
      "1_07ms_240W_80Deg.csv\n",
      "0_77ms_390W_40Deg.csv\n",
      "1_47ms_390W_60Deg.csv\n",
      "0_62ms_240W_80Deg.csv\n",
      "1_38ms_240W_20Deg.csv\n",
      "1_07ms_160W_80Deg.csv\n",
      "1_07ms_110W_40Deg.csv\n",
      "1_38ms_390W_40Deg.csv\n",
      "0_77ms_160W_20Deg.csv\n",
      "0_62ms_310W_80Deg.csv\n",
      "1_38ms_310W_20Deg.csv\n",
      "1_07ms_310W_80Deg.csv\n",
      "0_62ms_110W_40Deg.csv\n",
      "0_77ms_240W_20Deg.csv\n",
      "0_77ms_390W_60Deg.csv\n",
      "1_47ms_310W_20Deg.csv\n",
      "1_47ms_390W_40Deg.csv\n",
      "1_38ms_390W_60Deg.csv\n",
      "0_93ms_390W_80Deg.csv\n",
      "1_47ms_240W_20Deg.csv\n",
      "0_62ms_110W_60Deg.csv\n",
      "0_93ms_110W_20Deg.csv\n",
      "1_47ms_160W_20Deg.csv\n",
      "0_93ms_160W_60Deg.csv\n",
      "0_77ms_310W_80Deg.csv\n",
      "0_62ms_160W_20Deg.csv\n",
      "1_07ms_240W_20Deg.csv\n",
      "0_62ms_240W_20Deg.csv\n",
      "0_77ms_110W_40Deg.csv\n",
      "1_38ms_240W_80Deg.csv\n",
      "0_93ms_240W_60Deg.csv\n",
      "1_07ms_160W_20Deg.csv\n",
      "0_62ms_390W_40Deg.csv\n",
      "0_77ms_160W_80Deg.csv\n",
      "0_62ms_310W_20Deg.csv\n",
      "1_38ms_310W_80Deg.csv\n",
      "0_93ms_310W_60Deg.csv\n",
      "1_07ms_310W_20Deg.csv\n",
      "0_77ms_240W_80Deg.csv\n"
     ]
    }
   ],
   "source": [
    "# Predict 2a\n",
    "work_dir='.'\n",
    "for file in os.listdir(work_dir + \"/2/Testing\")[:-1]:\n",
    "    print(file)\n",
    "    if file[0]=='M':\n",
    "        continue\n",
    "    df_temp = pd.read_csv(work_dir + f\"/2/Testing/{file}\")\n",
    "    df_temp[\"LasPower\"] = int(file[7:10])\n",
    "    df_temp[\"LasSpeed\"] = float(file[0] + \".\" + file[2:4])\n",
    "    df_temp[\"LasAngle\"] = int(file[12:14])\n",
    "    #print(df_temp)\n",
    "    df_temp = df_temp.drop('Temp',1)\n",
    "    y_pred_temp = model_2a.predict(df_temp)\n",
    "    df_temp[\"Temp\"] = y_pred_temp\n",
    "    df_temp.drop([\"LasPower\", \"LasSpeed\", \"LasAngle\"], axis=1, inplace=True)\n",
    "    #df_temp.to_csv(work_dir + f\"/2/Testing/{file}\", index=False)"
   ]
  },
  {
   "cell_type": "code",
   "execution_count": 450,
   "metadata": {},
   "outputs": [
    {
     "name": "stdout",
     "output_type": "stream",
     "text": [
      "0_83ms_170W.csv\n",
      "      X_Coord  Y_Coord  Z_Coord      Temp  speed  power\n",
      "0        0.18    -0.21     0.00  0.000257   0.83    170\n",
      "1        0.15    -0.21     0.00  0.000257   0.83    170\n",
      "2        0.12    -0.21     0.00  0.000257   0.83    170\n",
      "3        0.09    -0.21     0.00  0.000257   0.83    170\n",
      "4        0.06    -0.21     0.00  0.000257   0.83    170\n",
      "...       ...      ...      ...       ...    ...    ...\n",
      "3643    -1.38     0.00    -0.21  0.008860   0.83    170\n",
      "3644    -1.41     0.00    -0.21  0.008860   0.83    170\n",
      "3645    -1.44     0.00    -0.21  0.008860   0.83    170\n",
      "3646    -1.47     0.00    -0.21  0.008860   0.83    170\n",
      "3647    -1.50     0.00    -0.21  0.008860   0.83    170\n",
      "\n",
      "[3648 rows x 6 columns]\n",
      "1_23ms_380W.csv\n",
      "      X_Coord  Y_Coord  Z_Coord      Temp  speed  power\n",
      "0        0.18    -0.21     0.00  0.000257   1.23    380\n",
      "1        0.15    -0.21     0.00  0.000257   1.23    380\n",
      "2        0.12    -0.21     0.00  0.000257   1.23    380\n",
      "3        0.09    -0.21     0.00  0.000257   1.23    380\n",
      "4        0.06    -0.21     0.00  0.000257   1.23    380\n",
      "...       ...      ...      ...       ...    ...    ...\n",
      "3643    -1.38     0.00    -0.21  0.009184   1.23    380\n",
      "3644    -1.41     0.00    -0.21  0.009184   1.23    380\n",
      "3645    -1.44     0.00    -0.21  0.009184   1.23    380\n",
      "3646    -1.47     0.00    -0.21  0.009184   1.23    380\n",
      "3647    -1.50     0.00    -0.21  0.009184   1.23    380\n",
      "\n",
      "[3648 rows x 6 columns]\n",
      "0_62ms_320W.csv\n",
      "      X_Coord  Y_Coord  Z_Coord      Temp  speed  power\n",
      "0        0.18    -0.21     0.00  0.000257   0.62    320\n",
      "1        0.15    -0.21     0.00  0.000257   0.62    320\n",
      "2        0.12    -0.21     0.00  0.000257   0.62    320\n",
      "3        0.09    -0.21     0.00  0.000257   0.62    320\n",
      "4        0.06    -0.21     0.00  0.000257   0.62    320\n",
      "...       ...      ...      ...       ...    ...    ...\n",
      "3643    -1.38     0.00    -0.21  0.020427   0.62    320\n",
      "3644    -1.41     0.00    -0.21  0.020427   0.62    320\n",
      "3645    -1.44     0.00    -0.21  0.020427   0.62    320\n",
      "3646    -1.47     0.00    -0.21  0.020427   0.62    320\n",
      "3647    -1.50     0.00    -0.21  0.020427   0.62    320\n",
      "\n",
      "[3648 rows x 6 columns]\n",
      "1_23ms_230W.csv\n",
      "      X_Coord  Y_Coord  Z_Coord      Temp  speed  power\n",
      "0        0.18    -0.21     0.00  0.000257   1.23    230\n",
      "1        0.15    -0.21     0.00  0.000257   1.23    230\n",
      "2        0.12    -0.21     0.00  0.000257   1.23    230\n",
      "3        0.09    -0.21     0.00  0.000257   1.23    230\n",
      "4        0.06    -0.21     0.00  0.000257   1.23    230\n",
      "...       ...      ...      ...       ...    ...    ...\n",
      "3643    -1.38     0.00    -0.21  0.005638   1.23    230\n",
      "3644    -1.41     0.00    -0.21  0.005638   1.23    230\n",
      "3645    -1.44     0.00    -0.21  0.005638   1.23    230\n",
      "3646    -1.47     0.00    -0.21  0.005638   1.23    230\n",
      "3647    -1.50     0.00    -0.21  0.005638   1.23    230\n",
      "\n",
      "[3648 rows x 6 columns]\n",
      "0_83ms_110W.csv\n",
      "      X_Coord  Y_Coord  Z_Coord      Temp  speed  power\n",
      "0        0.18    -0.21     0.00  0.000257   0.83    110\n",
      "1        0.15    -0.21     0.00  0.000257   0.83    110\n",
      "2        0.12    -0.21     0.00  0.000257   0.83    110\n",
      "3        0.09    -0.21     0.00  0.000257   0.83    110\n",
      "4        0.06    -0.21     0.00  0.000257   0.83    110\n",
      "...       ...      ...      ...       ...    ...    ...\n",
      "3643    -1.38     0.00    -0.21  0.004853   0.83    110\n",
      "3644    -1.41     0.00    -0.21  0.004853   0.83    110\n",
      "3645    -1.44     0.00    -0.21  0.004853   0.83    110\n",
      "3646    -1.47     0.00    -0.21  0.004853   0.83    110\n",
      "3647    -1.50     0.00    -0.21  0.004853   0.83    110\n",
      "\n",
      "[3648 rows x 6 columns]\n",
      "1_42ms_320W.csv\n",
      "      X_Coord  Y_Coord  Z_Coord      Temp  speed  power\n",
      "0        0.18    -0.21     0.00  0.000257   1.42    320\n",
      "1        0.15    -0.21     0.00  0.000257   1.42    320\n",
      "2        0.12    -0.21     0.00  0.000257   1.42    320\n",
      "3        0.09    -0.21     0.00  0.000257   1.42    320\n",
      "4        0.06    -0.21     0.00  0.000257   1.42    320\n",
      "...       ...      ...      ...       ...    ...    ...\n",
      "3643    -1.38     0.00    -0.21  0.006794   1.42    320\n",
      "3644    -1.41     0.00    -0.21  0.006794   1.42    320\n",
      "3645    -1.44     0.00    -0.21  0.006794   1.42    320\n",
      "3646    -1.47     0.00    -0.21  0.006794   1.42    320\n",
      "3647    -1.50     0.00    -0.21  0.006794   1.42    320\n",
      "\n",
      "[3648 rows x 6 columns]\n",
      "1_42ms_110W.csv\n",
      "      X_Coord  Y_Coord  Z_Coord      Temp  speed  power\n",
      "0        0.18    -0.21     0.00  0.000257   1.42    110\n",
      "1        0.15    -0.21     0.00  0.000257   1.42    110\n",
      "2        0.12    -0.21     0.00  0.000257   1.42    110\n",
      "3        0.09    -0.21     0.00  0.000257   1.42    110\n",
      "4        0.06    -0.21     0.00  0.000257   1.42    110\n",
      "...       ...      ...      ...       ...    ...    ...\n",
      "3643    -1.38     0.00    -0.21  0.002021   1.42    110\n",
      "3644    -1.41     0.00    -0.21  0.002021   1.42    110\n",
      "3645    -1.44     0.00    -0.21  0.002021   1.42    110\n",
      "3646    -1.47     0.00    -0.21  0.002021   1.42    110\n",
      "3647    -1.50     0.00    -0.21  0.002021   1.42    110\n",
      "\n",
      "[3648 rows x 6 columns]\n",
      "0_62ms_170W.csv\n",
      "      X_Coord  Y_Coord  Z_Coord      Temp  speed  power\n",
      "0        0.18    -0.21     0.00  0.000257   0.62    170\n",
      "1        0.15    -0.21     0.00  0.000257   0.62    170\n",
      "2        0.12    -0.21     0.00  0.000257   0.62    170\n",
      "3        0.09    -0.21     0.00  0.000257   0.62    170\n",
      "4        0.06    -0.21     0.00  0.000257   0.62    170\n",
      "...       ...      ...      ...       ...    ...    ...\n",
      "3643    -1.38     0.00    -0.21  0.012225   0.62    170\n",
      "3644    -1.41     0.00    -0.21  0.012225   0.62    170\n",
      "3645    -1.44     0.00    -0.21  0.012225   0.62    170\n",
      "3646    -1.47     0.00    -0.21  0.012225   0.62    170\n",
      "3647    -1.50     0.00    -0.21  0.012225   0.62    170\n",
      "\n",
      "[3648 rows x 6 columns]\n",
      "Melt_Pool_Dimensions.csv\n"
     ]
    },
    {
     "ename": "ValueError",
     "evalue": "could not convert string to float: 'M.lt'",
     "output_type": "error",
     "traceback": [
      "\u001b[0;31m---------------------------------------------------------------------------\u001b[0m",
      "\u001b[0;31mValueError\u001b[0m                                Traceback (most recent call last)",
      "\u001b[0;32m<ipython-input-450-98d92ea38d2b>\u001b[0m in \u001b[0;36m<module>\u001b[0;34m\u001b[0m\n\u001b[1;32m      4\u001b[0m     \u001b[0mprint\u001b[0m\u001b[0;34m(\u001b[0m\u001b[0mfile\u001b[0m\u001b[0;34m)\u001b[0m\u001b[0;34m\u001b[0m\u001b[0;34m\u001b[0m\u001b[0m\n\u001b[1;32m      5\u001b[0m     \u001b[0mdf_temp\u001b[0m \u001b[0;34m=\u001b[0m \u001b[0mpd\u001b[0m\u001b[0;34m.\u001b[0m\u001b[0mread_csv\u001b[0m\u001b[0;34m(\u001b[0m\u001b[0mwork_dir\u001b[0m \u001b[0;34m+\u001b[0m \u001b[0;34mf\"/1/Testing/{file}\"\u001b[0m\u001b[0;34m)\u001b[0m\u001b[0;34m\u001b[0m\u001b[0;34m\u001b[0m\u001b[0m\n\u001b[0;32m----> 6\u001b[0;31m     \u001b[0mdf_temp\u001b[0m\u001b[0;34m[\u001b[0m\u001b[0;34m\"speed\"\u001b[0m\u001b[0;34m]\u001b[0m \u001b[0;34m=\u001b[0m \u001b[0mfloat\u001b[0m\u001b[0;34m(\u001b[0m\u001b[0mfile\u001b[0m\u001b[0;34m[\u001b[0m\u001b[0;36m0\u001b[0m\u001b[0;34m]\u001b[0m \u001b[0;34m+\u001b[0m \u001b[0;34m\".\"\u001b[0m \u001b[0;34m+\u001b[0m \u001b[0mfile\u001b[0m\u001b[0;34m[\u001b[0m\u001b[0;36m2\u001b[0m\u001b[0;34m:\u001b[0m\u001b[0;36m4\u001b[0m\u001b[0;34m]\u001b[0m\u001b[0;34m)\u001b[0m\u001b[0;34m\u001b[0m\u001b[0;34m\u001b[0m\u001b[0m\n\u001b[0m\u001b[1;32m      7\u001b[0m     \u001b[0mdf_temp\u001b[0m\u001b[0;34m[\u001b[0m\u001b[0;34m\"power\"\u001b[0m\u001b[0;34m]\u001b[0m \u001b[0;34m=\u001b[0m \u001b[0mint\u001b[0m\u001b[0;34m(\u001b[0m\u001b[0mfile\u001b[0m\u001b[0;34m[\u001b[0m\u001b[0;34m-\u001b[0m\u001b[0;36m8\u001b[0m\u001b[0;34m:\u001b[0m\u001b[0;34m-\u001b[0m\u001b[0;36m5\u001b[0m\u001b[0;34m]\u001b[0m\u001b[0;34m)\u001b[0m\u001b[0;34m\u001b[0m\u001b[0;34m\u001b[0m\u001b[0m\n\u001b[1;32m      8\u001b[0m     \u001b[0mprint\u001b[0m\u001b[0;34m(\u001b[0m\u001b[0mdf_temp\u001b[0m\u001b[0;34m)\u001b[0m\u001b[0;34m\u001b[0m\u001b[0;34m\u001b[0m\u001b[0m\n",
      "\u001b[0;31mValueError\u001b[0m: could not convert string to float: 'M.lt'"
     ]
    }
   ],
   "source": [
    "# Predict 1a\n",
    "work_dir='.'\n",
    "for file in os.listdir(work_dir + \"/1/Testing\")[:-1]:\n",
    "    print(file)\n",
    "    df_temp = pd.read_csv(work_dir + f\"/1/Testing/{file}\")\n",
    "    df_temp[\"speed\"] = float(file[0] + \".\" + file[2:4])\n",
    "    df_temp[\"power\"] = int(file[-8:-5])\n",
    "    print(df_temp)\n",
    "    df_temp = df_temp.drop('Temp',1)\n",
    "    y_pred_temp = model_1a.predict(df_temp)\n",
    "    df_temp[\"Temp\"] = y_pred_temp\n",
    "    df_temp.drop([\"power\", \"speed\"], axis=1, inplace=True)\n",
    "    df_temp.to_csv(work_dir + f\"/1/Testing/{file}\", index=False)"
   ]
  },
  {
   "cell_type": "code",
   "execution_count": 470,
   "metadata": {},
   "outputs": [],
   "source": [
    "x = pd.read_csv('./2/Testing/Melt_Pool_Dimensions.csv')"
   ]
  },
  {
   "cell_type": "code",
   "execution_count": null,
   "metadata": {},
   "outputs": [],
   "source": []
  },
  {
   "cell_type": "code",
   "execution_count": 218,
   "metadata": {},
   "outputs": [],
   "source": [
    "x = train[(train.speed==0.7)&(train.power==150)]"
   ]
  },
  {
   "cell_type": "code",
   "execution_count": 225,
   "metadata": {},
   "outputs": [
    {
     "name": "stdout",
     "output_type": "stream",
     "text": [
      "0.03 1.08 0.18 -0.09\n",
      "0.031 1.05 0.18 -0.09\n",
      "0.032 1.02 0.18 -0.09\n",
      "0.033 0.96 0.18 -0.09\n",
      "0.034 0.93 0.18 -0.09\n",
      "0.035 0.9 0.18 -0.09\n",
      "0.036 0.87 0.18 -0.09\n",
      "0.037 0.84 0.18 -0.09\n",
      "0.038 0.81 0.18 -0.09\n",
      "0.039 0.78 0.18 -0.06\n",
      "0.04 0.75 0.18 -0.06\n",
      "0.041 0.75 0.12 -0.06\n",
      "0.042 0.72 0.12 -0.06\n",
      "0.043 0.69 0.12 -0.06\n",
      "0.044 0.69 0.12 -0.06\n",
      "0.045 0.66 0.12 -0.06\n",
      "0.046 0.66 0.12 -0.06\n",
      "0.047 0.63 0.12 -0.06\n",
      "0.048 0.63 0.12 -0.06\n",
      "0.049 0.6 0.12 -0.06\n",
      "0.05 0.6 0.12 -0.06\n",
      "0.051 0.57 0.12 -0.06\n",
      "0.052 0.57 0.12 -0.06\n",
      "0.053 0.54 0.12 -0.06\n",
      "0.054 0.54 0.12 -0.06\n",
      "0.055 0.51 0.12 -0.06\n",
      "0.056 0.48 0.12 -0.06\n",
      "0.057 0.48 0.12 -0.06\n",
      "0.058 0.45 0.12 -0.06\n",
      "0.059 0.45 0.12 -0.06\n",
      "0.06 0.42 0.12 -0.06\n",
      "0.061 0.42 0.12 -0.06\n",
      "0.062 0.39 0.12 -0.06\n",
      "0.063 0.39 0.12 -0.06\n",
      "0.064 0.39 0.06 -0.06\n",
      "0.065 0.36 0.06 -0.06\n",
      "0.066 0.36 0.06 -0.06\n",
      "0.067 0.36 0.06 -0.06\n",
      "0.068 0.33 0.06 -0.03\n",
      "0.069 0.33 0.06 -0.03\n",
      "0.07 0.33 0.06 -0.03\n",
      "0.071 0.3 0.06 -0.03\n",
      "0.072 0.3 0.06 -0.03\n",
      "0.073 0.3 0.06 -0.03\n",
      "0.074 0.3 0.06 -0.03\n",
      "0.075 0.27 0.06 -0.03\n",
      "0.076 0.27 0.06 -0.03\n",
      "0.077 0.27 0.06 -0.03\n",
      "0.078 0.27 0.06 -0.03\n",
      "0.079 0.27 0.06 -0.03\n"
     ]
    }
   ],
   "source": [
    "for i in np.arange(0.03,0.08,0.001):\n",
    "    xx = x[x.Temp>i]\n",
    "\n",
    "    print(round(i,4),round(max(xx.X_Coord)-min(xx.X_Coord),4), -2*min(xx.Y_Coord), min(xx.Z_Coord))"
   ]
  },
  {
   "cell_type": "code",
   "execution_count": 561,
   "metadata": {},
   "outputs": [
    {
     "data": {
      "text/html": [
       "<div>\n",
       "<style scoped>\n",
       "    .dataframe tbody tr th:only-of-type {\n",
       "        vertical-align: middle;\n",
       "    }\n",
       "\n",
       "    .dataframe tbody tr th {\n",
       "        vertical-align: top;\n",
       "    }\n",
       "\n",
       "    .dataframe thead th {\n",
       "        text-align: right;\n",
       "    }\n",
       "</style>\n",
       "<table border=\"1\" class=\"dataframe\">\n",
       "  <thead>\n",
       "    <tr style=\"text-align: right;\">\n",
       "      <th></th>\n",
       "      <th>Laser_Speed</th>\n",
       "      <th>Laser_Power</th>\n",
       "      <th>Edge_Angle</th>\n",
       "      <th>Edge_Distance</th>\n",
       "      <th>Laser_Direction</th>\n",
       "      <th>Melt_Pool_Length</th>\n",
       "      <th>Melt_Pool_Width</th>\n",
       "      <th>Melt_Pool_Depth</th>\n",
       "    </tr>\n",
       "  </thead>\n",
       "  <tbody>\n",
       "    <tr>\n",
       "      <th>0</th>\n",
       "      <td>0.6</td>\n",
       "      <td>100</td>\n",
       "      <td>90</td>\n",
       "      <td>0.10</td>\n",
       "      <td>-1</td>\n",
       "      <td>0.0576</td>\n",
       "      <td>0.3142</td>\n",
       "      <td>0.1141</td>\n",
       "    </tr>\n",
       "    <tr>\n",
       "      <th>1</th>\n",
       "      <td>0.6</td>\n",
       "      <td>100</td>\n",
       "      <td>90</td>\n",
       "      <td>0.13</td>\n",
       "      <td>-1</td>\n",
       "      <td>0.0297</td>\n",
       "      <td>0.3349</td>\n",
       "      <td>0.1531</td>\n",
       "    </tr>\n",
       "    <tr>\n",
       "      <th>2</th>\n",
       "      <td>0.6</td>\n",
       "      <td>100</td>\n",
       "      <td>90</td>\n",
       "      <td>0.16</td>\n",
       "      <td>-1</td>\n",
       "      <td>0.0295</td>\n",
       "      <td>0.3369</td>\n",
       "      <td>0.1669</td>\n",
       "    </tr>\n",
       "    <tr>\n",
       "      <th>3</th>\n",
       "      <td>0.6</td>\n",
       "      <td>100</td>\n",
       "      <td>90</td>\n",
       "      <td>0.19</td>\n",
       "      <td>-1</td>\n",
       "      <td>0.0492</td>\n",
       "      <td>0.3352</td>\n",
       "      <td>0.1769</td>\n",
       "    </tr>\n",
       "    <tr>\n",
       "      <th>4</th>\n",
       "      <td>0.6</td>\n",
       "      <td>100</td>\n",
       "      <td>90</td>\n",
       "      <td>0.22</td>\n",
       "      <td>-1</td>\n",
       "      <td>0.0683</td>\n",
       "      <td>0.3296</td>\n",
       "      <td>0.1761</td>\n",
       "    </tr>\n",
       "  </tbody>\n",
       "</table>\n",
       "</div>"
      ],
      "text/plain": [
       "   Laser_Speed  Laser_Power  Edge_Angle  Edge_Distance  Laser_Direction  \\\n",
       "0          0.6          100          90           0.10               -1   \n",
       "1          0.6          100          90           0.13               -1   \n",
       "2          0.6          100          90           0.16               -1   \n",
       "3          0.6          100          90           0.19               -1   \n",
       "4          0.6          100          90           0.22               -1   \n",
       "\n",
       "   Melt_Pool_Length  Melt_Pool_Width  Melt_Pool_Depth  \n",
       "0            0.0576           0.3142           0.1141  \n",
       "1            0.0297           0.3349           0.1531  \n",
       "2            0.0295           0.3369           0.1669  \n",
       "3            0.0492           0.3352           0.1769  \n",
       "4            0.0683           0.3296           0.1761  "
      ]
     },
     "execution_count": 561,
     "metadata": {},
     "output_type": "execute_result"
    }
   ],
   "source": [
    "x = pd.read_csv('Melt_Pool_Dimensions_2.csv')\n",
    "y = pd.read_csv('./2/Testing/Melt_Pool_Dimensions.csv')\n",
    "cv = pd.read_csv('Melt_Pool_Dimensions_2_cv.csv')\n",
    "x.head()"
   ]
  },
  {
   "cell_type": "code",
   "execution_count": 562,
   "metadata": {},
   "outputs": [],
   "source": [
    "x = x.assign(volumn=lambda x: 1/np.sin(x.Edge_Angle/180*np.pi)*x.Edge_Distance**3)\n",
    "x = x.assign(surface=lambda x: 1/np.sin(x.Edge_Angle/180*np.pi)*x.Edge_Distance**2)\n",
    "x = x.assign(distance=lambda x: 1/np.sin(x.Edge_Angle/180*np.pi)*x.Edge_Distance**1)\n",
    "x = x.assign(sin=lambda x: 1/np.sin(x.Edge_Angle/180*np.pi))\n",
    "\n",
    "y = y.assign(volumn=lambda x: 1/np.sin(x.Edge_Angle/180*np.pi)*x.Edge_Distance**3)\n",
    "y = y.assign(surface=lambda x: 1/np.sin(x.Edge_Angle/180*np.pi)*x.Edge_Distance**2)\n",
    "y = y.assign(distance=lambda x: 1/np.sin(x.Edge_Angle/180*np.pi)*x.Edge_Distance**1)\n",
    "y = y.assign(sin=lambda x: 1/np.sin(x.Edge_Angle/180*np.pi))"
   ]
  },
  {
   "cell_type": "code",
   "execution_count": 563,
   "metadata": {},
   "outputs": [
    {
     "data": {
      "text/html": [
       "<div>\n",
       "<style scoped>\n",
       "    .dataframe tbody tr th:only-of-type {\n",
       "        vertical-align: middle;\n",
       "    }\n",
       "\n",
       "    .dataframe tbody tr th {\n",
       "        vertical-align: top;\n",
       "    }\n",
       "\n",
       "    .dataframe thead th {\n",
       "        text-align: right;\n",
       "    }\n",
       "</style>\n",
       "<table border=\"1\" class=\"dataframe\">\n",
       "  <thead>\n",
       "    <tr style=\"text-align: right;\">\n",
       "      <th></th>\n",
       "      <th>Laser_Speed</th>\n",
       "      <th>Laser_Power</th>\n",
       "      <th>Edge_Angle</th>\n",
       "      <th>Edge_Distance</th>\n",
       "      <th>Laser_Direction</th>\n",
       "      <th>Melt_Pool_Length</th>\n",
       "      <th>Melt_Pool_Width</th>\n",
       "      <th>Melt_Pool_Depth</th>\n",
       "      <th>volumn</th>\n",
       "      <th>surface</th>\n",
       "      <th>distance</th>\n",
       "      <th>sin</th>\n",
       "    </tr>\n",
       "  </thead>\n",
       "  <tbody>\n",
       "    <tr>\n",
       "      <th>0</th>\n",
       "      <td>0.6</td>\n",
       "      <td>100</td>\n",
       "      <td>90</td>\n",
       "      <td>0.10</td>\n",
       "      <td>-1</td>\n",
       "      <td>0.0576</td>\n",
       "      <td>0.3142</td>\n",
       "      <td>0.1141</td>\n",
       "      <td>0.001000</td>\n",
       "      <td>0.0100</td>\n",
       "      <td>0.10</td>\n",
       "      <td>1.0</td>\n",
       "    </tr>\n",
       "    <tr>\n",
       "      <th>1</th>\n",
       "      <td>0.6</td>\n",
       "      <td>100</td>\n",
       "      <td>90</td>\n",
       "      <td>0.13</td>\n",
       "      <td>-1</td>\n",
       "      <td>0.0297</td>\n",
       "      <td>0.3349</td>\n",
       "      <td>0.1531</td>\n",
       "      <td>0.002197</td>\n",
       "      <td>0.0169</td>\n",
       "      <td>0.13</td>\n",
       "      <td>1.0</td>\n",
       "    </tr>\n",
       "    <tr>\n",
       "      <th>2</th>\n",
       "      <td>0.6</td>\n",
       "      <td>100</td>\n",
       "      <td>90</td>\n",
       "      <td>0.16</td>\n",
       "      <td>-1</td>\n",
       "      <td>0.0295</td>\n",
       "      <td>0.3369</td>\n",
       "      <td>0.1669</td>\n",
       "      <td>0.004096</td>\n",
       "      <td>0.0256</td>\n",
       "      <td>0.16</td>\n",
       "      <td>1.0</td>\n",
       "    </tr>\n",
       "    <tr>\n",
       "      <th>3</th>\n",
       "      <td>0.6</td>\n",
       "      <td>100</td>\n",
       "      <td>90</td>\n",
       "      <td>0.19</td>\n",
       "      <td>-1</td>\n",
       "      <td>0.0492</td>\n",
       "      <td>0.3352</td>\n",
       "      <td>0.1769</td>\n",
       "      <td>0.006859</td>\n",
       "      <td>0.0361</td>\n",
       "      <td>0.19</td>\n",
       "      <td>1.0</td>\n",
       "    </tr>\n",
       "    <tr>\n",
       "      <th>4</th>\n",
       "      <td>0.6</td>\n",
       "      <td>100</td>\n",
       "      <td>90</td>\n",
       "      <td>0.22</td>\n",
       "      <td>-1</td>\n",
       "      <td>0.0683</td>\n",
       "      <td>0.3296</td>\n",
       "      <td>0.1761</td>\n",
       "      <td>0.010648</td>\n",
       "      <td>0.0484</td>\n",
       "      <td>0.22</td>\n",
       "      <td>1.0</td>\n",
       "    </tr>\n",
       "  </tbody>\n",
       "</table>\n",
       "</div>"
      ],
      "text/plain": [
       "   Laser_Speed  Laser_Power  Edge_Angle  Edge_Distance  Laser_Direction  \\\n",
       "0          0.6          100          90           0.10               -1   \n",
       "1          0.6          100          90           0.13               -1   \n",
       "2          0.6          100          90           0.16               -1   \n",
       "3          0.6          100          90           0.19               -1   \n",
       "4          0.6          100          90           0.22               -1   \n",
       "\n",
       "   Melt_Pool_Length  Melt_Pool_Width  Melt_Pool_Depth    volumn  surface  \\\n",
       "0            0.0576           0.3142           0.1141  0.001000   0.0100   \n",
       "1            0.0297           0.3349           0.1531  0.002197   0.0169   \n",
       "2            0.0295           0.3369           0.1669  0.004096   0.0256   \n",
       "3            0.0492           0.3352           0.1769  0.006859   0.0361   \n",
       "4            0.0683           0.3296           0.1761  0.010648   0.0484   \n",
       "\n",
       "   distance  sin  \n",
       "0      0.10  1.0  \n",
       "1      0.13  1.0  \n",
       "2      0.16  1.0  \n",
       "3      0.19  1.0  \n",
       "4      0.22  1.0  "
      ]
     },
     "execution_count": 563,
     "metadata": {},
     "output_type": "execute_result"
    }
   ],
   "source": [
    "x.head()"
   ]
  },
  {
   "cell_type": "code",
   "execution_count": 528,
   "metadata": {},
   "outputs": [],
   "source": [
    "ss=[0.8,0.9]\n",
    "ps=[150,200]\n",
    "x2 = x[(x.Edge_Angle==70)|(x.Laser_Speed==0.9)|(x.Laser_Power==150)]\n",
    "x1 = x[(x.Edge_Angle!=70)&(x.Laser_Speed!=0.9)&(x.Laser_Power!=150)]"
   ]
  },
  {
   "cell_type": "code",
   "execution_count": 564,
   "metadata": {
    "scrolled": true
   },
   "outputs": [
    {
     "name": "stderr",
     "output_type": "stream",
     "text": [
      "/Users/zysophia/anaconda3/lib/python3.7/site-packages/sklearn/ensemble/forest.py:245: FutureWarning: The default value of n_estimators will change from 10 in version 0.20 to 100 in 0.22.\n",
      "  \"10 in version 0.20 to 100 in 0.22.\", FutureWarning)\n"
     ]
    },
    {
     "name": "stdout",
     "output_type": "stream",
     "text": [
      "0.0\n"
     ]
    },
    {
     "name": "stderr",
     "output_type": "stream",
     "text": [
      "/Users/zysophia/anaconda3/lib/python3.7/site-packages/sklearn/ensemble/forest.py:245: FutureWarning: The default value of n_estimators will change from 10 in version 0.20 to 100 in 0.22.\n",
      "  \"10 in version 0.20 to 100 in 0.22.\", FutureWarning)\n"
     ]
    },
    {
     "name": "stdout",
     "output_type": "stream",
     "text": [
      "0.0\n"
     ]
    },
    {
     "name": "stderr",
     "output_type": "stream",
     "text": [
      "/Users/zysophia/anaconda3/lib/python3.7/site-packages/sklearn/ensemble/forest.py:245: FutureWarning: The default value of n_estimators will change from 10 in version 0.20 to 100 in 0.22.\n",
      "  \"10 in version 0.20 to 100 in 0.22.\", FutureWarning)\n"
     ]
    },
    {
     "name": "stdout",
     "output_type": "stream",
     "text": [
      "0.0\n"
     ]
    }
   ],
   "source": [
    "ts = ['Melt_Pool_Depth', 'Melt_Pool_Width', 'Melt_Pool_Length']\n",
    "df = y\n",
    "for t in ts:\n",
    "    mod = RandomForestRegressor()\n",
    "    mod.fit(x.drop(['Melt_Pool_Depth', 'Melt_Pool_Width', 'Melt_Pool_Length'],1), x[t])\n",
    "    print(mod.score(y.drop(['Melt_Pool_Depth', 'Melt_Pool_Width', 'Melt_Pool_Length'],1), y[t]))\n",
    "    df[t] = mod.predict(y.drop(['Melt_Pool_Depth', 'Melt_Pool_Width', 'Melt_Pool_Length'],1))"
   ]
  },
  {
   "cell_type": "code",
   "execution_count": null,
   "metadata": {},
   "outputs": [],
   "source": []
  },
  {
   "cell_type": "code",
   "execution_count": 565,
   "metadata": {},
   "outputs": [
    {
     "data": {
      "text/plain": [
       "array([6.57465370e-03, 3.31880732e-02, 1.61288246e-04, 4.81541980e-02,\n",
       "       8.29674189e-03, 3.48422085e-02, 9.78215167e-02, 7.70810399e-01,\n",
       "       1.50921037e-04])"
      ]
     },
     "execution_count": 565,
     "metadata": {},
     "output_type": "execute_result"
    }
   ],
   "source": [
    "mod.feature_importances_"
   ]
  },
  {
   "cell_type": "code",
   "execution_count": null,
   "metadata": {},
   "outputs": [],
   "source": []
  },
  {
   "cell_type": "code",
   "execution_count": 566,
   "metadata": {},
   "outputs": [],
   "source": [
    "df.to_csv('model2b_test_rf.csv')"
   ]
  },
  {
   "cell_type": "code",
   "execution_count": 419,
   "metadata": {},
   "outputs": [
    {
     "name": "stderr",
     "output_type": "stream",
     "text": [
      "/Users/zysophia/anaconda3/lib/python3.7/site-packages/sklearn/ensemble/forest.py:245: FutureWarning: The default value of n_estimators will change from 10 in version 0.20 to 100 in 0.22.\n",
      "  \"10 in version 0.20 to 100 in 0.22.\", FutureWarning)\n"
     ]
    },
    {
     "data": {
      "text/plain": [
       "0.9436021700935351"
      ]
     },
     "execution_count": 419,
     "metadata": {},
     "output_type": "execute_result"
    }
   ],
   "source": [
    "mod = RandomForestRegressor()\n",
    "mod.fit(x2.drop(['Melt_Pool_Depth', 'Melt_Pool_Width', 'Melt_Pool_Length'],1), x2['Melt_Pool_Width'])\n",
    "mod.score(x1.drop(['Melt_Pool_Depth', 'Melt_Pool_Width', 'Melt_Pool_Length'],1), x1['Melt_Pool_Width'])"
   ]
  },
  {
   "cell_type": "code",
   "execution_count": 417,
   "metadata": {},
   "outputs": [
    {
     "data": {
      "text/html": [
       "<div>\n",
       "<style scoped>\n",
       "    .dataframe tbody tr th:only-of-type {\n",
       "        vertical-align: middle;\n",
       "    }\n",
       "\n",
       "    .dataframe tbody tr th {\n",
       "        vertical-align: top;\n",
       "    }\n",
       "\n",
       "    .dataframe thead th {\n",
       "        text-align: right;\n",
       "    }\n",
       "</style>\n",
       "<table border=\"1\" class=\"dataframe\">\n",
       "  <thead>\n",
       "    <tr style=\"text-align: right;\">\n",
       "      <th></th>\n",
       "      <th>Laser_Speed</th>\n",
       "      <th>Laser_Power</th>\n",
       "      <th>Melt_Pool_Length</th>\n",
       "      <th>Melt_Pool_Width</th>\n",
       "      <th>Melt_Pool_Depth</th>\n",
       "    </tr>\n",
       "  </thead>\n",
       "  <tbody>\n",
       "    <tr>\n",
       "      <th>0</th>\n",
       "      <td>0.65</td>\n",
       "      <td>250</td>\n",
       "      <td>0.5172</td>\n",
       "      <td>0.6458</td>\n",
       "      <td>0.6286</td>\n",
       "    </tr>\n",
       "    <tr>\n",
       "      <th>1</th>\n",
       "      <td>0.65</td>\n",
       "      <td>400</td>\n",
       "      <td>0.9825</td>\n",
       "      <td>0.9500</td>\n",
       "      <td>0.9493</td>\n",
       "    </tr>\n",
       "    <tr>\n",
       "      <th>2</th>\n",
       "      <td>0.70</td>\n",
       "      <td>325</td>\n",
       "      <td>0.7503</td>\n",
       "      <td>0.7618</td>\n",
       "      <td>0.7440</td>\n",
       "    </tr>\n",
       "    <tr>\n",
       "      <th>3</th>\n",
       "      <td>0.80</td>\n",
       "      <td>200</td>\n",
       "      <td>0.3563</td>\n",
       "      <td>0.4269</td>\n",
       "      <td>0.4157</td>\n",
       "    </tr>\n",
       "    <tr>\n",
       "      <th>4</th>\n",
       "      <td>0.80</td>\n",
       "      <td>225</td>\n",
       "      <td>0.4343</td>\n",
       "      <td>0.4929</td>\n",
       "      <td>0.4766</td>\n",
       "    </tr>\n",
       "    <tr>\n",
       "      <th>5</th>\n",
       "      <td>0.85</td>\n",
       "      <td>200</td>\n",
       "      <td>0.3590</td>\n",
       "      <td>0.3968</td>\n",
       "      <td>0.3891</td>\n",
       "    </tr>\n",
       "    <tr>\n",
       "      <th>6</th>\n",
       "      <td>0.85</td>\n",
       "      <td>325</td>\n",
       "      <td>0.7500</td>\n",
       "      <td>0.6470</td>\n",
       "      <td>0.6299</td>\n",
       "    </tr>\n",
       "    <tr>\n",
       "      <th>7</th>\n",
       "      <td>0.85</td>\n",
       "      <td>375</td>\n",
       "      <td>0.9040</td>\n",
       "      <td>0.7260</td>\n",
       "      <td>0.7085</td>\n",
       "    </tr>\n",
       "    <tr>\n",
       "      <th>8</th>\n",
       "      <td>0.90</td>\n",
       "      <td>300</td>\n",
       "      <td>0.6747</td>\n",
       "      <td>0.5827</td>\n",
       "      <td>0.5640</td>\n",
       "    </tr>\n",
       "    <tr>\n",
       "      <th>9</th>\n",
       "      <td>0.95</td>\n",
       "      <td>125</td>\n",
       "      <td>0.1317</td>\n",
       "      <td>0.2257</td>\n",
       "      <td>0.2205</td>\n",
       "    </tr>\n",
       "    <tr>\n",
       "      <th>10</th>\n",
       "      <td>1.00</td>\n",
       "      <td>100</td>\n",
       "      <td>0.0462</td>\n",
       "      <td>0.1342</td>\n",
       "      <td>0.1381</td>\n",
       "    </tr>\n",
       "    <tr>\n",
       "      <th>11</th>\n",
       "      <td>1.00</td>\n",
       "      <td>250</td>\n",
       "      <td>0.5176</td>\n",
       "      <td>0.4241</td>\n",
       "      <td>0.4157</td>\n",
       "    </tr>\n",
       "    <tr>\n",
       "      <th>12</th>\n",
       "      <td>1.00</td>\n",
       "      <td>350</td>\n",
       "      <td>0.8290</td>\n",
       "      <td>0.6038</td>\n",
       "      <td>0.5856</td>\n",
       "    </tr>\n",
       "    <tr>\n",
       "      <th>13</th>\n",
       "      <td>1.05</td>\n",
       "      <td>250</td>\n",
       "      <td>0.5225</td>\n",
       "      <td>0.4059</td>\n",
       "      <td>0.4005</td>\n",
       "    </tr>\n",
       "    <tr>\n",
       "      <th>14</th>\n",
       "      <td>1.05</td>\n",
       "      <td>325</td>\n",
       "      <td>0.7539</td>\n",
       "      <td>0.5492</td>\n",
       "      <td>0.5298</td>\n",
       "    </tr>\n",
       "    <tr>\n",
       "      <th>15</th>\n",
       "      <td>1.05</td>\n",
       "      <td>375</td>\n",
       "      <td>0.9091</td>\n",
       "      <td>0.6163</td>\n",
       "      <td>0.5995</td>\n",
       "    </tr>\n",
       "    <tr>\n",
       "      <th>16</th>\n",
       "      <td>1.05</td>\n",
       "      <td>400</td>\n",
       "      <td>0.9854</td>\n",
       "      <td>0.6464</td>\n",
       "      <td>0.6286</td>\n",
       "    </tr>\n",
       "    <tr>\n",
       "      <th>17</th>\n",
       "      <td>1.20</td>\n",
       "      <td>275</td>\n",
       "      <td>0.6008</td>\n",
       "      <td>0.3843</td>\n",
       "      <td>0.3866</td>\n",
       "    </tr>\n",
       "    <tr>\n",
       "      <th>18</th>\n",
       "      <td>1.25</td>\n",
       "      <td>300</td>\n",
       "      <td>0.6796</td>\n",
       "      <td>0.4036</td>\n",
       "      <td>0.3980</td>\n",
       "    </tr>\n",
       "    <tr>\n",
       "      <th>19</th>\n",
       "      <td>1.35</td>\n",
       "      <td>125</td>\n",
       "      <td>0.1130</td>\n",
       "      <td>0.1080</td>\n",
       "      <td>0.1027</td>\n",
       "    </tr>\n",
       "    <tr>\n",
       "      <th>20</th>\n",
       "      <td>1.40</td>\n",
       "      <td>175</td>\n",
       "      <td>0.3177</td>\n",
       "      <td>0.2172</td>\n",
       "      <td>0.2142</td>\n",
       "    </tr>\n",
       "    <tr>\n",
       "      <th>21</th>\n",
       "      <td>1.50</td>\n",
       "      <td>225</td>\n",
       "      <td>0.4618</td>\n",
       "      <td>0.2661</td>\n",
       "      <td>0.2522</td>\n",
       "    </tr>\n",
       "  </tbody>\n",
       "</table>\n",
       "</div>"
      ],
      "text/plain": [
       "    Laser_Speed  Laser_Power  Melt_Pool_Length  Melt_Pool_Width  \\\n",
       "0          0.65          250            0.5172           0.6458   \n",
       "1          0.65          400            0.9825           0.9500   \n",
       "2          0.70          325            0.7503           0.7618   \n",
       "3          0.80          200            0.3563           0.4269   \n",
       "4          0.80          225            0.4343           0.4929   \n",
       "5          0.85          200            0.3590           0.3968   \n",
       "6          0.85          325            0.7500           0.6470   \n",
       "7          0.85          375            0.9040           0.7260   \n",
       "8          0.90          300            0.6747           0.5827   \n",
       "9          0.95          125            0.1317           0.2257   \n",
       "10         1.00          100            0.0462           0.1342   \n",
       "11         1.00          250            0.5176           0.4241   \n",
       "12         1.00          350            0.8290           0.6038   \n",
       "13         1.05          250            0.5225           0.4059   \n",
       "14         1.05          325            0.7539           0.5492   \n",
       "15         1.05          375            0.9091           0.6163   \n",
       "16         1.05          400            0.9854           0.6464   \n",
       "17         1.20          275            0.6008           0.3843   \n",
       "18         1.25          300            0.6796           0.4036   \n",
       "19         1.35          125            0.1130           0.1080   \n",
       "20         1.40          175            0.3177           0.2172   \n",
       "21         1.50          225            0.4618           0.2661   \n",
       "\n",
       "    Melt_Pool_Depth  \n",
       "0            0.6286  \n",
       "1            0.9493  \n",
       "2            0.7440  \n",
       "3            0.4157  \n",
       "4            0.4766  \n",
       "5            0.3891  \n",
       "6            0.6299  \n",
       "7            0.7085  \n",
       "8            0.5640  \n",
       "9            0.2205  \n",
       "10           0.1381  \n",
       "11           0.4157  \n",
       "12           0.5856  \n",
       "13           0.4005  \n",
       "14           0.5298  \n",
       "15           0.5995  \n",
       "16           0.6286  \n",
       "17           0.3866  \n",
       "18           0.3980  \n",
       "19           0.1027  \n",
       "20           0.2142  \n",
       "21           0.2522  "
      ]
     },
     "execution_count": 417,
     "metadata": {},
     "output_type": "execute_result"
    }
   ],
   "source": [
    "x3 = pd.read_csv('Melt_Pool_Dimensions_cv.csv')\n",
    "x3"
   ]
  },
  {
   "cell_type": "code",
   "execution_count": 420,
   "metadata": {},
   "outputs": [
    {
     "data": {
      "text/plain": [
       "0.9947279048928035"
      ]
     },
     "execution_count": 420,
     "metadata": {},
     "output_type": "execute_result"
    }
   ],
   "source": [
    "mod.score(x3.drop(['Melt_Pool_Depth', 'Melt_Pool_Width', 'Melt_Pool_Length'],1), x3['Melt_Pool_Width'])"
   ]
  },
  {
   "cell_type": "code",
   "execution_count": 127,
   "metadata": {},
   "outputs": [
    {
     "data": {
      "text/plain": [
       "<matplotlib.collections.PathCollection at 0x12a66b588>"
      ]
     },
     "execution_count": 127,
     "metadata": {},
     "output_type": "execute_result"
    },
    {
     "data": {
      "image/png": "[encoded data removed]",
      "text/plain": [
       "<Figure size 432x288 with 1 Axes>"
      ]
     },
     "metadata": {
      "needs_background": "light"
     },
     "output_type": "display_data"
    }
   ],
   "source": [
    "plt.scatter(x3['Melt_Pool_Depth'],mod.predict(x3[['Laser_Speed', 'Laser_Power']]))"
   ]
  },
  {
   "cell_type": "code",
   "execution_count": 300,
   "metadata": {},
   "outputs": [],
   "source": [
    "import matplotlib.pyplot as plt\n",
    "from sklearn.metrics import r2_score, mean_squared_error"
   ]
  },
  {
   "cell_type": "code",
   "execution_count": 549,
   "metadata": {},
   "outputs": [],
   "source": [
    "train = pd.read_csv('random_samples_temp_50.csv').drop('Unnamed: 0',1)\n",
    "test = pd.read_csv('random_samples_temp_10.csv').drop('Unnamed: 0',1)"
   ]
  },
  {
   "cell_type": "code",
   "execution_count": 337,
   "metadata": {},
   "outputs": [],
   "source": [
    "train=train[train['Laser_Direction']==-1]\n",
    "test=test[test['Laser_Direction']==-1]"
   ]
  },
  {
   "cell_type": "code",
   "execution_count": 548,
   "metadata": {},
   "outputs": [],
   "source": [
    "train = train.assign(inv_d1=lambda x: 1/(x.X_Coord**2+x.Y_Coord**2+x.Z_Coord**2))\n",
    "test = test.assign(inv_d1=lambda x: 1/(x.X_Coord**2+x.Y_Coord**2+x.Z_Coord**2))"
   ]
  },
  {
   "cell_type": "code",
   "execution_count": 365,
   "metadata": {},
   "outputs": [],
   "source": [
    "train = train.assign(inv_d2=lambda x: 1/x.Edge_Distance)\n",
    "test = test.assign(inv_d2=lambda x: 1/x.Edge_Distance)"
   ]
  },
  {
   "cell_type": "code",
   "execution_count": 550,
   "metadata": {},
   "outputs": [],
   "source": [
    "train = train.assign(surface=lambda x: 1/np.sin(x.LasAngle/180*np.pi)*x.Edge_Distance**2)\n",
    "test = test.assign(surface=lambda x: 1/np.sin(x.LasAngle/180*np.pi)*x.Edge_Distance**2)"
   ]
  },
  {
   "cell_type": "code",
   "execution_count": 551,
   "metadata": {},
   "outputs": [],
   "source": [
    "train = train.assign(volumn=lambda x: 1/np.sin(x.LasAngle/180*np.pi)*x.Edge_Distance**3)\n",
    "test = test.assign(volumn=lambda x: 1/np.sin(x.LasAngle/180*np.pi)*x.Edge_Distance**3)"
   ]
  },
  {
   "cell_type": "code",
   "execution_count": 552,
   "metadata": {},
   "outputs": [],
   "source": [
    "train = train.assign(distance=lambda x: 1/np.sin(x.LasAngle/180*np.pi)*x.Edge_Distance**1)\n",
    "test = test.assign(distance=lambda x: 1/np.sin(x.LasAngle/180*np.pi)*x.Edge_Distance**1)"
   ]
  },
  {
   "cell_type": "code",
   "execution_count": 553,
   "metadata": {},
   "outputs": [],
   "source": [
    "train = train.assign(sin=lambda x: 1/np.sin(x.LasAngle/180*np.pi)*x.Edge_Distance**0)\n",
    "test = test.assign(sin=lambda x: 1/np.sin(x.LasAngle/180*np.pi)*x.Edge_Distance**0)"
   ]
  },
  {
   "cell_type": "code",
   "execution_count": 554,
   "metadata": {},
   "outputs": [
    {
     "name": "stderr",
     "output_type": "stream",
     "text": [
      "/Users/zysophia/anaconda3/lib/python3.7/site-packages/sklearn/ensemble/forest.py:245: FutureWarning: The default value of n_estimators will change from 10 in version 0.20 to 100 in 0.22.\n",
      "  \"10 in version 0.20 to 100 in 0.22.\", FutureWarning)\n"
     ]
    },
    {
     "data": {
      "text/plain": [
       "0.9226064387189015"
      ]
     },
     "execution_count": 554,
     "metadata": {},
     "output_type": "execute_result"
    }
   ],
   "source": [
    "mod = RandomForestRegressor(n_jobs=-1)\n",
    "mod.fit(train.drop('Temp',axis=1), train['Temp'])\n",
    "mod.score(test.drop('Temp',axis=1), test['Temp'])\n"
   ]
  },
  {
   "cell_type": "code",
   "execution_count": 555,
   "metadata": {},
   "outputs": [
    {
     "data": {
      "text/plain": [
       "0.9288190337623194"
      ]
     },
     "execution_count": 555,
     "metadata": {},
     "output_type": "execute_result"
    }
   ],
   "source": [
    "r2_score(mod.predict(test.drop('Temp',axis=1)), test['Temp'])"
   ]
  },
  {
   "cell_type": "code",
   "execution_count": 556,
   "metadata": {},
   "outputs": [
    {
     "data": {
      "text/plain": [
       "6.979240544074113e-05"
      ]
     },
     "execution_count": 556,
     "metadata": {},
     "output_type": "execute_result"
    }
   ],
   "source": [
    "mean_squared_error(mod.predict(test.drop('Temp',axis=1)), test['Temp'])"
   ]
  },
  {
   "cell_type": "code",
   "execution_count": 557,
   "metadata": {},
   "outputs": [
    {
     "data": {
      "text/plain": [
       "array([0.2308322 , 0.36963364, 0.20407366, 0.01028999, 0.00129974,\n",
       "       0.06886451, 0.05736078, 0.00070247, 0.02172038, 0.0176983 ,\n",
       "       0.01691689, 0.00060743])"
      ]
     },
     "execution_count": 557,
     "metadata": {},
     "output_type": "execute_result"
    }
   ],
   "source": [
    "mod.feature_importances_"
   ]
  },
  {
   "cell_type": "code",
   "execution_count": 558,
   "metadata": {},
   "outputs": [
    {
     "data": {
      "text/html": [
       "<div>\n",
       "<style scoped>\n",
       "    .dataframe tbody tr th:only-of-type {\n",
       "        vertical-align: middle;\n",
       "    }\n",
       "\n",
       "    .dataframe tbody tr th {\n",
       "        vertical-align: top;\n",
       "    }\n",
       "\n",
       "    .dataframe thead th {\n",
       "        text-align: right;\n",
       "    }\n",
       "</style>\n",
       "<table border=\"1\" class=\"dataframe\">\n",
       "  <thead>\n",
       "    <tr style=\"text-align: right;\">\n",
       "      <th></th>\n",
       "      <th>X_Coord</th>\n",
       "      <th>Y_Coord</th>\n",
       "      <th>Z_Coord</th>\n",
       "      <th>Edge_Distance</th>\n",
       "      <th>Laser_Direction</th>\n",
       "      <th>Temp</th>\n",
       "      <th>LasPower</th>\n",
       "      <th>LasSpeed</th>\n",
       "      <th>LasAngle</th>\n",
       "      <th>surface</th>\n",
       "      <th>volumn</th>\n",
       "      <th>distance</th>\n",
       "      <th>sin</th>\n",
       "    </tr>\n",
       "  </thead>\n",
       "  <tbody>\n",
       "    <tr>\n",
       "      <th>0</th>\n",
       "      <td>0.176231</td>\n",
       "      <td>-0.200626</td>\n",
       "      <td>0.00</td>\n",
       "      <td>0.0658</td>\n",
       "      <td>-1</td>\n",
       "      <td>0.00091</td>\n",
       "      <td>200.0</td>\n",
       "      <td>0.6</td>\n",
       "      <td>70</td>\n",
       "      <td>0.004608</td>\n",
       "      <td>0.000303</td>\n",
       "      <td>0.070023</td>\n",
       "      <td>1.064178</td>\n",
       "    </tr>\n",
       "    <tr>\n",
       "      <th>1</th>\n",
       "      <td>0.176231</td>\n",
       "      <td>-0.200626</td>\n",
       "      <td>-0.03</td>\n",
       "      <td>0.0658</td>\n",
       "      <td>-1</td>\n",
       "      <td>0.00088</td>\n",
       "      <td>200.0</td>\n",
       "      <td>0.6</td>\n",
       "      <td>70</td>\n",
       "      <td>0.004608</td>\n",
       "      <td>0.000303</td>\n",
       "      <td>0.070023</td>\n",
       "      <td>1.064178</td>\n",
       "    </tr>\n",
       "    <tr>\n",
       "      <th>2</th>\n",
       "      <td>0.176231</td>\n",
       "      <td>-0.200626</td>\n",
       "      <td>-0.06</td>\n",
       "      <td>0.0658</td>\n",
       "      <td>-1</td>\n",
       "      <td>0.00078</td>\n",
       "      <td>200.0</td>\n",
       "      <td>0.6</td>\n",
       "      <td>70</td>\n",
       "      <td>0.004608</td>\n",
       "      <td>0.000303</td>\n",
       "      <td>0.070023</td>\n",
       "      <td>1.064178</td>\n",
       "    </tr>\n",
       "    <tr>\n",
       "      <th>3</th>\n",
       "      <td>0.176231</td>\n",
       "      <td>-0.200626</td>\n",
       "      <td>-0.09</td>\n",
       "      <td>0.0658</td>\n",
       "      <td>-1</td>\n",
       "      <td>0.00072</td>\n",
       "      <td>200.0</td>\n",
       "      <td>0.6</td>\n",
       "      <td>70</td>\n",
       "      <td>0.004608</td>\n",
       "      <td>0.000303</td>\n",
       "      <td>0.070023</td>\n",
       "      <td>1.064178</td>\n",
       "    </tr>\n",
       "    <tr>\n",
       "      <th>4</th>\n",
       "      <td>0.176231</td>\n",
       "      <td>-0.200626</td>\n",
       "      <td>-0.12</td>\n",
       "      <td>0.0658</td>\n",
       "      <td>-1</td>\n",
       "      <td>0.00068</td>\n",
       "      <td>200.0</td>\n",
       "      <td>0.6</td>\n",
       "      <td>70</td>\n",
       "      <td>0.004608</td>\n",
       "      <td>0.000303</td>\n",
       "      <td>0.070023</td>\n",
       "      <td>1.064178</td>\n",
       "    </tr>\n",
       "  </tbody>\n",
       "</table>\n",
       "</div>"
      ],
      "text/plain": [
       "    X_Coord   Y_Coord  Z_Coord  Edge_Distance  Laser_Direction     Temp  \\\n",
       "0  0.176231 -0.200626     0.00         0.0658               -1  0.00091   \n",
       "1  0.176231 -0.200626    -0.03         0.0658               -1  0.00088   \n",
       "2  0.176231 -0.200626    -0.06         0.0658               -1  0.00078   \n",
       "3  0.176231 -0.200626    -0.09         0.0658               -1  0.00072   \n",
       "4  0.176231 -0.200626    -0.12         0.0658               -1  0.00068   \n",
       "\n",
       "   LasPower  LasSpeed  LasAngle   surface    volumn  distance       sin  \n",
       "0     200.0       0.6        70  0.004608  0.000303  0.070023  1.064178  \n",
       "1     200.0       0.6        70  0.004608  0.000303  0.070023  1.064178  \n",
       "2     200.0       0.6        70  0.004608  0.000303  0.070023  1.064178  \n",
       "3     200.0       0.6        70  0.004608  0.000303  0.070023  1.064178  \n",
       "4     200.0       0.6        70  0.004608  0.000303  0.070023  1.064178  "
      ]
     },
     "execution_count": 558,
     "metadata": {},
     "output_type": "execute_result"
    }
   ],
   "source": [
    "train.head()"
   ]
  },
  {
   "cell_type": "code",
   "execution_count": null,
   "metadata": {},
   "outputs": [],
   "source": []
  },
  {
   "cell_type": "code",
   "execution_count": 201,
   "metadata": {},
   "outputs": [
    {
     "data": {
      "text/plain": [
       "<matplotlib.collections.PathCollection at 0x12a7e8cf8>"
      ]
     },
     "execution_count": 201,
     "metadata": {},
     "output_type": "execute_result"
    },
    {
     "data": {
      "image/png": "[encoded data removed]",
      "text/plain": [
       "<Figure size 432x288 with 1 Axes>"
      ]
     },
     "metadata": {
      "needs_background": "light"
     },
     "output_type": "display_data"
    }
   ],
   "source": [
    "plt.scatter(test[test['Laser_Direction']==-1]['Temp'],mod.predict(test[test['Laser_Direction']==-1].drop('Temp',axis=1)))"
   ]
  },
  {
   "cell_type": "code",
   "execution_count": 151,
   "metadata": {},
   "outputs": [
    {
     "data": {
      "text/plain": [
       "<matplotlib.collections.PathCollection at 0x1237424a8>"
      ]
     },
     "execution_count": 151,
     "metadata": {},
     "output_type": "execute_result"
    },
    {
     "data": {
      "image/png": "[encoded data removed]",
      "text/plain": [
       "<Figure size 432x288 with 1 Axes>"
      ]
     },
     "metadata": {
      "needs_background": "light"
     },
     "output_type": "display_data"
    }
   ],
   "source": [
    "plt.scatter(test[test['Laser_Direction']==1]['Temp'],mod.predict(test[test['Laser_Direction']==1].drop('Temp',axis=1)))"
   ]
  },
  {
   "cell_type": "code",
   "execution_count": 147,
   "metadata": {},
   "outputs": [
    {
     "data": {
      "text/html": [
       "<div>\n",
       "<style scoped>\n",
       "    .dataframe tbody tr th:only-of-type {\n",
       "        vertical-align: middle;\n",
       "    }\n",
       "\n",
       "    .dataframe tbody tr th {\n",
       "        vertical-align: top;\n",
       "    }\n",
       "\n",
       "    .dataframe thead th {\n",
       "        text-align: right;\n",
       "    }\n",
       "</style>\n",
       "<table border=\"1\" class=\"dataframe\">\n",
       "  <thead>\n",
       "    <tr style=\"text-align: right;\">\n",
       "      <th></th>\n",
       "      <th>X_Coord</th>\n",
       "      <th>Y_Coord</th>\n",
       "      <th>Z_Coord</th>\n",
       "      <th>Edge_Distance</th>\n",
       "      <th>Laser_Direction</th>\n",
       "      <th>Temp</th>\n",
       "      <th>LasPower</th>\n",
       "      <th>LasSpeed</th>\n",
       "      <th>LasAngle</th>\n",
       "    </tr>\n",
       "  </thead>\n",
       "  <tbody>\n",
       "    <tr>\n",
       "      <th>0</th>\n",
       "      <td>0.176231</td>\n",
       "      <td>-0.200626</td>\n",
       "      <td>0.00</td>\n",
       "      <td>0.0658</td>\n",
       "      <td>-1</td>\n",
       "      <td>0.00091</td>\n",
       "      <td>200.0</td>\n",
       "      <td>0.6</td>\n",
       "      <td>70</td>\n",
       "    </tr>\n",
       "    <tr>\n",
       "      <th>1</th>\n",
       "      <td>0.176231</td>\n",
       "      <td>-0.200626</td>\n",
       "      <td>-0.03</td>\n",
       "      <td>0.0658</td>\n",
       "      <td>-1</td>\n",
       "      <td>0.00088</td>\n",
       "      <td>200.0</td>\n",
       "      <td>0.6</td>\n",
       "      <td>70</td>\n",
       "    </tr>\n",
       "    <tr>\n",
       "      <th>2</th>\n",
       "      <td>0.176231</td>\n",
       "      <td>-0.200626</td>\n",
       "      <td>-0.06</td>\n",
       "      <td>0.0658</td>\n",
       "      <td>-1</td>\n",
       "      <td>0.00078</td>\n",
       "      <td>200.0</td>\n",
       "      <td>0.6</td>\n",
       "      <td>70</td>\n",
       "    </tr>\n",
       "    <tr>\n",
       "      <th>3</th>\n",
       "      <td>0.176231</td>\n",
       "      <td>-0.200626</td>\n",
       "      <td>-0.09</td>\n",
       "      <td>0.0658</td>\n",
       "      <td>-1</td>\n",
       "      <td>0.00072</td>\n",
       "      <td>200.0</td>\n",
       "      <td>0.6</td>\n",
       "      <td>70</td>\n",
       "    </tr>\n",
       "    <tr>\n",
       "      <th>4</th>\n",
       "      <td>0.176231</td>\n",
       "      <td>-0.200626</td>\n",
       "      <td>-0.12</td>\n",
       "      <td>0.0658</td>\n",
       "      <td>-1</td>\n",
       "      <td>0.00068</td>\n",
       "      <td>200.0</td>\n",
       "      <td>0.6</td>\n",
       "      <td>70</td>\n",
       "    </tr>\n",
       "  </tbody>\n",
       "</table>\n",
       "</div>"
      ],
      "text/plain": [
       "    X_Coord   Y_Coord  Z_Coord  Edge_Distance  Laser_Direction     Temp  \\\n",
       "0  0.176231 -0.200626     0.00         0.0658               -1  0.00091   \n",
       "1  0.176231 -0.200626    -0.03         0.0658               -1  0.00088   \n",
       "2  0.176231 -0.200626    -0.06         0.0658               -1  0.00078   \n",
       "3  0.176231 -0.200626    -0.09         0.0658               -1  0.00072   \n",
       "4  0.176231 -0.200626    -0.12         0.0658               -1  0.00068   \n",
       "\n",
       "   LasPower  LasSpeed  LasAngle  \n",
       "0     200.0       0.6        70  \n",
       "1     200.0       0.6        70  \n",
       "2     200.0       0.6        70  \n",
       "3     200.0       0.6        70  \n",
       "4     200.0       0.6        70  "
      ]
     },
     "execution_count": 147,
     "metadata": {},
     "output_type": "execute_result"
    }
   ],
   "source": [
    "train.head()"
   ]
  },
  {
   "cell_type": "code",
   "execution_count": 159,
   "metadata": {},
   "outputs": [],
   "source": [
    "d1 = test[(test['speed']==0.6)&(test['power']==100)]"
   ]
  },
  {
   "cell_type": "code",
   "execution_count": 177,
   "metadata": {},
   "outputs": [],
   "source": [
    "mat = np.zeros((15,57))"
   ]
  },
  {
   "cell_type": "code",
   "execution_count": 178,
   "metadata": {},
   "outputs": [
    {
     "data": {
      "text/html": [
       "<div>\n",
       "<style scoped>\n",
       "    .dataframe tbody tr th:only-of-type {\n",
       "        vertical-align: middle;\n",
       "    }\n",
       "\n",
       "    .dataframe tbody tr th {\n",
       "        vertical-align: top;\n",
       "    }\n",
       "\n",
       "    .dataframe thead th {\n",
       "        text-align: right;\n",
       "    }\n",
       "</style>\n",
       "<table border=\"1\" class=\"dataframe\">\n",
       "  <thead>\n",
       "    <tr style=\"text-align: right;\">\n",
       "      <th></th>\n",
       "      <th>X_Coord</th>\n",
       "      <th>Y_Coord</th>\n",
       "      <th>Z_Coord</th>\n",
       "      <th>Temp</th>\n",
       "      <th>speed</th>\n",
       "      <th>power</th>\n",
       "    </tr>\n",
       "  </thead>\n",
       "  <tbody>\n",
       "    <tr>\n",
       "      <th>0</th>\n",
       "      <td>0.18</td>\n",
       "      <td>-0.21</td>\n",
       "      <td>0.00</td>\n",
       "      <td>0.00008</td>\n",
       "      <td>0.6</td>\n",
       "      <td>100</td>\n",
       "    </tr>\n",
       "    <tr>\n",
       "      <th>1</th>\n",
       "      <td>0.15</td>\n",
       "      <td>-0.21</td>\n",
       "      <td>0.00</td>\n",
       "      <td>0.00008</td>\n",
       "      <td>0.6</td>\n",
       "      <td>100</td>\n",
       "    </tr>\n",
       "    <tr>\n",
       "      <th>2</th>\n",
       "      <td>0.12</td>\n",
       "      <td>-0.21</td>\n",
       "      <td>0.00</td>\n",
       "      <td>0.00008</td>\n",
       "      <td>0.6</td>\n",
       "      <td>100</td>\n",
       "    </tr>\n",
       "    <tr>\n",
       "      <th>3</th>\n",
       "      <td>0.09</td>\n",
       "      <td>-0.21</td>\n",
       "      <td>0.00</td>\n",
       "      <td>0.00009</td>\n",
       "      <td>0.6</td>\n",
       "      <td>100</td>\n",
       "    </tr>\n",
       "    <tr>\n",
       "      <th>4</th>\n",
       "      <td>0.06</td>\n",
       "      <td>-0.21</td>\n",
       "      <td>0.00</td>\n",
       "      <td>0.00010</td>\n",
       "      <td>0.6</td>\n",
       "      <td>100</td>\n",
       "    </tr>\n",
       "    <tr>\n",
       "      <th>...</th>\n",
       "      <td>...</td>\n",
       "      <td>...</td>\n",
       "      <td>...</td>\n",
       "      <td>...</td>\n",
       "      <td>...</td>\n",
       "      <td>...</td>\n",
       "    </tr>\n",
       "    <tr>\n",
       "      <th>3643</th>\n",
       "      <td>-1.38</td>\n",
       "      <td>0.00</td>\n",
       "      <td>-0.21</td>\n",
       "      <td>0.00727</td>\n",
       "      <td>0.6</td>\n",
       "      <td>100</td>\n",
       "    </tr>\n",
       "    <tr>\n",
       "      <th>3644</th>\n",
       "      <td>-1.41</td>\n",
       "      <td>0.00</td>\n",
       "      <td>-0.21</td>\n",
       "      <td>0.00722</td>\n",
       "      <td>0.6</td>\n",
       "      <td>100</td>\n",
       "    </tr>\n",
       "    <tr>\n",
       "      <th>3645</th>\n",
       "      <td>-1.44</td>\n",
       "      <td>0.00</td>\n",
       "      <td>-0.21</td>\n",
       "      <td>0.00718</td>\n",
       "      <td>0.6</td>\n",
       "      <td>100</td>\n",
       "    </tr>\n",
       "    <tr>\n",
       "      <th>3646</th>\n",
       "      <td>-1.47</td>\n",
       "      <td>0.00</td>\n",
       "      <td>-0.21</td>\n",
       "      <td>0.00715</td>\n",
       "      <td>0.6</td>\n",
       "      <td>100</td>\n",
       "    </tr>\n",
       "    <tr>\n",
       "      <th>3647</th>\n",
       "      <td>-1.50</td>\n",
       "      <td>0.00</td>\n",
       "      <td>-0.21</td>\n",
       "      <td>0.00714</td>\n",
       "      <td>0.6</td>\n",
       "      <td>100</td>\n",
       "    </tr>\n",
       "  </tbody>\n",
       "</table>\n",
       "<p>3648 rows × 6 columns</p>\n",
       "</div>"
      ],
      "text/plain": [
       "      X_Coord  Y_Coord  Z_Coord     Temp  speed  power\n",
       "0        0.18    -0.21     0.00  0.00008    0.6    100\n",
       "1        0.15    -0.21     0.00  0.00008    0.6    100\n",
       "2        0.12    -0.21     0.00  0.00008    0.6    100\n",
       "3        0.09    -0.21     0.00  0.00009    0.6    100\n",
       "4        0.06    -0.21     0.00  0.00010    0.6    100\n",
       "...       ...      ...      ...      ...    ...    ...\n",
       "3643    -1.38     0.00    -0.21  0.00727    0.6    100\n",
       "3644    -1.41     0.00    -0.21  0.00722    0.6    100\n",
       "3645    -1.44     0.00    -0.21  0.00718    0.6    100\n",
       "3646    -1.47     0.00    -0.21  0.00715    0.6    100\n",
       "3647    -1.50     0.00    -0.21  0.00714    0.6    100\n",
       "\n",
       "[3648 rows x 6 columns]"
      ]
     },
     "execution_count": 178,
     "metadata": {},
     "output_type": "execute_result"
    }
   ],
   "source": [
    "d1"
   ]
  },
  {
   "cell_type": "code",
   "execution_count": 175,
   "metadata": {},
   "outputs": [
    {
     "data": {
      "text/plain": [
       "56.0"
      ]
     },
     "execution_count": 175,
     "metadata": {},
     "output_type": "execute_result"
    }
   ],
   "source": [
    "(max(x)-min(x))/0.03"
   ]
  },
  {
   "cell_type": "code",
   "execution_count": 186,
   "metadata": {},
   "outputs": [],
   "source": [
    "mtx = d1.Temp.values.reshape(57,-1)"
   ]
  },
  {
   "cell_type": "code",
   "execution_count": 189,
   "metadata": {},
   "outputs": [
    {
     "data": {
      "text/html": [
       "<div>\n",
       "<style scoped>\n",
       "    .dataframe tbody tr th:only-of-type {\n",
       "        vertical-align: middle;\n",
       "    }\n",
       "\n",
       "    .dataframe tbody tr th {\n",
       "        vertical-align: top;\n",
       "    }\n",
       "\n",
       "    .dataframe thead th {\n",
       "        text-align: right;\n",
       "    }\n",
       "</style>\n",
       "<table border=\"1\" class=\"dataframe\">\n",
       "  <thead>\n",
       "    <tr style=\"text-align: right;\">\n",
       "      <th></th>\n",
       "      <th>X_Coord</th>\n",
       "      <th>Y_Coord</th>\n",
       "      <th>Z_Coord</th>\n",
       "      <th>Temp</th>\n",
       "      <th>speed</th>\n",
       "      <th>power</th>\n",
       "    </tr>\n",
       "  </thead>\n",
       "  <tbody>\n",
       "    <tr>\n",
       "      <th>0</th>\n",
       "      <td>0.18</td>\n",
       "      <td>-0.21</td>\n",
       "      <td>0.00</td>\n",
       "      <td>0.00008</td>\n",
       "      <td>0.6</td>\n",
       "      <td>100</td>\n",
       "    </tr>\n",
       "    <tr>\n",
       "      <th>1</th>\n",
       "      <td>0.15</td>\n",
       "      <td>-0.21</td>\n",
       "      <td>0.00</td>\n",
       "      <td>0.00008</td>\n",
       "      <td>0.6</td>\n",
       "      <td>100</td>\n",
       "    </tr>\n",
       "    <tr>\n",
       "      <th>2</th>\n",
       "      <td>0.12</td>\n",
       "      <td>-0.21</td>\n",
       "      <td>0.00</td>\n",
       "      <td>0.00008</td>\n",
       "      <td>0.6</td>\n",
       "      <td>100</td>\n",
       "    </tr>\n",
       "    <tr>\n",
       "      <th>3</th>\n",
       "      <td>0.09</td>\n",
       "      <td>-0.21</td>\n",
       "      <td>0.00</td>\n",
       "      <td>0.00009</td>\n",
       "      <td>0.6</td>\n",
       "      <td>100</td>\n",
       "    </tr>\n",
       "    <tr>\n",
       "      <th>4</th>\n",
       "      <td>0.06</td>\n",
       "      <td>-0.21</td>\n",
       "      <td>0.00</td>\n",
       "      <td>0.00010</td>\n",
       "      <td>0.6</td>\n",
       "      <td>100</td>\n",
       "    </tr>\n",
       "    <tr>\n",
       "      <th>...</th>\n",
       "      <td>...</td>\n",
       "      <td>...</td>\n",
       "      <td>...</td>\n",
       "      <td>...</td>\n",
       "      <td>...</td>\n",
       "      <td>...</td>\n",
       "    </tr>\n",
       "    <tr>\n",
       "      <th>3643</th>\n",
       "      <td>-1.38</td>\n",
       "      <td>0.00</td>\n",
       "      <td>-0.21</td>\n",
       "      <td>0.00727</td>\n",
       "      <td>0.6</td>\n",
       "      <td>100</td>\n",
       "    </tr>\n",
       "    <tr>\n",
       "      <th>3644</th>\n",
       "      <td>-1.41</td>\n",
       "      <td>0.00</td>\n",
       "      <td>-0.21</td>\n",
       "      <td>0.00722</td>\n",
       "      <td>0.6</td>\n",
       "      <td>100</td>\n",
       "    </tr>\n",
       "    <tr>\n",
       "      <th>3645</th>\n",
       "      <td>-1.44</td>\n",
       "      <td>0.00</td>\n",
       "      <td>-0.21</td>\n",
       "      <td>0.00718</td>\n",
       "      <td>0.6</td>\n",
       "      <td>100</td>\n",
       "    </tr>\n",
       "    <tr>\n",
       "      <th>3646</th>\n",
       "      <td>-1.47</td>\n",
       "      <td>0.00</td>\n",
       "      <td>-0.21</td>\n",
       "      <td>0.00715</td>\n",
       "      <td>0.6</td>\n",
       "      <td>100</td>\n",
       "    </tr>\n",
       "    <tr>\n",
       "      <th>3647</th>\n",
       "      <td>-1.50</td>\n",
       "      <td>0.00</td>\n",
       "      <td>-0.21</td>\n",
       "      <td>0.00714</td>\n",
       "      <td>0.6</td>\n",
       "      <td>100</td>\n",
       "    </tr>\n",
       "  </tbody>\n",
       "</table>\n",
       "<p>3648 rows × 6 columns</p>\n",
       "</div>"
      ],
      "text/plain": [
       "      X_Coord  Y_Coord  Z_Coord     Temp  speed  power\n",
       "0        0.18    -0.21     0.00  0.00008    0.6    100\n",
       "1        0.15    -0.21     0.00  0.00008    0.6    100\n",
       "2        0.12    -0.21     0.00  0.00008    0.6    100\n",
       "3        0.09    -0.21     0.00  0.00009    0.6    100\n",
       "4        0.06    -0.21     0.00  0.00010    0.6    100\n",
       "...       ...      ...      ...      ...    ...    ...\n",
       "3643    -1.38     0.00    -0.21  0.00727    0.6    100\n",
       "3644    -1.41     0.00    -0.21  0.00722    0.6    100\n",
       "3645    -1.44     0.00    -0.21  0.00718    0.6    100\n",
       "3646    -1.47     0.00    -0.21  0.00715    0.6    100\n",
       "3647    -1.50     0.00    -0.21  0.00714    0.6    100\n",
       "\n",
       "[3648 rows x 6 columns]"
      ]
     },
     "execution_count": 189,
     "metadata": {},
     "output_type": "execute_result"
    }
   ],
   "source": [
    "d1"
   ]
  },
  {
   "cell_type": "code",
   "execution_count": 183,
   "metadata": {},
   "outputs": [
    {
     "data": {
      "text/plain": [
       "7.0"
      ]
     },
     "execution_count": 183,
     "metadata": {},
     "output_type": "execute_result"
    }
   ],
   "source": [
    "0.21/0.03"
   ]
  },
  {
   "cell_type": "code",
   "execution_count": null,
   "metadata": {},
   "outputs": [],
   "source": []
  }
 ],
 "metadata": {
  "kernelspec": {
   "display_name": "Python 3",
   "language": "python",
   "name": "python3"
  },
  "language_info": {
   "codemirror_mode": {
    "name": "ipython",
    "version": 3
   },
   "file_extension": ".py",
   "mimetype": "text/x-python",
   "name": "python",
   "nbconvert_exporter": "python",
   "pygments_lexer": "ipython3",
   "version": "3.7.3"
  }
 },
 "nbformat": 4,
 "nbformat_minor": 2
}
