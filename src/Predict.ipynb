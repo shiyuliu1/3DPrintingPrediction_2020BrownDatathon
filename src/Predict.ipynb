{
 "cells": [
  {
   "cell_type": "code",
   "execution_count": 1,
   "metadata": {},
   "outputs": [],
   "source": [
    "import numpy as np\n",
    "import pandas as pd\n",
    "import os\n",
    "import random\n",
    "import matplotlib\n",
    "import matplotlib.pyplot as plt\n",
    "import matplotlib.image as mpimg\n",
    "from sklearn.dummy import DummyRegressor\n",
    "from sklearn.metrics import r2_score\n",
    "import tensorflow as tf\n",
    "from tensorflow import keras\n",
    "from sklearn.model_selection import train_test_split\n",
    "import matplotlib\n",
    "import matplotlib.pyplot as plt\n",
    "from sklearn.metrics import r2_score\n",
    "import pickle\n",
    "import catboost"
   ]
  },
  {
   "cell_type": "code",
   "execution_count": 3,
   "metadata": {},
   "outputs": [
    {
     "name": "stdout",
     "output_type": "stream",
     "text": [
      "['.ipynb_checkpoints', '1', '2', 'EDA.ipynb', 'Finite_Element_Model.png', 'Introduction.ipynb', 'Joined_Melt_Pool', 'Meltpool.png', 'meltpool_1_nn.ipynb', 'meltpool_2_nn.ipynb', 'Merging data.ipynb', 'MergingData_TempPrediction.ipynb', 'my_logs', 'prediction_submission.csv', 'Predict_1b.ipynb', 'README.docx', 'saved_models', 'temperature_2_nn.ipynb']\n"
     ]
    }
   ],
   "source": [
    "# Change work directory\n",
    "work_dir = r'C:\\Users\\tangc\\OneDrive\\Desktop\\Files\\HW\\Datathon'\n",
    "print(os.listdir(work_dir))"
   ]
  },
  {
   "cell_type": "markdown",
   "metadata": {},
   "source": [
    "# Task 1"
   ]
  },
  {
   "cell_type": "markdown",
   "metadata": {},
   "source": [
    "## 1a"
   ]
  },
  {
   "cell_type": "code",
   "execution_count": 8,
   "metadata": {},
   "outputs": [],
   "source": [
    "model_1a = pickle.load(open(r\"saved_models\\cat_1a.sav\", 'rb'))"
   ]
  },
  {
   "cell_type": "code",
   "execution_count": 29,
   "metadata": {},
   "outputs": [
    {
     "name": "stdout",
     "output_type": "stream",
     "text": [
      "0_62ms_110W.csv\n"
     ]
    },
    {
     "data": {
      "text/plain": [
       "0.62"
      ]
     },
     "execution_count": 29,
     "metadata": {},
     "output_type": "execute_result"
    }
   ],
   "source": [
    "print(os.listdir(work_dir + r\"\\1\\Testing\")[0])\n",
    "float(os.listdir(work_dir + r\"\\1\\Testing\")[0][0] + \".\" + os.listdir(work_dir + r\"\\1\\Testing\")[0][2:4])"
   ]
  },
  {
   "cell_type": "code",
   "execution_count": 55,
   "metadata": {},
   "outputs": [],
   "source": [
    "# Predict 1a\n",
    "for file in os.listdir(work_dir + r\"\\1\\Testing\")[:-1]:\n",
    "    df_temp = pd.read_csv(work_dir + f\"\\\\1\\\\Testing\\\\{file}\").drop([\"Unnamed: 4\"], axis=1)\n",
    "    df_temp[\"power\"] = float(file[-8:-5])\n",
    "    df_temp[\"speed\"] = float(file[0] + \".\" + file[2:4])\n",
    "    y_pred_temp = model_1a.predict(df_temp)\n",
    "    df_temp[\"Temp\"] = y_pred_temp\n",
    "    df_temp.drop([\"power\", \"speed\"], axis=1, inplace=True)\n",
    "    df_temp.to_csv(work_dir + f\"\\\\1\\\\Testing\\\\{file}\", index=False)"
   ]
  },
  {
   "cell_type": "markdown",
   "metadata": {},
   "source": [
    "## 1b"
   ]
  },
  {
   "cell_type": "code",
   "execution_count": 56,
   "metadata": {},
   "outputs": [
    {
     "name": "stdout",
     "output_type": "stream",
     "text": [
      "(91200, 6)\n"
     ]
    },
    {
     "data": {
      "text/html": [
       "<div>\n",
       "<style scoped>\n",
       "    .dataframe tbody tr th:only-of-type {\n",
       "        vertical-align: middle;\n",
       "    }\n",
       "\n",
       "    .dataframe tbody tr th {\n",
       "        vertical-align: top;\n",
       "    }\n",
       "\n",
       "    .dataframe thead th {\n",
       "        text-align: right;\n",
       "    }\n",
       "</style>\n",
       "<table border=\"1\" class=\"dataframe\">\n",
       "  <thead>\n",
       "    <tr style=\"text-align: right;\">\n",
       "      <th></th>\n",
       "      <th>X_Coord</th>\n",
       "      <th>Y_Coord</th>\n",
       "      <th>Z_Coord</th>\n",
       "      <th>Temp</th>\n",
       "      <th>power</th>\n",
       "      <th>speed</th>\n",
       "    </tr>\n",
       "  </thead>\n",
       "  <tbody>\n",
       "    <tr>\n",
       "      <th>0</th>\n",
       "      <td>0.18</td>\n",
       "      <td>-0.21</td>\n",
       "      <td>0.0</td>\n",
       "      <td>0.000292</td>\n",
       "      <td>110.0</td>\n",
       "      <td>0.62</td>\n",
       "    </tr>\n",
       "    <tr>\n",
       "      <th>1</th>\n",
       "      <td>0.15</td>\n",
       "      <td>-0.21</td>\n",
       "      <td>0.0</td>\n",
       "      <td>0.000310</td>\n",
       "      <td>110.0</td>\n",
       "      <td>0.62</td>\n",
       "    </tr>\n",
       "    <tr>\n",
       "      <th>2</th>\n",
       "      <td>0.12</td>\n",
       "      <td>-0.21</td>\n",
       "      <td>0.0</td>\n",
       "      <td>0.000269</td>\n",
       "      <td>110.0</td>\n",
       "      <td>0.62</td>\n",
       "    </tr>\n",
       "    <tr>\n",
       "      <th>3</th>\n",
       "      <td>0.09</td>\n",
       "      <td>-0.21</td>\n",
       "      <td>0.0</td>\n",
       "      <td>0.000249</td>\n",
       "      <td>110.0</td>\n",
       "      <td>0.62</td>\n",
       "    </tr>\n",
       "    <tr>\n",
       "      <th>4</th>\n",
       "      <td>0.06</td>\n",
       "      <td>-0.21</td>\n",
       "      <td>0.0</td>\n",
       "      <td>0.000159</td>\n",
       "      <td>110.0</td>\n",
       "      <td>0.62</td>\n",
       "    </tr>\n",
       "  </tbody>\n",
       "</table>\n",
       "</div>"
      ],
      "text/plain": [
       "   X_Coord  Y_Coord  Z_Coord      Temp  power  speed\n",
       "0     0.18    -0.21      0.0  0.000292  110.0   0.62\n",
       "1     0.15    -0.21      0.0  0.000310  110.0   0.62\n",
       "2     0.12    -0.21      0.0  0.000269  110.0   0.62\n",
       "3     0.09    -0.21      0.0  0.000249  110.0   0.62\n",
       "4     0.06    -0.21      0.0  0.000159  110.0   0.62"
      ]
     },
     "execution_count": 56,
     "metadata": {},
     "output_type": "execute_result"
    }
   ],
   "source": [
    "# fuse csv for 1b\n",
    "df_full = pd.DataFrame()\n",
    "for file in os.listdir(work_dir + r\"\\1\\Testing\")[:-1]:\n",
    "    df_temp = pd.read_csv(work_dir + f\"\\\\1\\\\Testing\\\\{file}\")\n",
    "    df_temp[\"power\"] = float(file[-8:-5])\n",
    "    df_temp[\"speed\"] = float(file[0] + \".\" + file[2:4])\n",
    "    df_full = pd.concat([df_full, df_temp])\n",
    "print(df_full.shape)\n",
    "df_full.head()"
   ]
  },
  {
   "cell_type": "code",
   "execution_count": 68,
   "metadata": {},
   "outputs": [],
   "source": [
    "model_1b_depth = pickle.load(open(r\"saved_models\\cat_1b_depth.sav\", 'rb'))\n",
    "model_1b_width = pickle.load(open(r\"saved_models\\cat_1b_width.sav\", 'rb'))\n",
    "model_1b_length = pickle.load(open(r\"saved_models\\cat_1b_length.sav\", 'rb'))\n",
    "X_test = pd.read_csv(work_dir + r\"/1/Testing/Melt_Pool_Dimensions.csv\")"
   ]
  },
  {
   "cell_type": "code",
   "execution_count": 69,
   "metadata": {},
   "outputs": [],
   "source": [
    "# merge to 1b test\n",
    "X_test_full = pd.merge(df_full, X_test, how='left', left_on=['speed','power'], \n",
    "                  right_on = ['Laser_Speed','Laser_Power'])\n",
    "X_test_to_pred = X_test_full.drop([\"Melt_Pool_Length\", \"Melt_Pool_Width\", \"Melt_Pool_Depth\"], axis=1)"
   ]
  },
  {
   "cell_type": "code",
   "execution_count": 70,
   "metadata": {},
   "outputs": [],
   "source": [
    "y_test_pred_depth = model_1b_depth.predict(X_test_to_pred)\n",
    "y_test_pred_width = model_1b_width.predict(X_test_to_pred)\n",
    "y_test_pred_length = model_1b_length.predict(X_test_to_pred)"
   ]
  },
  {
   "cell_type": "code",
   "execution_count": 77,
   "metadata": {},
   "outputs": [],
   "source": [
    "X_test_full[\"Melt_Pool_Length\"] = y_test_pred_length\n",
    "X_test_full[\"Melt_Pool_Width\"] = y_test_pred_width\n",
    "X_test_full[\"Melt_Pool_Depth\"] = y_test_pred_depth\n",
    "df_1b_write = pd.DataFrame(X_test_full.groupby([\"Laser_Speed\", \"Laser_Power\"])[\"Melt_Pool_Length\", \"Melt_Pool_Width\", \"Melt_Pool_Depth\"].mean()).reset_index()\n",
    "df_1b_write.to_csv(work_dir + \"\\\\1\\\\Testing\\\\Melt_Pool_Dimensions.csv\", index=False)"
   ]
  },
  {
   "cell_type": "markdown",
   "metadata": {},
   "source": [
    "# Task 2"
   ]
  },
  {
   "cell_type": "markdown",
   "metadata": {},
   "source": [
    "## 2a"
   ]
  },
  {
   "cell_type": "code",
   "execution_count": 80,
   "metadata": {},
   "outputs": [],
   "source": [
    "model_2a = pickle.load(open(r\"saved_models\\cat_900_0.07_14.sav\", 'rb'))"
   ]
  },
  {
   "cell_type": "code",
   "execution_count": 99,
   "metadata": {},
   "outputs": [
    {
     "name": "stdout",
     "output_type": "stream",
     "text": [
      "['0_62ms_110W_20Deg.csv', '0_62ms_110W_40Deg.csv', '0_62ms_110W_60Deg.csv', '0_62ms_110W_80Deg.csv', '0_62ms_160W_20Deg.csv', '0_62ms_160W_40Deg.csv', '0_62ms_160W_60Deg.csv', '0_62ms_160W_80Deg.csv', '0_62ms_240W_20Deg.csv', '0_62ms_240W_40Deg.csv', '0_62ms_240W_60Deg.csv', '0_62ms_240W_80Deg.csv', '0_62ms_310W_20Deg.csv', '0_62ms_310W_40Deg.csv', '0_62ms_310W_60Deg.csv', '0_62ms_310W_80Deg.csv', '0_62ms_390W_20Deg.csv', '0_62ms_390W_40Deg.csv', '0_62ms_390W_60Deg.csv', '0_62ms_390W_80Deg.csv', '0_77ms_110W_20Deg.csv', '0_77ms_110W_40Deg.csv', '0_77ms_110W_60Deg.csv', '0_77ms_110W_80Deg.csv', '0_77ms_160W_20Deg.csv', '0_77ms_160W_40Deg.csv', '0_77ms_160W_60Deg.csv', '0_77ms_160W_80Deg.csv', '0_77ms_240W_20Deg.csv', '0_77ms_240W_40Deg.csv', '0_77ms_240W_60Deg.csv', '0_77ms_240W_80Deg.csv', '0_77ms_310W_20Deg.csv', '0_77ms_310W_40Deg.csv', '0_77ms_310W_60Deg.csv', '0_77ms_310W_80Deg.csv', '0_77ms_390W_20Deg.csv', '0_77ms_390W_40Deg.csv', '0_77ms_390W_60Deg.csv', '0_77ms_390W_80Deg.csv', '0_93ms_110W_20Deg.csv', '0_93ms_110W_40Deg.csv', '0_93ms_160W_20Deg.csv', '0_93ms_160W_40Deg.csv', '0_93ms_160W_60Deg.csv', '0_93ms_160W_80Deg.csv', '0_93ms_240W_20Deg.csv', '0_93ms_240W_40Deg.csv', '0_93ms_240W_60Deg.csv', '0_93ms_240W_80Deg.csv', '0_93ms_310W_20Deg.csv', '0_93ms_310W_40Deg.csv', '0_93ms_310W_60Deg.csv', '0_93ms_310W_80Deg.csv', '0_93ms_390W_20Deg.csv', '0_93ms_390W_40Deg.csv', '0_93ms_390W_60Deg.csv', '0_93ms_390W_80Deg.csv', '1_07ms_110W_20Deg.csv', '1_07ms_110W_40Deg.csv', '1_07ms_160W_20Deg.csv', '1_07ms_160W_40Deg.csv', '1_07ms_160W_60Deg.csv', '1_07ms_160W_80Deg.csv', '1_07ms_240W_20Deg.csv', '1_07ms_240W_40Deg.csv', '1_07ms_240W_60Deg.csv', '1_07ms_240W_80Deg.csv', '1_07ms_310W_20Deg.csv', '1_07ms_310W_40Deg.csv', '1_07ms_310W_60Deg.csv', '1_07ms_310W_80Deg.csv', '1_07ms_390W_20Deg.csv', '1_07ms_390W_40Deg.csv', '1_07ms_390W_60Deg.csv', '1_07ms_390W_80Deg.csv', '1_38ms_160W_20Deg.csv', '1_38ms_160W_40Deg.csv', '1_38ms_240W_20Deg.csv', '1_38ms_240W_40Deg.csv', '1_38ms_240W_60Deg.csv', '1_38ms_240W_80Deg.csv', '1_38ms_310W_20Deg.csv', '1_38ms_310W_40Deg.csv', '1_38ms_310W_60Deg.csv', '1_38ms_310W_80Deg.csv', '1_38ms_390W_20Deg.csv', '1_38ms_390W_40Deg.csv', '1_38ms_390W_60Deg.csv', '1_38ms_390W_80Deg.csv', '1_47ms_160W_20Deg.csv', '1_47ms_160W_40Deg.csv', '1_47ms_240W_20Deg.csv', '1_47ms_240W_40Deg.csv', '1_47ms_240W_60Deg.csv', '1_47ms_240W_80Deg.csv', '1_47ms_310W_20Deg.csv', '1_47ms_310W_40Deg.csv', '1_47ms_310W_60Deg.csv', '1_47ms_310W_80Deg.csv', '1_47ms_390W_20Deg.csv', '1_47ms_390W_40Deg.csv', '1_47ms_390W_60Deg.csv', '1_47ms_390W_80Deg.csv']\n"
     ]
    }
   ],
   "source": [
    "print(os.listdir(work_dir + r\"\\2\\Testing\")[:-1])"
   ]
  },
  {
   "cell_type": "code",
   "execution_count": 93,
   "metadata": {},
   "outputs": [
    {
     "name": "stdout",
     "output_type": "stream",
     "text": [
      "0_62ms_110W_20Deg.csv\n"
     ]
    },
    {
     "data": {
      "text/plain": [
       "'110'"
      ]
     },
     "execution_count": 93,
     "metadata": {},
     "output_type": "execute_result"
    }
   ],
   "source": [
    "print(os.listdir(work_dir + r\"\\2\\Testing\")[0])\n",
    "file = os.listdir(work_dir + r\"\\2\\Testing\")[0]\n",
    "file[7:10]"
   ]
  },
  {
   "cell_type": "code",
   "execution_count": 119,
   "metadata": {},
   "outputs": [],
   "source": [
    "for file in os.listdir(work_dir + r\"\\2\\Testing\")[:-1]:\n",
    "    df_temp = pd.read_csv(work_dir + f\"\\\\2\\\\Testing\\\\{file}\").drop(['Temp'], axis=1)\n",
    "    df_temp[\"LasAngle\"] = float(file[-9:-7])\n",
    "    df_temp[\"LasPower\"] = float(file[7:10])\n",
    "    df_temp[\"LasSpeed\"] = float(file[0] + \".\" + file[2:4])\n",
    "    y_pred_temp = model_2a.predict(df_temp)\n",
    "    df_temp[\"Temp\"] = y_pred_temp\n",
    "    df_temp.drop([\"LasPower\", \"LasSpeed\", \"LasAngle\"], axis=1, inplace=True)\n",
    "    df_temp.to_csv(work_dir + f\"\\\\2\\\\Testing\\\\{file}\", index=False)"
   ]
  },
  {
   "cell_type": "code",
   "execution_count": 101,
   "metadata": {},
   "outputs": [],
   "source": [
    "# Predict 2a\n",
    "for file in os.listdir(work_dir + r\"\\2\\Testing\")[:-1]:\n",
    "    df_temp = pd.read_csv(work_dir + f\"\\\\2\\\\Testing\\\\{file}\").drop(['Temp'], axis=1)\n",
    "    df_temp[\"LasAngle\"] = float(file[-9:-7])\n",
    "    df_temp[\"LasPower\"] = float(file[7:10])\n",
    "    df_temp[\"LasSpeed\"] = float(file[0] + \".\" + file[2:4])\n",
    "    y_pred_temp = model_2a.predict(df_temp)\n",
    "    df_temp[\"Temp\"] = y_pred_temp\n",
    "    df_temp.drop([\"LasPower\", \"LasSpeed\", \"LasAngle\"], axis=1, inplace=True)\n",
    "    df_temp.to_csv(work_dir + f\"\\\\2\\\\Testing\\\\{file}\", index=False)"
   ]
  },
  {
   "cell_type": "markdown",
   "metadata": {},
   "source": [
    "## 2b"
   ]
  },
  {
   "cell_type": "code",
   "execution_count": 112,
   "metadata": {},
   "outputs": [
    {
     "data": {
      "text/html": [
       "<div>\n",
       "<style scoped>\n",
       "    .dataframe tbody tr th:only-of-type {\n",
       "        vertical-align: middle;\n",
       "    }\n",
       "\n",
       "    .dataframe tbody tr th {\n",
       "        vertical-align: top;\n",
       "    }\n",
       "\n",
       "    .dataframe thead th {\n",
       "        text-align: right;\n",
       "    }\n",
       "</style>\n",
       "<table border=\"1\" class=\"dataframe\">\n",
       "  <thead>\n",
       "    <tr style=\"text-align: right;\">\n",
       "      <th></th>\n",
       "      <th>Laser_Speed</th>\n",
       "      <th>Laser_Power</th>\n",
       "      <th>Edge_Angle</th>\n",
       "      <th>Edge_Distance</th>\n",
       "      <th>Laser_Direction</th>\n",
       "      <th>Melt_Pool_Length</th>\n",
       "      <th>Melt_Pool_Width</th>\n",
       "      <th>Melt_Pool_Depth</th>\n",
       "    </tr>\n",
       "  </thead>\n",
       "  <tbody>\n",
       "    <tr>\n",
       "      <th>0</th>\n",
       "      <td>0.62</td>\n",
       "      <td>110</td>\n",
       "      <td>80</td>\n",
       "      <td>0.0758</td>\n",
       "      <td>-1</td>\n",
       "      <td>0.0</td>\n",
       "      <td>0.0</td>\n",
       "      <td>0.0</td>\n",
       "    </tr>\n",
       "    <tr>\n",
       "      <th>1</th>\n",
       "      <td>0.62</td>\n",
       "      <td>110</td>\n",
       "      <td>80</td>\n",
       "      <td>0.1064</td>\n",
       "      <td>-1</td>\n",
       "      <td>0.0</td>\n",
       "      <td>0.0</td>\n",
       "      <td>0.0</td>\n",
       "    </tr>\n",
       "    <tr>\n",
       "      <th>2</th>\n",
       "      <td>0.62</td>\n",
       "      <td>110</td>\n",
       "      <td>80</td>\n",
       "      <td>0.1369</td>\n",
       "      <td>-1</td>\n",
       "      <td>0.0</td>\n",
       "      <td>0.0</td>\n",
       "      <td>0.0</td>\n",
       "    </tr>\n",
       "    <tr>\n",
       "      <th>3</th>\n",
       "      <td>0.62</td>\n",
       "      <td>110</td>\n",
       "      <td>80</td>\n",
       "      <td>0.1674</td>\n",
       "      <td>-1</td>\n",
       "      <td>0.0</td>\n",
       "      <td>0.0</td>\n",
       "      <td>0.0</td>\n",
       "    </tr>\n",
       "    <tr>\n",
       "      <th>4</th>\n",
       "      <td>0.62</td>\n",
       "      <td>110</td>\n",
       "      <td>80</td>\n",
       "      <td>0.1979</td>\n",
       "      <td>-1</td>\n",
       "      <td>0.0</td>\n",
       "      <td>0.0</td>\n",
       "      <td>0.0</td>\n",
       "    </tr>\n",
       "  </tbody>\n",
       "</table>\n",
       "</div>"
      ],
      "text/plain": [
       "   Laser_Speed  Laser_Power  Edge_Angle  Edge_Distance  Laser_Direction  \\\n",
       "0         0.62          110          80         0.0758               -1   \n",
       "1         0.62          110          80         0.1064               -1   \n",
       "2         0.62          110          80         0.1369               -1   \n",
       "3         0.62          110          80         0.1674               -1   \n",
       "4         0.62          110          80         0.1979               -1   \n",
       "\n",
       "   Melt_Pool_Length  Melt_Pool_Width  Melt_Pool_Depth  \n",
       "0               0.0              0.0              0.0  \n",
       "1               0.0              0.0              0.0  \n",
       "2               0.0              0.0              0.0  \n",
       "3               0.0              0.0              0.0  \n",
       "4               0.0              0.0              0.0  "
      ]
     },
     "execution_count": 112,
     "metadata": {},
     "output_type": "execute_result"
    }
   ],
   "source": [
    "model_2b_depth = pickle.load(open(r\"saved_models\\cat_2b_depth.sav\", 'rb'))\n",
    "model_2b_width = pickle.load(open(r\"saved_models\\cat_2b_width.sav\", 'rb'))\n",
    "model_2b_length = pickle.load(open(r\"saved_models\\cat_2b_length.sav\", 'rb'))\n",
    "X_2_test = pd.read_csv(work_dir + r\"/2/Testing/Melt_Pool_Dimensions.csv\")\n",
    "X_2_test.head()"
   ]
  },
  {
   "cell_type": "code",
   "execution_count": 110,
   "metadata": {},
   "outputs": [],
   "source": [
    "y_2_test_pred_depth = model_2b_depth.predict(X_2_test)\n",
    "y_2_test_pred_width = model_2b_width.predict(X_2_test)\n",
    "y_2_test_pred_length = model_2b_length.predict(X_2_test)"
   ]
  },
  {
   "cell_type": "code",
   "execution_count": null,
   "metadata": {},
   "outputs": [],
   "source": [
    "    X_2_test[\"Melt_Pool_Length\"] = y_2_test_pred_length\n",
    "    X_2_test[\"Melt_Pool_Width\"] = y_2_test_pred_width\n",
    "    X_2_test[\"Melt_Pool_Depth\"] = y_2_test_pred_depth\n",
    "    X_2_test.to_csv(work_dir + \"\\\\2\\\\Testing\\\\Melt_Pool_Dimensions.csv\", index=False)"
   ]
  }
 ],
 "metadata": {
  "kernelspec": {
   "display_name": "Python 3",
   "language": "python",
   "name": "python3"
  },
  "language_info": {
   "codemirror_mode": {
    "name": "ipython",
    "version": 3
   },
   "file_extension": ".py",
   "mimetype": "text/x-python",
   "name": "python",
   "nbconvert_exporter": "python",
   "pygments_lexer": "ipython3",
   "version": "3.7.3"
  }
 },
 "nbformat": 4,
 "nbformat_minor": 2
}
