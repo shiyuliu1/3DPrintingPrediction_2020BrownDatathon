{
 "cells": [
  {
   "cell_type": "code",
   "execution_count": 1,
   "metadata": {},
   "outputs": [],
   "source": [
    "import numpy as np\n",
    "import pandas as pd\n",
    "import os\n",
    "import random\n",
    "import matplotlib\n",
    "import matplotlib.pyplot as plt\n",
    "import matplotlib.image as mpimg\n",
    "from sklearn.dummy import DummyRegressor\n",
    "from sklearn.metrics import r2_score\n",
    "import tensorflow as tf\n",
    "from tensorflow import keras\n",
    "from sklearn.model_selection import train_test_split\n",
    "import matplotlib\n",
    "import matplotlib.pyplot as plt\n",
    "from sklearn.metrics import r2_score"
   ]
  },
  {
   "cell_type": "code",
   "execution_count": 2,
   "metadata": {},
   "outputs": [
    {
     "name": "stdout",
     "output_type": "stream",
     "text": [
      "TensorFlow version: 2.0.0\n"
     ]
    }
   ],
   "source": [
    "# Print TF version, keep the version in mind when you look the documentation.\n",
    "print('TensorFlow version: {}'.format(tf.__version__))"
   ]
  },
  {
   "cell_type": "code",
   "execution_count": 94,
   "metadata": {},
   "outputs": [
    {
     "name": "stdout",
     "output_type": "stream",
     "text": [
      "['.ipynb_checkpoints', '1', '2', 'Finite_Element_Model.png', 'Introduction.ipynb', 'Joined_Melt_Pool', 'Meltpool.png', 'meltpool_1_nn.ipynb', 'meltpool_2_nn.ipynb', 'Merging data.ipynb', 'MergingData_TempPrediction.ipynb', 'my_logs', 'prediction_submission.csv', 'README.docx', 'saved_models', 'saved_nn_models', 'temperature_2_nn.ipynb']\n"
     ]
    }
   ],
   "source": [
    "work_dir = r'C:\\Users\\tangc\\OneDrive\\Desktop\\Files\\HW\\Datathon'\n",
    "print(os.listdir(work_dir))\n",
    "\n",
    "meltpool_training = pd.read_csv(os.path.join(work_dir, '1/Training', 'Melt_Pool_Dimensions.csv'), index_col = False)\n",
    "meltpool_validation = pd.read_csv(os.path.join(work_dir, '1/Validation', 'Melt_Pool_Dimensions.csv'), index_col = False)"
   ]
  },
  {
   "cell_type": "code",
   "execution_count": 4,
   "metadata": {},
   "outputs": [],
   "source": [
    "def r_square(y_true, y_pred):\n",
    "    from tensorflow.keras import backend as K\n",
    "    SS_res =  K.sum(K.square(y_true - y_pred)) \n",
    "    SS_tot = K.sum(K.square(y_true - K.mean(y_true))) \n",
    "    return ( 1 - SS_res/(SS_tot + K.epsilon()) )"
   ]
  },
  {
   "cell_type": "code",
   "execution_count": 5,
   "metadata": {},
   "outputs": [],
   "source": [
    "# Tensor Board\n",
    "root_logdir = os.path.join(os.curdir, \"my_logs\")\n",
    "def get_run_logdir():\n",
    "    import time\n",
    "    run_id = time.strftime(\"run_%Y_%m_%d-%H_%M_%S\")\n",
    "    return os.path.join(root_logdir, run_id)\n",
    "run_logdir = get_run_logdir()\n",
    "run_logdir\n",
    "tensorboard_cb = keras.callbacks.TensorBoard(run_logdir)"
   ]
  },
  {
   "cell_type": "markdown",
   "metadata": {},
   "source": [
    "#### For merging data"
   ]
  },
  {
   "cell_type": "code",
   "execution_count": 95,
   "metadata": {},
   "outputs": [],
   "source": [
    "# full_df_temp = pd.read_csv(work_dir + r\"\\1\\Validation\\full_temperature_cv.csv\", index_col=False).drop([\"Unnamed: 0\"], axis=1)\n",
    "# meltpool_training = pd.read_csv(os.path.join(work_dir, '1/Validation', 'Melt_Pool_Dimensions.csv'), index_col = False)\n",
    "\n",
    "# full_df_temp.head()\n",
    "\n",
    "# meltpool_training.head()\n",
    "\n",
    "# test_df = pd.merge(full_df_temp, meltpool_training,  how='left', left_on=['speed','power'], right_on = ['Laser_Speed','Laser_Power'])\n",
    "\n",
    "# test_df.drop([\"speed\", \"power\"], axis=1, inplace=True)\n",
    "# print(test_df.shape)\n",
    "# test_df.head()\n",
    "\n",
    "# test_df.to_csv(work_dir + r\"\\1\\Validation\\Joined_Melt_Pool_cv.csv\")"
   ]
  },
  {
   "cell_type": "markdown",
   "metadata": {},
   "source": [
    "## NN with joined meltpool"
   ]
  },
  {
   "cell_type": "markdown",
   "metadata": {},
   "source": [
    "### Training"
   ]
  },
  {
   "cell_type": "code",
   "execution_count": 7,
   "metadata": {},
   "outputs": [
    {
     "data": {
      "text/html": [
       "<div>\n",
       "<style scoped>\n",
       "    .dataframe tbody tr th:only-of-type {\n",
       "        vertical-align: middle;\n",
       "    }\n",
       "\n",
       "    .dataframe tbody tr th {\n",
       "        vertical-align: top;\n",
       "    }\n",
       "\n",
       "    .dataframe thead th {\n",
       "        text-align: right;\n",
       "    }\n",
       "</style>\n",
       "<table border=\"1\" class=\"dataframe\">\n",
       "  <thead>\n",
       "    <tr style=\"text-align: right;\">\n",
       "      <th></th>\n",
       "      <th>X_Coord</th>\n",
       "      <th>Y_Coord</th>\n",
       "      <th>Z_Coord</th>\n",
       "      <th>Temp</th>\n",
       "      <th>Laser_Speed</th>\n",
       "      <th>Laser_Power</th>\n",
       "      <th>Melt_Pool_Length</th>\n",
       "      <th>Melt_Pool_Width</th>\n",
       "      <th>Melt_Pool_Depth</th>\n",
       "    </tr>\n",
       "  </thead>\n",
       "  <tbody>\n",
       "    <tr>\n",
       "      <th>0</th>\n",
       "      <td>0.18</td>\n",
       "      <td>-0.21</td>\n",
       "      <td>0.0</td>\n",
       "      <td>0.00008</td>\n",
       "      <td>0.6</td>\n",
       "      <td>100</td>\n",
       "      <td>0.04</td>\n",
       "      <td>0.2803</td>\n",
       "      <td>0.2573</td>\n",
       "    </tr>\n",
       "    <tr>\n",
       "      <th>1</th>\n",
       "      <td>0.15</td>\n",
       "      <td>-0.21</td>\n",
       "      <td>0.0</td>\n",
       "      <td>0.00008</td>\n",
       "      <td>0.6</td>\n",
       "      <td>100</td>\n",
       "      <td>0.04</td>\n",
       "      <td>0.2803</td>\n",
       "      <td>0.2573</td>\n",
       "    </tr>\n",
       "    <tr>\n",
       "      <th>2</th>\n",
       "      <td>0.12</td>\n",
       "      <td>-0.21</td>\n",
       "      <td>0.0</td>\n",
       "      <td>0.00008</td>\n",
       "      <td>0.6</td>\n",
       "      <td>100</td>\n",
       "      <td>0.04</td>\n",
       "      <td>0.2803</td>\n",
       "      <td>0.2573</td>\n",
       "    </tr>\n",
       "    <tr>\n",
       "      <th>3</th>\n",
       "      <td>0.09</td>\n",
       "      <td>-0.21</td>\n",
       "      <td>0.0</td>\n",
       "      <td>0.00009</td>\n",
       "      <td>0.6</td>\n",
       "      <td>100</td>\n",
       "      <td>0.04</td>\n",
       "      <td>0.2803</td>\n",
       "      <td>0.2573</td>\n",
       "    </tr>\n",
       "    <tr>\n",
       "      <th>4</th>\n",
       "      <td>0.06</td>\n",
       "      <td>-0.21</td>\n",
       "      <td>0.0</td>\n",
       "      <td>0.00010</td>\n",
       "      <td>0.6</td>\n",
       "      <td>100</td>\n",
       "      <td>0.04</td>\n",
       "      <td>0.2803</td>\n",
       "      <td>0.2573</td>\n",
       "    </tr>\n",
       "  </tbody>\n",
       "</table>\n",
       "</div>"
      ],
      "text/plain": [
       "   X_Coord  Y_Coord  Z_Coord     Temp  Laser_Speed  Laser_Power  \\\n",
       "0     0.18    -0.21      0.0  0.00008          0.6          100   \n",
       "1     0.15    -0.21      0.0  0.00008          0.6          100   \n",
       "2     0.12    -0.21      0.0  0.00008          0.6          100   \n",
       "3     0.09    -0.21      0.0  0.00009          0.6          100   \n",
       "4     0.06    -0.21      0.0  0.00010          0.6          100   \n",
       "\n",
       "   Melt_Pool_Length  Melt_Pool_Width  Melt_Pool_Depth  \n",
       "0              0.04           0.2803           0.2573  \n",
       "1              0.04           0.2803           0.2573  \n",
       "2              0.04           0.2803           0.2573  \n",
       "3              0.04           0.2803           0.2573  \n",
       "4              0.04           0.2803           0.2573  "
      ]
     },
     "execution_count": 7,
     "metadata": {},
     "output_type": "execute_result"
    }
   ],
   "source": [
    "meltpool_training = pd.read_csv(os.path.join(work_dir, '1/Training', 'Joined_Melt_Pool.csv'), index_col = False).drop([\"Unnamed: 0\"], axis=1)\n",
    "meltpool_training.head()"
   ]
  },
  {
   "cell_type": "code",
   "execution_count": 8,
   "metadata": {},
   "outputs": [
    {
     "name": "stdout",
     "output_type": "stream",
     "text": [
      "(820800, 9)\n",
      "Index(['X_Coord', 'Y_Coord', 'Z_Coord', 'Temp', 'Laser_Speed', 'Laser_Power',\n",
      "       'Melt_Pool_Length', 'Melt_Pool_Width', 'Melt_Pool_Depth'],\n",
      "      dtype='object')\n"
     ]
    }
   ],
   "source": [
    "print(meltpool_training.shape)\n",
    "print(meltpool_training.columns)"
   ]
  },
  {
   "cell_type": "code",
   "execution_count": 9,
   "metadata": {},
   "outputs": [],
   "source": [
    "X_train, X_cv, y_train, y_cv = train_test_split(meltpool_training[['X_Coord', 'Y_Coord', 'Z_Coord', 'Temp', 'Laser_Speed', 'Laser_Power']], \n",
    "                                               meltpool_training[['Melt_Pool_Length', 'Melt_Pool_Width', 'Melt_Pool_Depth']], \n",
    "                                               test_size=0.33, random_state=42)"
   ]
  },
  {
   "cell_type": "code",
   "execution_count": 72,
   "metadata": {},
   "outputs": [],
   "source": [
    "keras.backend.clear_session()\n",
    "del model_joined\n",
    "\n",
    "inputs_joined = keras.Input(shape=[6])\n",
    "\n",
    "model_joined = keras.layers.Dense(8, activation=\"relu\", kernel_initializer=\"he_normal\")(inputs_joined)\n",
    "model_joined = keras.layers.Dense(9, activation=\"relu\", kernel_initializer=\"he_normal\")(inputs_joined)\n",
    "model_joined = keras.layers.Dense(10, activation=\"relu\", kernel_initializer=\"he_normal\")(inputs_joined)\n",
    "model_joined = keras.layers.Dense(16, activation=\"relu\", kernel_initializer=\"he_normal\")(model_joined)\n",
    "model_joined = keras.layers.Dense(16, activation=\"relu\", kernel_initializer=\"he_normal\")(model_joined)\n",
    "model_joined = keras.layers.Dense(32, activation=\"relu\", kernel_initializer=\"he_normal\")(model_joined)\n",
    "model_joined = keras.layers.Dense(64, activation=\"relu\", kernel_initializer=\"he_normal\")(model_joined)\n",
    "model_joined = keras.layers.Dense(128, activation=\"relu\", kernel_initializer=\"he_normal\")(model_joined)\n",
    "\n",
    "length = keras.layers.Dense(1)(model_joined)\n",
    "width = keras.layers.Dense(1)(model_joined)\n",
    "depth = keras.layers.Dense(1)(model_joined)\n",
    "\n",
    "model_joined = keras.models.Model(inputs=inputs_joined, outputs=[length, width, depth])\n",
    "\n",
    "model_joined.compile(optimizer='adam', loss=\"mean_squared_error\", metrics=[r_square])"
   ]
  },
  {
   "cell_type": "code",
   "execution_count": 73,
   "metadata": {},
   "outputs": [
    {
     "name": "stdout",
     "output_type": "stream",
     "text": [
      "dense_8 dense_9 dense_10\n"
     ]
    }
   ],
   "source": [
    "length = model_joined.layers[-3].name\n",
    "width = model_joined.layers[-2].name\n",
    "depth = model_joined.layers[-1].name\n",
    "print(length, width, depth)"
   ]
  },
  {
   "cell_type": "code",
   "execution_count": 74,
   "metadata": {},
   "outputs": [],
   "source": [
    "y_train_length = y_train[[\"Melt_Pool_Length\"]]\n",
    "y_train_width = y_train[[\"Melt_Pool_Width\"]]\n",
    "y_train_depth = y_train[[\"Melt_Pool_Depth\"]]"
   ]
  },
  {
   "cell_type": "code",
   "execution_count": 75,
   "metadata": {},
   "outputs": [],
   "source": [
    "y_cv_length = y_cv[[\"Melt_Pool_Length\"]]\n",
    "y_cv_width = y_cv[[\"Melt_Pool_Width\"]]\n",
    "y_cv_depth = y_cv[[\"Melt_Pool_Depth\"]]"
   ]
  },
  {
   "cell_type": "code",
   "execution_count": 76,
   "metadata": {},
   "outputs": [
    {
     "name": "stdout",
     "output_type": "stream",
     "text": [
      "WARNING:tensorflow:Falling back from v2 loop because of error: Failed to find data adapter that can handle input: <class 'pandas.core.frame.DataFrame'>, <class 'NoneType'>\n",
      "Train on 549936 samples, validate on 270864 samples\n",
      "Epoch 1/3\n",
      "549936/549936 [==============================] - 36s 66us/sample - loss: 5.9344 - dense_8_loss: 0.1035 - dense_9_loss: 5.2473 - dense_10_loss: 0.5832 - dense_8_r_square: -0.1714 - dense_9_r_square: -127.6963 - dense_10_r_square: -14.1096 - val_loss: 0.0654 - val_dense_8_loss: 0.0029 - val_dense_9_loss: 0.0422 - val_dense_10_loss: 0.0202 - val_dense_8_r_square: 0.9642 - val_dense_9_r_square: -0.0552 - val_dense_10_r_square: 0.4762\n",
      "Epoch 2/3\n",
      "549936/549936 [==============================] - 35s 64us/sample - loss: 0.0042 - dense_8_loss: 2.9026e-04 - dense_9_loss: 0.0022 - dense_10_loss: 0.0017 - dense_8_r_square: 0.9965 - dense_9_r_square: 0.9442 - dense_10_r_square: 0.9549 - val_loss: 0.0038 - val_dense_8_loss: 7.4348e-04 - val_dense_9_loss: 0.0016 - val_dense_10_loss: 0.0014 - val_dense_8_r_square: 0.9910 - val_dense_9_r_square: 0.9601 - val_dense_10_r_square: 0.9630\n",
      "Epoch 3/3\n",
      "549936/549936 [==============================] - 36s 66us/sample - loss: 0.0010 - dense_8_loss: 1.3672e-04 - dense_9_loss: 4.5656e-04 - dense_10_loss: 4.5049e-04 - dense_8_r_square: 0.9984 - dense_9_r_square: 0.9887 - dense_10_r_square: 0.9884 - val_loss: 1.9282e-04 - val_dense_8_loss: 4.5123e-05 - val_dense_9_loss: 5.7307e-05 - val_dense_10_loss: 9.0386e-05 - val_dense_8_r_square: 0.9994 - val_dense_9_r_square: 0.9986 - val_dense_10_r_square: 0.9977\n"
     ]
    }
   ],
   "source": [
    "history = model_joined.fit(X_train, {length: y_train_length, width: y_train_width, depth: y_train_depth}, batch_size=32,\n",
    "                              epochs = 3, validation_data = (X_cv, [y_cv_length, y_cv_width, y_cv_depth]), \n",
    "                              callbacks=[tensorboard_cb])"
   ]
  },
  {
   "cell_type": "code",
   "execution_count": 77,
   "metadata": {},
   "outputs": [
    {
     "name": "stdout",
     "output_type": "stream",
     "text": [
      "WARNING:tensorflow:Falling back from v2 loop because of error: Failed to find data adapter that can handle input: <class 'pandas.core.frame.DataFrame'>, <class 'NoneType'>\n"
     ]
    }
   ],
   "source": [
    "ys_pred_cv = model_joined.predict(X_cv)"
   ]
  },
  {
   "cell_type": "code",
   "execution_count": 78,
   "metadata": {},
   "outputs": [],
   "source": [
    "y_cv_length_pred = ys_pred_cv[0]\n",
    "y_cv_width_pred = ys_pred_cv[1]\n",
    "y_cv_depth_pred = ys_pred_cv[2]"
   ]
  },
  {
   "cell_type": "code",
   "execution_count": 79,
   "metadata": {},
   "outputs": [
    {
     "name": "stdout",
     "output_type": "stream",
     "text": [
      "Length score: 0.9994826034645132\n",
      "Width score: 0.9986676755589585\n",
      "Depth score: 0.9978120910752801\n"
     ]
    }
   ],
   "source": [
    "print(f\"Length score: {r2_score(y_cv_length, y_cv_length_pred)}\")\n",
    "print(f\"Width score: {r2_score(y_cv_width, y_cv_width_pred)}\")\n",
    "print(f\"Depth score: {r2_score(y_cv_depth, y_cv_depth_pred)}\")"
   ]
  },
  {
   "cell_type": "code",
   "execution_count": 93,
   "metadata": {},
   "outputs": [
    {
     "data": {
      "text/plain": [
       "Reusing TensorBoard on port 6006 (pid 12368), started 8:30:55 ago. (Use '!kill 12368' to kill it.)"
      ]
     },
     "metadata": {},
     "output_type": "display_data"
    },
    {
     "data": {
      "text/html": [
       "\n",
       "      <iframe id=\"tensorboard-frame-8c002a58858da1e2\" width=\"100%\" height=\"800\" frameborder=\"0\">\n",
       "      </iframe>\n",
       "      <script>\n",
       "        (function() {\n",
       "          const frame = document.getElementById(\"tensorboard-frame-8c002a58858da1e2\");\n",
       "          const url = new URL(\"/\", window.location);\n",
       "          url.port = 6006;\n",
       "          frame.src = url;\n",
       "        })();\n",
       "      </script>\n",
       "  "
      ],
      "text/plain": [
       "<IPython.core.display.HTML object>"
      ]
     },
     "metadata": {},
     "output_type": "display_data"
    }
   ],
   "source": [
    "%load_ext tensorboard\n",
    "%tensorboard --logdir=./my_logs --port=6006"
   ]
  },
  {
   "cell_type": "code",
   "execution_count": 80,
   "metadata": {},
   "outputs": [
    {
     "data": {
      "text/plain": [
       "<matplotlib.collections.PathCollection at 0x1c9031a91d0>"
      ]
     },
     "execution_count": 80,
     "metadata": {},
     "output_type": "execute_result"
    },
    {
     "data": {
      "image/png": "[encoded data removed]",
      "text/plain": [
       "<Figure size 432x288 with 1 Axes>"
      ]
     },
     "metadata": {
      "needs_background": "light"
     },
     "output_type": "display_data"
    }
   ],
   "source": [
    "plt.scatter(y_cv_length, y_cv_length_pred)"
   ]
  },
  {
   "cell_type": "code",
   "execution_count": 81,
   "metadata": {},
   "outputs": [
    {
     "data": {
      "text/plain": [
       "<matplotlib.collections.PathCollection at 0x1c9010eccc0>"
      ]
     },
     "execution_count": 81,
     "metadata": {},
     "output_type": "execute_result"
    },
    {
     "data": {
      "image/png": "[encoded data removed]",
      "text/plain": [
       "<Figure size 432x288 with 1 Axes>"
      ]
     },
     "metadata": {
      "needs_background": "light"
     },
     "output_type": "display_data"
    }
   ],
   "source": [
    "plt.scatter(y_cv_width, y_cv_width_pred)"
   ]
  },
  {
   "cell_type": "code",
   "execution_count": 82,
   "metadata": {
    "scrolled": true
   },
   "outputs": [
    {
     "data": {
      "text/plain": [
       "<matplotlib.collections.PathCollection at 0x1c903178390>"
      ]
     },
     "execution_count": 82,
     "metadata": {},
     "output_type": "execute_result"
    },
    {
     "data": {
      "image/png": "[encoded data removed]",
      "text/plain": [
       "<Figure size 432x288 with 1 Axes>"
      ]
     },
     "metadata": {
      "needs_background": "light"
     },
     "output_type": "display_data"
    }
   ],
   "source": [
    "plt.scatter(y_cv_depth, y_cv_depth_pred)"
   ]
  },
  {
   "cell_type": "markdown",
   "metadata": {},
   "source": [
    "### Validation"
   ]
  },
  {
   "cell_type": "code",
   "execution_count": 83,
   "metadata": {},
   "outputs": [
    {
     "name": "stdout",
     "output_type": "stream",
     "text": [
      "(80256, 9)\n"
     ]
    },
    {
     "data": {
      "text/html": [
       "<div>\n",
       "<style scoped>\n",
       "    .dataframe tbody tr th:only-of-type {\n",
       "        vertical-align: middle;\n",
       "    }\n",
       "\n",
       "    .dataframe tbody tr th {\n",
       "        vertical-align: top;\n",
       "    }\n",
       "\n",
       "    .dataframe thead th {\n",
       "        text-align: right;\n",
       "    }\n",
       "</style>\n",
       "<table border=\"1\" class=\"dataframe\">\n",
       "  <thead>\n",
       "    <tr style=\"text-align: right;\">\n",
       "      <th></th>\n",
       "      <th>X_Coord</th>\n",
       "      <th>Y_Coord</th>\n",
       "      <th>Z_Coord</th>\n",
       "      <th>Temp</th>\n",
       "      <th>Laser_Speed</th>\n",
       "      <th>Laser_Power</th>\n",
       "      <th>Melt_Pool_Length</th>\n",
       "      <th>Melt_Pool_Width</th>\n",
       "      <th>Melt_Pool_Depth</th>\n",
       "    </tr>\n",
       "  </thead>\n",
       "  <tbody>\n",
       "    <tr>\n",
       "      <th>0</th>\n",
       "      <td>0.18</td>\n",
       "      <td>-0.21</td>\n",
       "      <td>0.0</td>\n",
       "      <td>0.00009</td>\n",
       "      <td>0.65</td>\n",
       "      <td>250</td>\n",
       "      <td>0.5172</td>\n",
       "      <td>0.6458</td>\n",
       "      <td>0.6286</td>\n",
       "    </tr>\n",
       "    <tr>\n",
       "      <th>1</th>\n",
       "      <td>0.15</td>\n",
       "      <td>-0.21</td>\n",
       "      <td>0.0</td>\n",
       "      <td>0.00009</td>\n",
       "      <td>0.65</td>\n",
       "      <td>250</td>\n",
       "      <td>0.5172</td>\n",
       "      <td>0.6458</td>\n",
       "      <td>0.6286</td>\n",
       "    </tr>\n",
       "    <tr>\n",
       "      <th>2</th>\n",
       "      <td>0.12</td>\n",
       "      <td>-0.21</td>\n",
       "      <td>0.0</td>\n",
       "      <td>0.00010</td>\n",
       "      <td>0.65</td>\n",
       "      <td>250</td>\n",
       "      <td>0.5172</td>\n",
       "      <td>0.6458</td>\n",
       "      <td>0.6286</td>\n",
       "    </tr>\n",
       "    <tr>\n",
       "      <th>3</th>\n",
       "      <td>0.09</td>\n",
       "      <td>-0.21</td>\n",
       "      <td>0.0</td>\n",
       "      <td>0.00011</td>\n",
       "      <td>0.65</td>\n",
       "      <td>250</td>\n",
       "      <td>0.5172</td>\n",
       "      <td>0.6458</td>\n",
       "      <td>0.6286</td>\n",
       "    </tr>\n",
       "    <tr>\n",
       "      <th>4</th>\n",
       "      <td>0.06</td>\n",
       "      <td>-0.21</td>\n",
       "      <td>0.0</td>\n",
       "      <td>0.00015</td>\n",
       "      <td>0.65</td>\n",
       "      <td>250</td>\n",
       "      <td>0.5172</td>\n",
       "      <td>0.6458</td>\n",
       "      <td>0.6286</td>\n",
       "    </tr>\n",
       "  </tbody>\n",
       "</table>\n",
       "</div>"
      ],
      "text/plain": [
       "   X_Coord  Y_Coord  Z_Coord     Temp  Laser_Speed  Laser_Power  \\\n",
       "0     0.18    -0.21      0.0  0.00009         0.65          250   \n",
       "1     0.15    -0.21      0.0  0.00009         0.65          250   \n",
       "2     0.12    -0.21      0.0  0.00010         0.65          250   \n",
       "3     0.09    -0.21      0.0  0.00011         0.65          250   \n",
       "4     0.06    -0.21      0.0  0.00015         0.65          250   \n",
       "\n",
       "   Melt_Pool_Length  Melt_Pool_Width  Melt_Pool_Depth  \n",
       "0            0.5172           0.6458           0.6286  \n",
       "1            0.5172           0.6458           0.6286  \n",
       "2            0.5172           0.6458           0.6286  \n",
       "3            0.5172           0.6458           0.6286  \n",
       "4            0.5172           0.6458           0.6286  "
      ]
     },
     "execution_count": 83,
     "metadata": {},
     "output_type": "execute_result"
    }
   ],
   "source": [
    "meltpool_validation = pd.read_csv(os.path.join(work_dir, '1/Validation', 'Joined_Melt_Pool_cv.csv'), index_col = False).drop([\"Unnamed: 0\"], axis=1)\n",
    "print(meltpool_validation.shape)\n",
    "meltpool_validation.head()"
   ]
  },
  {
   "cell_type": "code",
   "execution_count": 84,
   "metadata": {},
   "outputs": [],
   "source": [
    "X_test = meltpool_validation[['X_Coord', 'Y_Coord', 'Z_Coord', 'Temp', 'Laser_Speed', 'Laser_Power']]\n",
    "y_test = meltpool_validation[['Melt_Pool_Length', 'Melt_Pool_Width', 'Melt_Pool_Depth']]"
   ]
  },
  {
   "cell_type": "code",
   "execution_count": 85,
   "metadata": {},
   "outputs": [
    {
     "name": "stdout",
     "output_type": "stream",
     "text": [
      "WARNING:tensorflow:Falling back from v2 loop because of error: Failed to find data adapter that can handle input: <class 'pandas.core.frame.DataFrame'>, <class 'NoneType'>\n"
     ]
    }
   ],
   "source": [
    "ys_test_pred = model_joined.predict(X_test)"
   ]
  },
  {
   "cell_type": "code",
   "execution_count": 86,
   "metadata": {},
   "outputs": [],
   "source": [
    "y_test_length = y_test[[\"Melt_Pool_Length\"]]\n",
    "y_test_width = y_test[[\"Melt_Pool_Width\"]]\n",
    "y_test_depth = y_test[[\"Melt_Pool_Depth\"]]"
   ]
  },
  {
   "cell_type": "code",
   "execution_count": 87,
   "metadata": {},
   "outputs": [],
   "source": [
    "y_test_length_pred = ys_test_pred[0]\n",
    "y_test_width_pred = ys_test_pred[1]\n",
    "y_test_depth_pred = ys_test_pred[2]"
   ]
  },
  {
   "cell_type": "code",
   "execution_count": 88,
   "metadata": {},
   "outputs": [
    {
     "name": "stdout",
     "output_type": "stream",
     "text": [
      "Length score: 0.9993727297489365\n",
      "Width score: 0.9985781900720492\n",
      "Depth score: 0.9965764358750705\n"
     ]
    }
   ],
   "source": [
    "print(f\"Length score: {r2_score(y_test_length, y_test_length_pred)}\")\n",
    "print(f\"Width score: {r2_score(y_test_width, y_test_width_pred)}\")\n",
    "print(f\"Depth score: {r2_score(y_test_depth, y_test_depth_pred)}\")"
   ]
  },
  {
   "cell_type": "code",
   "execution_count": 89,
   "metadata": {},
   "outputs": [
    {
     "data": {
      "text/plain": [
       "<matplotlib.collections.PathCollection at 0x1c903118e48>"
      ]
     },
     "execution_count": 89,
     "metadata": {},
     "output_type": "execute_result"
    },
    {
     "data": {
      "image/png": "[encoded data removed]",
      "text/plain": [
       "<Figure size 432x288 with 1 Axes>"
      ]
     },
     "metadata": {
      "needs_background": "light"
     },
     "output_type": "display_data"
    }
   ],
   "source": [
    "plt.scatter(y_test_length, y_test_length_pred)"
   ]
  },
  {
   "cell_type": "code",
   "execution_count": 90,
   "metadata": {},
   "outputs": [
    {
     "data": {
      "text/plain": [
       "<matplotlib.collections.PathCollection at 0x1c90327bf98>"
      ]
     },
     "execution_count": 90,
     "metadata": {},
     "output_type": "execute_result"
    },
    {
     "data": {
      "image/png": "[encoded data removed]",
      "text/plain": [
       "<Figure size 432x288 with 1 Axes>"
      ]
     },
     "metadata": {
      "needs_background": "light"
     },
     "output_type": "display_data"
    }
   ],
   "source": [
    "plt.scatter(y_test_width, y_test_width_pred)"
   ]
  },
  {
   "cell_type": "code",
   "execution_count": 91,
   "metadata": {
    "scrolled": true
   },
   "outputs": [
    {
     "data": {
      "text/plain": [
       "<matplotlib.collections.PathCollection at 0x1c901248748>"
      ]
     },
     "execution_count": 91,
     "metadata": {},
     "output_type": "execute_result"
    },
    {
     "data": {
      "image/png": "[encoded data removed]",
      "text/plain": [
       "<Figure size 432x288 with 1 Axes>"
      ]
     },
     "metadata": {
      "needs_background": "light"
     },
     "output_type": "display_data"
    }
   ],
   "source": [
    "plt.scatter(y_test_depth, y_test_depth_pred)"
   ]
  },
  {
   "cell_type": "markdown",
   "metadata": {},
   "source": [
    "### Svae model"
   ]
  },
  {
   "cell_type": "code",
   "execution_count": 92,
   "metadata": {},
   "outputs": [
    {
     "name": "stdout",
     "output_type": "stream",
     "text": [
      "Saved trained model at C:\\Users\\tangc\\OneDrive\\Desktop\\Files\\HW\\Datathon\\saved_models\\joined_nn_task_1.h5 \n"
     ]
    }
   ],
   "source": [
    "# Save model\n",
    "model_name = 'joined_nn_task_1.h5'\n",
    "save_dir = os.path.join(os.getcwd(), 'saved_models')\n",
    "if not os.path.isdir(save_dir):\n",
    "    os.makedirs(save_dir)\n",
    "model_path = os.path.join(save_dir, model_name)\n",
    "model_joined.save(model_path)\n",
    "print('Saved trained model at %s ' % model_path)"
   ]
  },
  {
   "cell_type": "markdown",
   "metadata": {},
   "source": [
    "### Prediction"
   ]
  },
  {
   "cell_type": "code",
   "execution_count": null,
   "metadata": {},
   "outputs": [],
   "source": [
    "!conda install -c conda-forge catboost"
   ]
  },
  {
   "cell_type": "code",
   "execution_count": 99,
   "metadata": {},
   "outputs": [
    {
     "ename": "ModuleNotFoundError",
     "evalue": "No module named 'catboost'",
     "output_type": "error",
     "traceback": [
      "\u001b[1;31m---------------------------------------------------------------------------\u001b[0m",
      "\u001b[1;31mModuleNotFoundError\u001b[0m                       Traceback (most recent call last)",
      "\u001b[1;32m<ipython-input-99-a6b0c6fd9fb2>\u001b[0m in \u001b[0;36m<module>\u001b[1;34m\u001b[0m\n\u001b[0;32m      1\u001b[0m \u001b[1;32mimport\u001b[0m \u001b[0mpickle\u001b[0m\u001b[1;33m\u001b[0m\u001b[1;33m\u001b[0m\u001b[0m\n\u001b[1;32m----> 2\u001b[1;33m \u001b[1;32mimport\u001b[0m \u001b[0mcatboost\u001b[0m\u001b[1;33m\u001b[0m\u001b[1;33m\u001b[0m\u001b[0m\n\u001b[0m",
      "\u001b[1;31mModuleNotFoundError\u001b[0m: No module named 'catboost'"
     ]
    }
   ],
   "source": [
    "import pickle\n",
    "import catboost"
   ]
  },
  {
   "cell_type": "code",
   "execution_count": 98,
   "metadata": {},
   "outputs": [
    {
     "ename": "ModuleNotFoundError",
     "evalue": "No module named 'catboost'",
     "output_type": "error",
     "traceback": [
      "\u001b[1;31m---------------------------------------------------------------------------\u001b[0m",
      "\u001b[1;31mModuleNotFoundError\u001b[0m                       Traceback (most recent call last)",
      "\u001b[1;32m<ipython-input-98-c2331f2ff801>\u001b[0m in \u001b[0;36m<module>\u001b[1;34m\u001b[0m\n\u001b[1;32m----> 1\u001b[1;33m \u001b[0mmodel_1b\u001b[0m \u001b[1;33m=\u001b[0m \u001b[0mpickle\u001b[0m\u001b[1;33m.\u001b[0m\u001b[0mload\u001b[0m\u001b[1;33m(\u001b[0m\u001b[0mopen\u001b[0m\u001b[1;33m(\u001b[0m\u001b[1;34mr\"saved_models\\cat_1b_depth.sav\"\u001b[0m\u001b[1;33m,\u001b[0m \u001b[1;34m'rb'\u001b[0m\u001b[1;33m)\u001b[0m\u001b[1;33m)\u001b[0m\u001b[1;33m\u001b[0m\u001b[1;33m\u001b[0m\u001b[0m\n\u001b[0m",
      "\u001b[1;31mModuleNotFoundError\u001b[0m: No module named 'catboost'"
     ]
    }
   ],
   "source": [
    "model_1b = pickle.load(open(r\"saved_models\\cat_1b_depth.sav\", 'rb'))"
   ]
  }
 ],
 "metadata": {
  "kernelspec": {
   "display_name": "Python 3",
   "language": "python",
   "name": "python3"
  },
  "language_info": {
   "codemirror_mode": {
    "name": "ipython",
    "version": 3
   },
   "file_extension": ".py",
   "mimetype": "text/x-python",
   "name": "python",
   "nbconvert_exporter": "python",
   "pygments_lexer": "ipython3",
   "version": "3.7.3"
  }
 },
 "nbformat": 4,
 "nbformat_minor": 2
}
