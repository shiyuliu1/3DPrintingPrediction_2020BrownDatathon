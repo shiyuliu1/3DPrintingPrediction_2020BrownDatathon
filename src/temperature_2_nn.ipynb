{
 "cells": [
  {
   "cell_type": "code",
   "execution_count": 1,
   "metadata": {},
   "outputs": [],
   "source": [
    "import numpy as np\n",
    "import pandas as pd\n",
    "import os\n",
    "import random\n",
    "import matplotlib\n",
    "import matplotlib.pyplot as plt\n",
    "import matplotlib.image as mpimg\n",
    "from sklearn.dummy import DummyRegressor\n",
    "from sklearn.metrics import r2_score\n",
    "import tensorflow as tf\n",
    "from tensorflow import keras\n",
    "from sklearn.model_selection import train_test_split\n",
    "import matplotlib\n",
    "import matplotlib.pyplot as plt\n",
    "from sklearn.metrics import r2_score"
   ]
  },
  {
   "cell_type": "code",
   "execution_count": 2,
   "metadata": {},
   "outputs": [
    {
     "name": "stdout",
     "output_type": "stream",
     "text": [
      "TensorFlow version: 2.0.0\n"
     ]
    }
   ],
   "source": [
    "# Print TF version, keep the version in mind when you look the documentation.\n",
    "print('TensorFlow version: {}'.format(tf.__version__))"
   ]
  },
  {
   "cell_type": "markdown",
   "metadata": {},
   "source": [
    "## Read Data"
   ]
  },
  {
   "cell_type": "code",
   "execution_count": 3,
   "metadata": {},
   "outputs": [
    {
     "name": "stdout",
     "output_type": "stream",
     "text": [
      "['.ipynb_checkpoints', '1', '2', 'EDA.ipynb', 'Finite_Element_Model.png', 'Introduction.ipynb', 'Joined_Melt_Pool', 'Meltpool.png', 'meltpool_1_nn.ipynb', 'meltpool_2_nn.ipynb', 'Merging data.ipynb', 'MergingData_TempPrediction.ipynb', 'my_logs', 'Predict.ipynb', 'prediction_submission.csv', 'README.docx', 'saved_models', 'temperature_2_nn.ipynb']\n"
     ]
    }
   ],
   "source": [
    "work_dir = r'C:\\Users\\tangc\\OneDrive\\Desktop\\Files\\HW\\Datathon'\n",
    "print(os.listdir(work_dir))"
   ]
  },
  {
   "cell_type": "code",
   "execution_count": 4,
   "metadata": {},
   "outputs": [],
   "source": [
    "train_temp_2 = pd.read_csv(work_dir + r\"\\2\\Training\\random_samples_temp_50.csv\").drop([\"Unnamed: 0\"], axis=1)\n",
    "cv_temp_2 = pd.read_csv(work_dir + r\"\\2\\Training\\random_samples_temp_10.csv\").drop([\"Unnamed: 0\"], axis=1)"
   ]
  },
  {
   "cell_type": "code",
   "execution_count": 5,
   "metadata": {},
   "outputs": [
    {
     "name": "stdout",
     "output_type": "stream",
     "text": [
      "(3448235, 9)\n",
      "Index(['X_Coord', 'Y_Coord', 'Z_Coord', 'Edge_Distance', 'Laser_Direction',\n",
      "       'Temp', 'LasPower', 'LasSpeed', 'LasAngle'],\n",
      "      dtype='object')\n"
     ]
    },
    {
     "data": {
      "text/html": [
       "<div>\n",
       "<style scoped>\n",
       "    .dataframe tbody tr th:only-of-type {\n",
       "        vertical-align: middle;\n",
       "    }\n",
       "\n",
       "    .dataframe tbody tr th {\n",
       "        vertical-align: top;\n",
       "    }\n",
       "\n",
       "    .dataframe thead th {\n",
       "        text-align: right;\n",
       "    }\n",
       "</style>\n",
       "<table border=\"1\" class=\"dataframe\">\n",
       "  <thead>\n",
       "    <tr style=\"text-align: right;\">\n",
       "      <th></th>\n",
       "      <th>X_Coord</th>\n",
       "      <th>Y_Coord</th>\n",
       "      <th>Z_Coord</th>\n",
       "      <th>Edge_Distance</th>\n",
       "      <th>Laser_Direction</th>\n",
       "      <th>Temp</th>\n",
       "      <th>LasPower</th>\n",
       "      <th>LasSpeed</th>\n",
       "      <th>LasAngle</th>\n",
       "    </tr>\n",
       "  </thead>\n",
       "  <tbody>\n",
       "    <tr>\n",
       "      <th>0</th>\n",
       "      <td>0.176231</td>\n",
       "      <td>-0.200626</td>\n",
       "      <td>0.00</td>\n",
       "      <td>0.0658</td>\n",
       "      <td>-1</td>\n",
       "      <td>0.00091</td>\n",
       "      <td>200.0</td>\n",
       "      <td>0.6</td>\n",
       "      <td>70</td>\n",
       "    </tr>\n",
       "    <tr>\n",
       "      <th>1</th>\n",
       "      <td>0.176231</td>\n",
       "      <td>-0.200626</td>\n",
       "      <td>-0.03</td>\n",
       "      <td>0.0658</td>\n",
       "      <td>-1</td>\n",
       "      <td>0.00088</td>\n",
       "      <td>200.0</td>\n",
       "      <td>0.6</td>\n",
       "      <td>70</td>\n",
       "    </tr>\n",
       "    <tr>\n",
       "      <th>2</th>\n",
       "      <td>0.176231</td>\n",
       "      <td>-0.200626</td>\n",
       "      <td>-0.06</td>\n",
       "      <td>0.0658</td>\n",
       "      <td>-1</td>\n",
       "      <td>0.00078</td>\n",
       "      <td>200.0</td>\n",
       "      <td>0.6</td>\n",
       "      <td>70</td>\n",
       "    </tr>\n",
       "    <tr>\n",
       "      <th>3</th>\n",
       "      <td>0.176231</td>\n",
       "      <td>-0.200626</td>\n",
       "      <td>-0.09</td>\n",
       "      <td>0.0658</td>\n",
       "      <td>-1</td>\n",
       "      <td>0.00072</td>\n",
       "      <td>200.0</td>\n",
       "      <td>0.6</td>\n",
       "      <td>70</td>\n",
       "    </tr>\n",
       "    <tr>\n",
       "      <th>4</th>\n",
       "      <td>0.176231</td>\n",
       "      <td>-0.200626</td>\n",
       "      <td>-0.12</td>\n",
       "      <td>0.0658</td>\n",
       "      <td>-1</td>\n",
       "      <td>0.00068</td>\n",
       "      <td>200.0</td>\n",
       "      <td>0.6</td>\n",
       "      <td>70</td>\n",
       "    </tr>\n",
       "  </tbody>\n",
       "</table>\n",
       "</div>"
      ],
      "text/plain": [
       "    X_Coord   Y_Coord  Z_Coord  Edge_Distance  Laser_Direction     Temp  \\\n",
       "0  0.176231 -0.200626     0.00         0.0658               -1  0.00091   \n",
       "1  0.176231 -0.200626    -0.03         0.0658               -1  0.00088   \n",
       "2  0.176231 -0.200626    -0.06         0.0658               -1  0.00078   \n",
       "3  0.176231 -0.200626    -0.09         0.0658               -1  0.00072   \n",
       "4  0.176231 -0.200626    -0.12         0.0658               -1  0.00068   \n",
       "\n",
       "   LasPower  LasSpeed  LasAngle  \n",
       "0     200.0       0.6        70  \n",
       "1     200.0       0.6        70  \n",
       "2     200.0       0.6        70  \n",
       "3     200.0       0.6        70  \n",
       "4     200.0       0.6        70  "
      ]
     },
     "execution_count": 5,
     "metadata": {},
     "output_type": "execute_result"
    }
   ],
   "source": [
    "print(train_temp_2.shape)\n",
    "print(train_temp_2.columns)\n",
    "train_temp_2.head()"
   ]
  },
  {
   "cell_type": "code",
   "execution_count": 6,
   "metadata": {},
   "outputs": [],
   "source": [
    "X_2_train = train_temp_2.drop([\"Temp\"], axis=1)\n",
    "y_2_train = train_temp_2[[\"Temp\"]]\n",
    "X_2_cv = cv_temp_2.drop([\"Temp\"], axis=1)\n",
    "y_2_cv = cv_temp_2[[\"Temp\"]]"
   ]
  },
  {
   "cell_type": "code",
   "execution_count": 7,
   "metadata": {},
   "outputs": [],
   "source": [
    "# Tensor Board\n",
    "root_logdir = os.path.join(os.curdir, \"my_logs\")\n",
    "def get_run_logdir():\n",
    "    import time\n",
    "    run_id = time.strftime(\"run_%Y_%m_%d-%H_%M_%S\")\n",
    "    return os.path.join(root_logdir, run_id)\n",
    "run_logdir = get_run_logdir()\n",
    "run_logdir\n",
    "tensorboard_cb = keras.callbacks.TensorBoard(run_logdir)"
   ]
  },
  {
   "cell_type": "code",
   "execution_count": 8,
   "metadata": {},
   "outputs": [],
   "source": [
    "def r_square(y_true, y_pred):\n",
    "    from tensorflow.keras import backend as K\n",
    "    SS_res =  K.sum(K.square(y_true - y_pred)) \n",
    "    SS_tot = K.sum(K.square(y_true - K.mean(y_true))) \n",
    "    return -( 1 - SS_res/(SS_tot + K.epsilon()) )"
   ]
  },
  {
   "cell_type": "code",
   "execution_count": 20,
   "metadata": {},
   "outputs": [],
   "source": [
    "keras.backend.clear_session()\n",
    "del model_temp_2\n",
    "\n",
    "inputs = keras.Input(shape=[8])\n",
    "\n",
    "for i in range(4):\n",
    "    model_temp_2 = keras.layers.Dense(10 + i, activation=\"relu\", kernel_initializer=\"he_normal\")(inputs)\n",
    "model_temp_2 = keras.layers.BatchNormalization(momentum=0.15)(model_temp_2)\n",
    "\n",
    "for i in range(2):\n",
    "    model_temp_2 = keras.layers.Dense(20 + i, activation=\"relu\", kernel_initializer=\"he_normal\")(model_temp_2)\n",
    "model_temp_2 = keras.layers.BatchNormalization(momentum=0.15)(model_temp_2)\n",
    "model_temp_2 = keras.layers.Dropout(rate=0.15)(model_temp_2)\n",
    "\n",
    "for i in range(2):\n",
    "    model_temp_2 = keras.layers.Dense(40 + i, activation=\"relu\", kernel_initializer=\"he_normal\")(model_temp_2)\n",
    "model_temp_2 = keras.layers.BatchNormalization(momentum=0.15)(model_temp_2)\n",
    "\n",
    "for i in range(2):\n",
    "    model_temp_2 = keras.layers.Dense(80 + i, activation=\"elu\", kernel_initializer=\"he_normal\")(model_temp_2)\n",
    "model_temp_2 = keras.layers.BatchNormalization(momentum=0.15)(model_temp_2)\n",
    "model_temp_2 = keras.layers.Dropout(rate=0.15)(model_temp_2)\n",
    "\n",
    "for i in range(2):\n",
    "    model_temp_2 = keras.layers.Dense(160 + i, activation=\"elu\", kernel_initializer=\"he_normal\")(model_temp_2)\n",
    "model_temp_2 = keras.layers.BatchNormalization(momentum=0.15)(model_temp_2)\n",
    "model_temp_2 = keras.layers.Dropout(rate=0.15)(model_temp_2)\n",
    "\n",
    "for i in range(2):\n",
    "    model_temp_2 = keras.layers.Dense(320 + i, activation=\"elu\", kernel_initializer=\"he_normal\")(model_temp_2)\n",
    "model_temp_2 = keras.layers.BatchNormalization(momentum=0.15)(model_temp_2)\n",
    "model_temp_2 = keras.layers.Dropout(rate=0.15)(model_temp_2)\n",
    "\n",
    "outputs = keras.layers.Dense(1)(model_temp_2)\n",
    "\n",
    "model_temp_2 = keras.models.Model(inputs=inputs, outputs=outputs)\n",
    "\n",
    "model_temp_2.compile(optimizer='adam', loss=r_square)"
   ]
  },
  {
   "cell_type": "code",
   "execution_count": 21,
   "metadata": {},
   "outputs": [
    {
     "name": "stdout",
     "output_type": "stream",
     "text": [
      "WARNING:tensorflow:Falling back from v2 loop because of error: Failed to find data adapter that can handle input: <class 'pandas.core.frame.DataFrame'>, <class 'NoneType'>\n",
      "Train on 3448235 samples, validate on 1016827 samples\n",
      "Epoch 1/2\n",
      "3448235/3448235 [==============================] - 874s 254us/sample - loss: 0.0025 - r_square: -4.1832 - val_loss: 9.0182e-04 - val_r_square: -0.0527\n",
      "Epoch 2/2\n",
      "3448235/3448235 [==============================] - 934s 271us/sample - loss: 8.3109e-04 - r_square: -0.0624 - val_loss: 9.2674e-04 - val_r_square: -0.0531\n"
     ]
    }
   ],
   "source": [
    "batch_size = 32\n",
    "history = model_temp_2.fit(X_2_train, y_2_train, batch_size=batch_size,\n",
    "                              epochs = 2, validation_data = (X_2_cv, y_2_cv), \n",
    "                              callbacks=[tensorboard_cb])"
   ]
  },
  {
   "cell_type": "code",
   "execution_count": 22,
   "metadata": {},
   "outputs": [
    {
     "name": "stdout",
     "output_type": "stream",
     "text": [
      "WARNING:tensorflow:Falling back from v2 loop because of error: Failed to find data adapter that can handle input: <class 'pandas.core.frame.DataFrame'>, <class 'NoneType'>\n"
     ]
    }
   ],
   "source": [
    "y_2_cv_pred = model_temp_2.predict(X_2_cv)"
   ]
  },
  {
   "cell_type": "code",
   "execution_count": 23,
   "metadata": {},
   "outputs": [
    {
     "data": {
      "text/plain": [
       "-0.02767428889610657"
      ]
     },
     "execution_count": 23,
     "metadata": {},
     "output_type": "execute_result"
    }
   ],
   "source": [
    "r2_score(y_2_cv, y_2_cv_pred)"
   ]
  },
  {
   "cell_type": "code",
   "execution_count": 24,
   "metadata": {},
   "outputs": [
    {
     "data": {
      "text/plain": [
       "<matplotlib.collections.PathCollection at 0x1de4f13f978>"
      ]
     },
     "execution_count": 24,
     "metadata": {},
     "output_type": "execute_result"
    },
    {
     "data": {
      "image/png": "[encoded data removed]",
      "text/plain": [
       "<Figure size 432x288 with 1 Axes>"
      ]
     },
     "metadata": {
      "needs_background": "light"
     },
     "output_type": "display_data"
    }
   ],
   "source": [
    "plt.scatter(y_2_cv, y_2_cv_pred)"
   ]
  }
 ],
 "metadata": {
  "kernelspec": {
   "display_name": "Python 3",
   "language": "python",
   "name": "python3"
  },
  "language_info": {
   "codemirror_mode": {
    "name": "ipython",
    "version": 3
   },
   "file_extension": ".py",
   "mimetype": "text/x-python",
   "name": "python",
   "nbconvert_exporter": "python",
   "pygments_lexer": "ipython3",
   "version": "3.7.3"
  }
 },
 "nbformat": 4,
 "nbformat_minor": 2
}
