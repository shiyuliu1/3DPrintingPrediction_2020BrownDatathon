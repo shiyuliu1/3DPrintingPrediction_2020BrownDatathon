{
 "cells": [
  {
   "cell_type": "code",
   "execution_count": 70,
   "metadata": {},
   "outputs": [],
   "source": [
    "import numpy as np\n",
    "import pandas as pd\n",
    "\n",
    "from sklearn.preprocessing import MinMaxScaler\n",
    "from sklearn.preprocessing import StandardScaler\n",
    "from sklearn.metrics import r2_score\n",
    "from sklearn.model_selection import train_test_split\n",
    "\n",
    "from catboost import CatBoostRegressor\n",
    "\n",
    "\n",
    "\n",
    "import matplotlib.pyplot as plt"
   ]
  },
  {
   "cell_type": "code",
   "execution_count": 27,
   "metadata": {},
   "outputs": [
    {
     "data": {
      "text/html": [
       "<div>\n",
       "<style scoped>\n",
       "    .dataframe tbody tr th:only-of-type {\n",
       "        vertical-align: middle;\n",
       "    }\n",
       "\n",
       "    .dataframe tbody tr th {\n",
       "        vertical-align: top;\n",
       "    }\n",
       "\n",
       "    .dataframe thead th {\n",
       "        text-align: right;\n",
       "    }\n",
       "</style>\n",
       "<table border=\"1\" class=\"dataframe\">\n",
       "  <thead>\n",
       "    <tr style=\"text-align: right;\">\n",
       "      <th></th>\n",
       "      <th>Speed</th>\n",
       "      <th>Power</th>\n",
       "      <th>X_Coord</th>\n",
       "      <th>Y_Coord</th>\n",
       "      <th>Z_Coord</th>\n",
       "      <th>Temp</th>\n",
       "    </tr>\n",
       "  </thead>\n",
       "  <tbody>\n",
       "    <tr>\n",
       "      <td>0</td>\n",
       "      <td>1.02</td>\n",
       "      <td>350</td>\n",
       "      <td>0.18</td>\n",
       "      <td>-0.21</td>\n",
       "      <td>0.0</td>\n",
       "      <td>0.00014</td>\n",
       "    </tr>\n",
       "    <tr>\n",
       "      <td>1</td>\n",
       "      <td>1.02</td>\n",
       "      <td>350</td>\n",
       "      <td>0.15</td>\n",
       "      <td>-0.21</td>\n",
       "      <td>0.0</td>\n",
       "      <td>0.00014</td>\n",
       "    </tr>\n",
       "    <tr>\n",
       "      <td>2</td>\n",
       "      <td>1.02</td>\n",
       "      <td>350</td>\n",
       "      <td>0.12</td>\n",
       "      <td>-0.21</td>\n",
       "      <td>0.0</td>\n",
       "      <td>0.00014</td>\n",
       "    </tr>\n",
       "    <tr>\n",
       "      <td>3</td>\n",
       "      <td>1.02</td>\n",
       "      <td>350</td>\n",
       "      <td>0.09</td>\n",
       "      <td>-0.21</td>\n",
       "      <td>0.0</td>\n",
       "      <td>0.00014</td>\n",
       "    </tr>\n",
       "    <tr>\n",
       "      <td>4</td>\n",
       "      <td>1.02</td>\n",
       "      <td>350</td>\n",
       "      <td>0.06</td>\n",
       "      <td>-0.21</td>\n",
       "      <td>0.0</td>\n",
       "      <td>0.00015</td>\n",
       "    </tr>\n",
       "  </tbody>\n",
       "</table>\n",
       "</div>"
      ],
      "text/plain": [
       "   Speed  Power  X_Coord  Y_Coord  Z_Coord     Temp\n",
       "0   1.02    350     0.18    -0.21      0.0  0.00014\n",
       "1   1.02    350     0.15    -0.21      0.0  0.00014\n",
       "2   1.02    350     0.12    -0.21      0.0  0.00014\n",
       "3   1.02    350     0.09    -0.21      0.0  0.00014\n",
       "4   1.02    350     0.06    -0.21      0.0  0.00015"
      ]
     },
     "execution_count": 27,
     "metadata": {},
     "output_type": "execute_result"
    }
   ],
   "source": [
    "train_df = pd.read_csv(\"1_1ms_350W.csv\", index_col=False)\n",
    "train_df.head()\n",
    "speed_list = [1.02 for _ in range(3648)]\n",
    "power_list = [350 for _ in range(3648)]\n",
    "train_df.insert(loc=0, column='Power', value=power_list)\n",
    "train_df.insert(loc=0, column='Speed', value=speed_list)\n",
    "train_df.head()"
   ]
  },
  {
   "cell_type": "code",
   "execution_count": 38,
   "metadata": {},
   "outputs": [
    {
     "data": {
      "text/html": [
       "<div>\n",
       "<style scoped>\n",
       "    .dataframe tbody tr th:only-of-type {\n",
       "        vertical-align: middle;\n",
       "    }\n",
       "\n",
       "    .dataframe tbody tr th {\n",
       "        vertical-align: top;\n",
       "    }\n",
       "\n",
       "    .dataframe thead th {\n",
       "        text-align: right;\n",
       "    }\n",
       "</style>\n",
       "<table border=\"1\" class=\"dataframe\">\n",
       "  <thead>\n",
       "    <tr style=\"text-align: right;\">\n",
       "      <th></th>\n",
       "      <th>Speed</th>\n",
       "      <th>Power</th>\n",
       "      <th>X_Coord</th>\n",
       "      <th>Y_Coord</th>\n",
       "      <th>Z_Coord</th>\n",
       "      <th>Temp</th>\n",
       "    </tr>\n",
       "  </thead>\n",
       "  <tbody>\n",
       "    <tr>\n",
       "      <td>0</td>\n",
       "      <td>1.05</td>\n",
       "      <td>325</td>\n",
       "      <td>0.18</td>\n",
       "      <td>-0.21</td>\n",
       "      <td>0.0</td>\n",
       "      <td>0.00013</td>\n",
       "    </tr>\n",
       "    <tr>\n",
       "      <td>1</td>\n",
       "      <td>1.05</td>\n",
       "      <td>325</td>\n",
       "      <td>0.15</td>\n",
       "      <td>-0.21</td>\n",
       "      <td>0.0</td>\n",
       "      <td>0.00013</td>\n",
       "    </tr>\n",
       "    <tr>\n",
       "      <td>2</td>\n",
       "      <td>1.05</td>\n",
       "      <td>325</td>\n",
       "      <td>0.12</td>\n",
       "      <td>-0.21</td>\n",
       "      <td>0.0</td>\n",
       "      <td>0.00013</td>\n",
       "    </tr>\n",
       "    <tr>\n",
       "      <td>3</td>\n",
       "      <td>1.05</td>\n",
       "      <td>325</td>\n",
       "      <td>0.09</td>\n",
       "      <td>-0.21</td>\n",
       "      <td>0.0</td>\n",
       "      <td>0.00014</td>\n",
       "    </tr>\n",
       "    <tr>\n",
       "      <td>4</td>\n",
       "      <td>1.05</td>\n",
       "      <td>325</td>\n",
       "      <td>0.06</td>\n",
       "      <td>-0.21</td>\n",
       "      <td>0.0</td>\n",
       "      <td>0.00015</td>\n",
       "    </tr>\n",
       "  </tbody>\n",
       "</table>\n",
       "</div>"
      ],
      "text/plain": [
       "   Speed  Power  X_Coord  Y_Coord  Z_Coord     Temp\n",
       "0   1.05    325     0.18    -0.21      0.0  0.00013\n",
       "1   1.05    325     0.15    -0.21      0.0  0.00013\n",
       "2   1.05    325     0.12    -0.21      0.0  0.00013\n",
       "3   1.05    325     0.09    -0.21      0.0  0.00014\n",
       "4   1.05    325     0.06    -0.21      0.0  0.00015"
      ]
     },
     "execution_count": 38,
     "metadata": {},
     "output_type": "execute_result"
    }
   ],
   "source": [
    "val_df = pd.read_csv(\"1_05ms_325W.csv\", index_col=False)\n",
    "val_df.head()\n",
    "speed_list = [1.05 for _ in range(3648)]\n",
    "power_list = [325 for _ in range(3648)]\n",
    "val_df.insert(loc=0, column='Power', value=power_list)\n",
    "val_df.insert(loc=0, column='Speed', value=speed_list)\n",
    "val_df.head()"
   ]
  },
  {
   "cell_type": "code",
   "execution_count": 39,
   "metadata": {},
   "outputs": [
    {
     "data": {
      "text/plain": [
       "0    0.00014\n",
       "1    0.00014\n",
       "2    0.00014\n",
       "3    0.00014\n",
       "4    0.00015\n",
       "Name: Temp, dtype: float64"
      ]
     },
     "execution_count": 39,
     "metadata": {},
     "output_type": "execute_result"
    }
   ],
   "source": [
    "train_x = train_df.drop(columns=[\"Temp\"])\n",
    "train_x.head()\n",
    "train_y = train_df[\"Temp\"]\n",
    "train_y.head()"
   ]
  },
  {
   "cell_type": "code",
   "execution_count": 40,
   "metadata": {},
   "outputs": [
    {
     "data": {
      "text/plain": [
       "0    0.00013\n",
       "1    0.00013\n",
       "2    0.00013\n",
       "3    0.00014\n",
       "4    0.00015\n",
       "Name: Temp, dtype: float64"
      ]
     },
     "execution_count": 40,
     "metadata": {},
     "output_type": "execute_result"
    }
   ],
   "source": [
    "val_x = val_df.drop(columns=[\"Temp\"])\n",
    "val_x.head()\n",
    "val_y = val_df[\"Temp\"]\n",
    "val_y.head()"
   ]
  },
  {
   "cell_type": "code",
   "execution_count": 46,
   "metadata": {},
   "outputs": [
    {
     "data": {
      "text/html": [
       "<div>\n",
       "<style scoped>\n",
       "    .dataframe tbody tr th:only-of-type {\n",
       "        vertical-align: middle;\n",
       "    }\n",
       "\n",
       "    .dataframe tbody tr th {\n",
       "        vertical-align: top;\n",
       "    }\n",
       "\n",
       "    .dataframe thead th {\n",
       "        text-align: right;\n",
       "    }\n",
       "</style>\n",
       "<table border=\"1\" class=\"dataframe\">\n",
       "  <thead>\n",
       "    <tr style=\"text-align: right;\">\n",
       "      <th></th>\n",
       "      <th>Speed</th>\n",
       "      <th>Power</th>\n",
       "      <th>X_Coord</th>\n",
       "      <th>Y_Coord</th>\n",
       "      <th>Z_Coord</th>\n",
       "    </tr>\n",
       "  </thead>\n",
       "  <tbody>\n",
       "    <tr>\n",
       "      <td>0</td>\n",
       "      <td>1.05</td>\n",
       "      <td>325</td>\n",
       "      <td>0.18</td>\n",
       "      <td>-0.21</td>\n",
       "      <td>0.0</td>\n",
       "    </tr>\n",
       "    <tr>\n",
       "      <td>1</td>\n",
       "      <td>1.05</td>\n",
       "      <td>325</td>\n",
       "      <td>0.15</td>\n",
       "      <td>-0.21</td>\n",
       "      <td>0.0</td>\n",
       "    </tr>\n",
       "    <tr>\n",
       "      <td>2</td>\n",
       "      <td>1.05</td>\n",
       "      <td>325</td>\n",
       "      <td>0.12</td>\n",
       "      <td>-0.21</td>\n",
       "      <td>0.0</td>\n",
       "    </tr>\n",
       "    <tr>\n",
       "      <td>3</td>\n",
       "      <td>1.05</td>\n",
       "      <td>325</td>\n",
       "      <td>0.09</td>\n",
       "      <td>-0.21</td>\n",
       "      <td>0.0</td>\n",
       "    </tr>\n",
       "    <tr>\n",
       "      <td>4</td>\n",
       "      <td>1.05</td>\n",
       "      <td>325</td>\n",
       "      <td>0.06</td>\n",
       "      <td>-0.21</td>\n",
       "      <td>0.0</td>\n",
       "    </tr>\n",
       "  </tbody>\n",
       "</table>\n",
       "</div>"
      ],
      "text/plain": [
       "   Speed  Power  X_Coord  Y_Coord  Z_Coord\n",
       "0   1.05    325     0.18    -0.21      0.0\n",
       "1   1.05    325     0.15    -0.21      0.0\n",
       "2   1.05    325     0.12    -0.21      0.0\n",
       "3   1.05    325     0.09    -0.21      0.0\n",
       "4   1.05    325     0.06    -0.21      0.0"
      ]
     },
     "execution_count": 46,
     "metadata": {},
     "output_type": "execute_result"
    }
   ],
   "source": [
    "val_x.head()"
   ]
  },
  {
   "cell_type": "code",
   "execution_count": 43,
   "metadata": {},
   "outputs": [
    {
     "data": {
      "text/plain": [
       "<catboost.core.CatBoostRegressor at 0x1022ad850>"
      ]
     },
     "execution_count": 43,
     "metadata": {},
     "output_type": "execute_result"
    }
   ],
   "source": [
    "CatBoostRegrModel = CatBoostRegressor(iterations=300, learning_rate=0.1, \n",
    "                                      depth=4,logging_level=\"Silent\", allow_const_label = True)\n",
    "CatBoostRegrModel.fit(train_x, train_y)\n"
   ]
  },
  {
   "cell_type": "code",
   "execution_count": 54,
   "metadata": {},
   "outputs": [
    {
     "data": {
      "text/plain": [
       "array([0.00035603, 0.00035603, 0.00035603, ..., 0.01100906, 0.01098228,\n",
       "       0.01097454])"
      ]
     },
     "execution_count": 54,
     "metadata": {},
     "output_type": "execute_result"
    }
   ],
   "source": [
    "y_pred = CatBoostRegrModel.predict(val_x)\n",
    "y_pred"
   ]
  },
  {
   "cell_type": "code",
   "execution_count": 55,
   "metadata": {},
   "outputs": [
    {
     "data": {
      "text/plain": [
       "0.978232421801977"
      ]
     },
     "execution_count": 55,
     "metadata": {},
     "output_type": "execute_result"
    }
   ],
   "source": [
    "r2_score(y_pred, val_y)"
   ]
  },
  {
   "cell_type": "code",
   "execution_count": 58,
   "metadata": {},
   "outputs": [
    {
     "data": {
      "text/plain": [
       "<matplotlib.collections.PathCollection at 0x1a16eac890>"
      ]
     },
     "execution_count": 58,
     "metadata": {},
     "output_type": "execute_result"
    },
    {
     "data": {
      "image/png": "[encoded data removed]",
      "text/plain": [
       "<Figure size 432x288 with 1 Axes>"
      ]
     },
     "metadata": {
      "needs_background": "light"
     },
     "output_type": "display_data"
    }
   ],
   "source": [
    "plt.scatter(y_pred, val_y)"
   ]
  },
  {
   "cell_type": "code",
   "execution_count": 67,
   "metadata": {},
   "outputs": [
    {
     "data": {
      "text/html": [
       "<div>\n",
       "<style scoped>\n",
       "    .dataframe tbody tr th:only-of-type {\n",
       "        vertical-align: middle;\n",
       "    }\n",
       "\n",
       "    .dataframe tbody tr th {\n",
       "        vertical-align: top;\n",
       "    }\n",
       "\n",
       "    .dataframe thead th {\n",
       "        text-align: right;\n",
       "    }\n",
       "</style>\n",
       "<table border=\"1\" class=\"dataframe\">\n",
       "  <thead>\n",
       "    <tr style=\"text-align: right;\">\n",
       "      <th></th>\n",
       "      <th>X_Coord</th>\n",
       "      <th>Y_Coord</th>\n",
       "      <th>Z_Coord</th>\n",
       "      <th>Temp</th>\n",
       "      <th>speed</th>\n",
       "      <th>power</th>\n",
       "    </tr>\n",
       "  </thead>\n",
       "  <tbody>\n",
       "    <tr>\n",
       "      <td>0</td>\n",
       "      <td>0.18</td>\n",
       "      <td>-0.21</td>\n",
       "      <td>0.0</td>\n",
       "      <td>0.00008</td>\n",
       "      <td>0.6</td>\n",
       "      <td>100</td>\n",
       "    </tr>\n",
       "    <tr>\n",
       "      <td>1</td>\n",
       "      <td>0.15</td>\n",
       "      <td>-0.21</td>\n",
       "      <td>0.0</td>\n",
       "      <td>0.00008</td>\n",
       "      <td>0.6</td>\n",
       "      <td>100</td>\n",
       "    </tr>\n",
       "    <tr>\n",
       "      <td>2</td>\n",
       "      <td>0.12</td>\n",
       "      <td>-0.21</td>\n",
       "      <td>0.0</td>\n",
       "      <td>0.00008</td>\n",
       "      <td>0.6</td>\n",
       "      <td>100</td>\n",
       "    </tr>\n",
       "    <tr>\n",
       "      <td>3</td>\n",
       "      <td>0.09</td>\n",
       "      <td>-0.21</td>\n",
       "      <td>0.0</td>\n",
       "      <td>0.00009</td>\n",
       "      <td>0.6</td>\n",
       "      <td>100</td>\n",
       "    </tr>\n",
       "    <tr>\n",
       "      <td>4</td>\n",
       "      <td>0.06</td>\n",
       "      <td>-0.21</td>\n",
       "      <td>0.0</td>\n",
       "      <td>0.00010</td>\n",
       "      <td>0.6</td>\n",
       "      <td>100</td>\n",
       "    </tr>\n",
       "  </tbody>\n",
       "</table>\n",
       "</div>"
      ],
      "text/plain": [
       "   X_Coord  Y_Coord  Z_Coord     Temp  speed  power\n",
       "0     0.18    -0.21      0.0  0.00008    0.6    100\n",
       "1     0.15    -0.21      0.0  0.00008    0.6    100\n",
       "2     0.12    -0.21      0.0  0.00008    0.6    100\n",
       "3     0.09    -0.21      0.0  0.00009    0.6    100\n",
       "4     0.06    -0.21      0.0  0.00010    0.6    100"
      ]
     },
     "execution_count": 67,
     "metadata": {},
     "output_type": "execute_result"
    }
   ],
   "source": [
    "df = pd.read_csv(\"full_temperature.csv\", index_col=False)\n",
    "df.drop(columns=[\"Unnamed: 0\"], inplace=True)\n",
    "df.head()"
   ]
  },
  {
   "cell_type": "code",
   "execution_count": 88,
   "metadata": {},
   "outputs": [
    {
     "data": {
      "text/plain": [
       "<catboost.core.CatBoostRegressor at 0x1a16c53fd0>"
      ]
     },
     "execution_count": 88,
     "metadata": {},
     "output_type": "execute_result"
    }
   ],
   "source": [
    "X = df.drop(columns=[\"Temp\"])\n",
    "X.head()\n",
    "Y = df[\"Temp\"]\n",
    "Y.head()\n",
    "\n",
    "\n",
    "CatBoostRegrModel = CatBoostRegressor(iterations=None,\n",
    "                        learning_rate=None,\n",
    "                        depth=None, \n",
    "                                      logging_level=\"Silent\")\n",
    "CatBoostRegrModel.fit(X_train, y_train)"
   ]
  },
  {
   "cell_type": "code",
   "execution_count": 89,
   "metadata": {},
   "outputs": [
    {
     "data": {
      "text/plain": [
       "<matplotlib.collections.PathCollection at 0x1a19c5b610>"
      ]
     },
     "execution_count": 89,
     "metadata": {},
     "output_type": "execute_result"
    },
    {
     "data": {
      "image/png": "[encoded data removed]",
      "text/plain": [
       "<Figure size 432x288 with 1 Axes>"
      ]
     },
     "metadata": {
      "needs_background": "light"
     },
     "output_type": "display_data"
    }
   ],
   "source": [
    "y_pred = CatBoostRegrModel.predict(X_test)\n",
    "plt.scatter(y_test, y_pred)"
   ]
  },
  {
   "cell_type": "code",
   "execution_count": 90,
   "metadata": {},
   "outputs": [
    {
     "data": {
      "text/plain": [
       "0.9906824329905597"
      ]
     },
     "execution_count": 90,
     "metadata": {},
     "output_type": "execute_result"
    }
   ],
   "source": [
    "r2_score(y_test, y_pred)"
   ]
  },
  {
   "cell_type": "code",
   "execution_count": 81,
   "metadata": {},
   "outputs": [
    {
     "name": "stderr",
     "output_type": "stream",
     "text": [
      "/Users/shiyuliu/opt/anaconda3/lib/python3.7/site-packages/sklearn/ensemble/forest.py:245: FutureWarning: The default value of n_estimators will change from 10 in version 0.20 to 100 in 0.22.\n",
      "  \"10 in version 0.20 to 100 in 0.22.\", FutureWarning)\n"
     ]
    },
    {
     "data": {
      "text/plain": [
       "0.9949878243750898"
      ]
     },
     "execution_count": 81,
     "metadata": {},
     "output_type": "execute_result"
    },
    {
     "data": {
      "image/png": "[encoded data removed]",
      "text/plain": [
       "<Figure size 432x288 with 1 Axes>"
      ]
     },
     "metadata": {
      "needs_background": "light"
     },
     "output_type": "display_data"
    }
   ],
   "source": [
    "from sklearn.ensemble import RandomForestRegressor\n",
    "rf_model = RandomForestRegressor()\n",
    "rf_model.fit(X_train, y_train)\n",
    "y_pred = rf_model.predict(X_test)\n",
    "plt.scatter(y_test, y_pred)\n",
    "r2_score(y_test, y_pred)"
   ]
  },
  {
   "cell_type": "code",
   "execution_count": null,
   "metadata": {},
   "outputs": [],
   "source": [
    "##################################################\n",
    "##################################################\n",
    "##################################################\n",
    "##################################################\n",
    "##################################################"
   ]
  },
  {
   "cell_type": "code",
   "execution_count": 385,
   "metadata": {},
   "outputs": [],
   "source": [
    "train_file = \"temp_train.csv\"\n",
    "test_file = \"temp_test.csv\""
   ]
  },
  {
   "cell_type": "code",
   "execution_count": 386,
   "metadata": {},
   "outputs": [
    {
     "data": {
      "text/html": [
       "<div>\n",
       "<style scoped>\n",
       "    .dataframe tbody tr th:only-of-type {\n",
       "        vertical-align: middle;\n",
       "    }\n",
       "\n",
       "    .dataframe tbody tr th {\n",
       "        vertical-align: top;\n",
       "    }\n",
       "\n",
       "    .dataframe thead th {\n",
       "        text-align: right;\n",
       "    }\n",
       "</style>\n",
       "<table border=\"1\" class=\"dataframe\">\n",
       "  <thead>\n",
       "    <tr style=\"text-align: right;\">\n",
       "      <th></th>\n",
       "      <th>X_Coord</th>\n",
       "      <th>Y_Coord</th>\n",
       "      <th>Z_Coord</th>\n",
       "      <th>Temp</th>\n",
       "      <th>speed</th>\n",
       "      <th>power</th>\n",
       "    </tr>\n",
       "  </thead>\n",
       "  <tbody>\n",
       "    <tr>\n",
       "      <td>0</td>\n",
       "      <td>0.18</td>\n",
       "      <td>-0.21</td>\n",
       "      <td>0.0</td>\n",
       "      <td>0.00008</td>\n",
       "      <td>0.6</td>\n",
       "      <td>125</td>\n",
       "    </tr>\n",
       "    <tr>\n",
       "      <td>1</td>\n",
       "      <td>0.15</td>\n",
       "      <td>-0.21</td>\n",
       "      <td>0.0</td>\n",
       "      <td>0.00008</td>\n",
       "      <td>0.6</td>\n",
       "      <td>125</td>\n",
       "    </tr>\n",
       "    <tr>\n",
       "      <td>2</td>\n",
       "      <td>0.12</td>\n",
       "      <td>-0.21</td>\n",
       "      <td>0.0</td>\n",
       "      <td>0.00008</td>\n",
       "      <td>0.6</td>\n",
       "      <td>125</td>\n",
       "    </tr>\n",
       "    <tr>\n",
       "      <td>3</td>\n",
       "      <td>0.09</td>\n",
       "      <td>-0.21</td>\n",
       "      <td>0.0</td>\n",
       "      <td>0.00009</td>\n",
       "      <td>0.6</td>\n",
       "      <td>125</td>\n",
       "    </tr>\n",
       "    <tr>\n",
       "      <td>4</td>\n",
       "      <td>0.06</td>\n",
       "      <td>-0.21</td>\n",
       "      <td>0.0</td>\n",
       "      <td>0.00011</td>\n",
       "      <td>0.6</td>\n",
       "      <td>125</td>\n",
       "    </tr>\n",
       "  </tbody>\n",
       "</table>\n",
       "</div>"
      ],
      "text/plain": [
       "   X_Coord  Y_Coord  Z_Coord     Temp  speed  power\n",
       "0     0.18    -0.21      0.0  0.00008    0.6    125\n",
       "1     0.15    -0.21      0.0  0.00008    0.6    125\n",
       "2     0.12    -0.21      0.0  0.00008    0.6    125\n",
       "3     0.09    -0.21      0.0  0.00009    0.6    125\n",
       "4     0.06    -0.21      0.0  0.00011    0.6    125"
      ]
     },
     "execution_count": 386,
     "metadata": {},
     "output_type": "execute_result"
    }
   ],
   "source": [
    "df_train = pd.read_csv(train_file, index_col=False)\n",
    "df_train.drop(columns=[\"Unnamed: 0\"], inplace=True)\n",
    "df_train.head()"
   ]
  },
  {
   "cell_type": "code",
   "execution_count": 331,
   "metadata": {},
   "outputs": [
    {
     "data": {
      "text/plain": [
       "(667584,)"
      ]
     },
     "execution_count": 331,
     "metadata": {},
     "output_type": "execute_result"
    }
   ],
   "source": [
    "X_train = df_train.drop(columns=[\"Temp\"])\n",
    "X_train.shape\n",
    "y_train = df_train[\"Temp\"]\n",
    "y_train.shape"
   ]
  },
  {
   "cell_type": "code",
   "execution_count": 332,
   "metadata": {},
   "outputs": [
    {
     "data": {
      "text/plain": [
       "(116736,)"
      ]
     },
     "execution_count": 332,
     "metadata": {},
     "output_type": "execute_result"
    }
   ],
   "source": [
    "df_test = pd.read_csv(test_file, index_col=False)\n",
    "df_test.drop(columns=[\"Unnamed: 0\"], inplace=True)\n",
    "df_test.head()\n",
    "X_test = df_test.drop(columns=[\"Temp\"])\n",
    "X_test.shape\n",
    "y_test = df_test[\"Temp\"]\n",
    "y_test.shape"
   ]
  },
  {
   "cell_type": "code",
   "execution_count": 333,
   "metadata": {},
   "outputs": [
    {
     "data": {
      "text/html": [
       "<div>\n",
       "<style scoped>\n",
       "    .dataframe tbody tr th:only-of-type {\n",
       "        vertical-align: middle;\n",
       "    }\n",
       "\n",
       "    .dataframe tbody tr th {\n",
       "        vertical-align: top;\n",
       "    }\n",
       "\n",
       "    .dataframe thead th {\n",
       "        text-align: right;\n",
       "    }\n",
       "</style>\n",
       "<table border=\"1\" class=\"dataframe\">\n",
       "  <thead>\n",
       "    <tr style=\"text-align: right;\">\n",
       "      <th></th>\n",
       "      <th>X_Coord</th>\n",
       "      <th>Y_Coord</th>\n",
       "      <th>Z_Coord</th>\n",
       "      <th>Temp</th>\n",
       "      <th>speed</th>\n",
       "      <th>power</th>\n",
       "    </tr>\n",
       "  </thead>\n",
       "  <tbody>\n",
       "    <tr>\n",
       "      <td>0</td>\n",
       "      <td>0.18</td>\n",
       "      <td>-0.21</td>\n",
       "      <td>0.0</td>\n",
       "      <td>0.00008</td>\n",
       "      <td>0.6</td>\n",
       "      <td>100</td>\n",
       "    </tr>\n",
       "    <tr>\n",
       "      <td>1</td>\n",
       "      <td>0.15</td>\n",
       "      <td>-0.21</td>\n",
       "      <td>0.0</td>\n",
       "      <td>0.00008</td>\n",
       "      <td>0.6</td>\n",
       "      <td>100</td>\n",
       "    </tr>\n",
       "    <tr>\n",
       "      <td>2</td>\n",
       "      <td>0.12</td>\n",
       "      <td>-0.21</td>\n",
       "      <td>0.0</td>\n",
       "      <td>0.00008</td>\n",
       "      <td>0.6</td>\n",
       "      <td>100</td>\n",
       "    </tr>\n",
       "    <tr>\n",
       "      <td>3</td>\n",
       "      <td>0.09</td>\n",
       "      <td>-0.21</td>\n",
       "      <td>0.0</td>\n",
       "      <td>0.00009</td>\n",
       "      <td>0.6</td>\n",
       "      <td>100</td>\n",
       "    </tr>\n",
       "    <tr>\n",
       "      <td>4</td>\n",
       "      <td>0.06</td>\n",
       "      <td>-0.21</td>\n",
       "      <td>0.0</td>\n",
       "      <td>0.00010</td>\n",
       "      <td>0.6</td>\n",
       "      <td>100</td>\n",
       "    </tr>\n",
       "  </tbody>\n",
       "</table>\n",
       "</div>"
      ],
      "text/plain": [
       "   X_Coord  Y_Coord  Z_Coord     Temp  speed  power\n",
       "0     0.18    -0.21      0.0  0.00008    0.6    100\n",
       "1     0.15    -0.21      0.0  0.00008    0.6    100\n",
       "2     0.12    -0.21      0.0  0.00008    0.6    100\n",
       "3     0.09    -0.21      0.0  0.00009    0.6    100\n",
       "4     0.06    -0.21      0.0  0.00010    0.6    100"
      ]
     },
     "execution_count": 333,
     "metadata": {},
     "output_type": "execute_result"
    }
   ],
   "source": [
    "df_test.head()"
   ]
  },
  {
   "cell_type": "code",
   "execution_count": 339,
   "metadata": {},
   "outputs": [
    {
     "data": {
      "text/plain": [
       "<catboost.core.CatBoostRegressor at 0x1a42411810>"
      ]
     },
     "execution_count": 339,
     "metadata": {},
     "output_type": "execute_result"
    }
   ],
   "source": [
    "CatBoostRegrModel = CatBoostRegressor(iterations=800,\n",
    "                                        learning_rate=0.1,\n",
    "                                        depth=14, \n",
    "                                        logging_level=\"Silent\")\n",
    "CatBoostRegrModel.fit(X_train, y_train)"
   ]
  },
  {
   "cell_type": "code",
   "execution_count": 340,
   "metadata": {},
   "outputs": [
    {
     "name": "stdout",
     "output_type": "stream",
     "text": [
      "min =  -0.0007678539421510371\n",
      "max =  1.0\n"
     ]
    },
    {
     "data": {
      "image/png": "[encoded data removed]",
      "text/plain": [
       "<Figure size 360x360 with 1 Axes>"
      ]
     },
     "metadata": {
      "needs_background": "light"
     },
     "output_type": "display_data"
    },
    {
     "data": {
      "text/plain": [
       "0.9992119431819301"
      ]
     },
     "execution_count": 340,
     "metadata": {},
     "output_type": "execute_result"
    }
   ],
   "source": [
    "y_pred = CatBoostRegrModel.predict(X_test)\n",
    "scatter_plot(y_test, y_pred)\n",
    "r2_score(y_test, y_pred, 0.3)"
   ]
  },
  {
   "cell_type": "code",
   "execution_count": 341,
   "metadata": {},
   "outputs": [],
   "source": [
    "import pickle\n",
    "filename = 'cat_1a.sav'\n",
    "pickle.dump(CatBoostRegrModel, open(filename, 'wb'))"
   ]
  },
  {
   "cell_type": "markdown",
   "metadata": {},
   "source": [
    "### Test validation on temperature."
   ]
  },
  {
   "cell_type": "code",
   "execution_count": 387,
   "metadata": {},
   "outputs": [],
   "source": [
    "model_val = pickle.load(open(\"cat_1a.sav\", 'rb'))"
   ]
  },
  {
   "cell_type": "code",
   "execution_count": 388,
   "metadata": {},
   "outputs": [
    {
     "data": {
      "text/html": [
       "<div>\n",
       "<style scoped>\n",
       "    .dataframe tbody tr th:only-of-type {\n",
       "        vertical-align: middle;\n",
       "    }\n",
       "\n",
       "    .dataframe tbody tr th {\n",
       "        vertical-align: top;\n",
       "    }\n",
       "\n",
       "    .dataframe thead th {\n",
       "        text-align: right;\n",
       "    }\n",
       "</style>\n",
       "<table border=\"1\" class=\"dataframe\">\n",
       "  <thead>\n",
       "    <tr style=\"text-align: right;\">\n",
       "      <th></th>\n",
       "      <th>X_Coord</th>\n",
       "      <th>Y_Coord</th>\n",
       "      <th>Z_Coord</th>\n",
       "      <th>Temp</th>\n",
       "      <th>speed</th>\n",
       "      <th>power</th>\n",
       "    </tr>\n",
       "  </thead>\n",
       "  <tbody>\n",
       "    <tr>\n",
       "      <td>0</td>\n",
       "      <td>0.18</td>\n",
       "      <td>-0.21</td>\n",
       "      <td>0.0</td>\n",
       "      <td>0.00009</td>\n",
       "      <td>0.65</td>\n",
       "      <td>250</td>\n",
       "    </tr>\n",
       "    <tr>\n",
       "      <td>1</td>\n",
       "      <td>0.15</td>\n",
       "      <td>-0.21</td>\n",
       "      <td>0.0</td>\n",
       "      <td>0.00009</td>\n",
       "      <td>0.65</td>\n",
       "      <td>250</td>\n",
       "    </tr>\n",
       "    <tr>\n",
       "      <td>2</td>\n",
       "      <td>0.12</td>\n",
       "      <td>-0.21</td>\n",
       "      <td>0.0</td>\n",
       "      <td>0.00010</td>\n",
       "      <td>0.65</td>\n",
       "      <td>250</td>\n",
       "    </tr>\n",
       "    <tr>\n",
       "      <td>3</td>\n",
       "      <td>0.09</td>\n",
       "      <td>-0.21</td>\n",
       "      <td>0.0</td>\n",
       "      <td>0.00011</td>\n",
       "      <td>0.65</td>\n",
       "      <td>250</td>\n",
       "    </tr>\n",
       "    <tr>\n",
       "      <td>4</td>\n",
       "      <td>0.06</td>\n",
       "      <td>-0.21</td>\n",
       "      <td>0.0</td>\n",
       "      <td>0.00015</td>\n",
       "      <td>0.65</td>\n",
       "      <td>250</td>\n",
       "    </tr>\n",
       "  </tbody>\n",
       "</table>\n",
       "</div>"
      ],
      "text/plain": [
       "   X_Coord  Y_Coord  Z_Coord     Temp  speed  power\n",
       "0     0.18    -0.21      0.0  0.00009   0.65    250\n",
       "1     0.15    -0.21      0.0  0.00009   0.65    250\n",
       "2     0.12    -0.21      0.0  0.00010   0.65    250\n",
       "3     0.09    -0.21      0.0  0.00011   0.65    250\n",
       "4     0.06    -0.21      0.0  0.00015   0.65    250"
      ]
     },
     "execution_count": 388,
     "metadata": {},
     "output_type": "execute_result"
    }
   ],
   "source": [
    "df1_cv = pd.read_csv(\"full_temperature_cv.csv\", index_col=False)\n",
    "df1_cv.drop(columns=[\"Unnamed: 0\"], inplace=True)\n",
    "df1_cv.head()"
   ]
  },
  {
   "cell_type": "code",
   "execution_count": 389,
   "metadata": {},
   "outputs": [],
   "source": [
    "X_val = df1_cv.drop(columns=[\"Temp\"])\n",
    "y_val = df1_cv[\"Temp\"]"
   ]
  },
  {
   "cell_type": "code",
   "execution_count": 390,
   "metadata": {},
   "outputs": [],
   "source": [
    "pre = model_val.predict(X_val)"
   ]
  },
  {
   "cell_type": "code",
   "execution_count": 397,
   "metadata": {},
   "outputs": [
    {
     "name": "stdout",
     "output_type": "stream",
     "text": [
      "min =  -0.0003545510096297907\n",
      "max =  1.0\n"
     ]
    },
    {
     "data": {
      "image/png": "[encoded data removed]",
      "text/plain": [
       "<Figure size 360x360 with 1 Axes>"
      ]
     },
     "metadata": {
      "needs_background": "light"
     },
     "output_type": "display_data"
    },
    {
     "data": {
      "text/plain": [
       "0.9990441828041772"
      ]
     },
     "execution_count": 397,
     "metadata": {},
     "output_type": "execute_result"
    }
   ],
   "source": [
    "scatter_plot(y_val, pre, 8)\n",
    "r2_score(y_val, pre)"
   ]
  },
  {
   "cell_type": "code",
   "execution_count": 127,
   "metadata": {},
   "outputs": [
    {
     "name": "stderr",
     "output_type": "stream",
     "text": [
      "/Users/shiyuliu/opt/anaconda3/lib/python3.7/site-packages/sklearn/ensemble/forest.py:245: FutureWarning: The default value of n_estimators will change from 10 in version 0.20 to 100 in 0.22.\n",
      "  \"10 in version 0.20 to 100 in 0.22.\", FutureWarning)\n"
     ]
    },
    {
     "data": {
      "text/plain": [
       "0.9933036141105975"
      ]
     },
     "execution_count": 127,
     "metadata": {},
     "output_type": "execute_result"
    },
    {
     "data": {
      "image/png": "[encoded data removed]",
      "text/plain": [
       "<Figure size 432x288 with 1 Axes>"
      ]
     },
     "metadata": {
      "needs_background": "light"
     },
     "output_type": "display_data"
    }
   ],
   "source": [
    "# from sklearn.ensemble import RandomForestRegressor\n",
    "# rf_model = RandomForestRegressor()\n",
    "# rf_model.fit(X_train, y_train)\n",
    "# y_pred = rf_model.predict(X_test)\n",
    "# plt.scatter(y_test, y_pred)\n",
    "# r2_score(y_test, y_pred)"
   ]
  },
  {
   "cell_type": "markdown",
   "metadata": {},
   "source": [
    "## Data Leakage version"
   ]
  },
  {
   "cell_type": "code",
   "execution_count": 136,
   "metadata": {},
   "outputs": [],
   "source": [
    "df = pd.read_csv(\"Joined_Melt_Pool.csv\", index_col=False)\n",
    "df.drop(columns=[\"Unnamed: 0\"], inplace=True)\n",
    "X = df.drop(columns=[\"Melt_Pool_Length\",\"Melt_Pool_Width\",\"Melt_Pool_Depth\"])\n",
    "y = df[[\"Melt_Pool_Length\",\"Melt_Pool_Width\",\"Melt_Pool_Depth\"]]"
   ]
  },
  {
   "cell_type": "code",
   "execution_count": 143,
   "metadata": {},
   "outputs": [],
   "source": [
    "X_train, X_val, y_train, y_val = train_test_split(X, y, test_size=0.25, random_state=42)"
   ]
  },
  {
   "cell_type": "code",
   "execution_count": 146,
   "metadata": {},
   "outputs": [
    {
     "name": "stderr",
     "output_type": "stream",
     "text": [
      "/Users/shiyuliu/opt/anaconda3/lib/python3.7/site-packages/sklearn/ensemble/forest.py:245: FutureWarning: The default value of n_estimators will change from 10 in version 0.20 to 100 in 0.22.\n",
      "  \"10 in version 0.20 to 100 in 0.22.\", FutureWarning)\n",
      "/Users/shiyuliu/opt/anaconda3/lib/python3.7/site-packages/sklearn/ensemble/forest.py:245: FutureWarning: The default value of n_estimators will change from 10 in version 0.20 to 100 in 0.22.\n",
      "  \"10 in version 0.20 to 100 in 0.22.\", FutureWarning)\n",
      "/Users/shiyuliu/opt/anaconda3/lib/python3.7/site-packages/sklearn/ensemble/forest.py:245: FutureWarning: The default value of n_estimators will change from 10 in version 0.20 to 100 in 0.22.\n",
      "  \"10 in version 0.20 to 100 in 0.22.\", FutureWarning)\n"
     ]
    }
   ],
   "source": [
    "y_train_length = y_train[\"Melt_Pool_Length\"]\n",
    "y_train_width = y_train[\"Melt_Pool_Width\"]\n",
    "y_train_depth = y_train[\"Melt_Pool_Depth\"]\n",
    "\n",
    "y_val_length = y_val[\"Melt_Pool_Length\"]\n",
    "y_val_width = y_val[\"Melt_Pool_Width\"]\n",
    "y_val_depth = y_val[\"Melt_Pool_Depth\"]\n",
    "\n",
    "rf_length_model = RandomForestRegressor()\n",
    "rf_width_model = RandomForestRegressor()\n",
    "rf_depth_model = RandomForestRegressor()\n",
    "\n",
    "rf_length_model.fit(X_train, y_train_length)\n",
    "y_pred_length = rf_length_model.predict(X_val)\n",
    "\n",
    "rf_width_model.fit(X_train, y_train_width)\n",
    "y_pred_width = rf_width_model.predict(X_val)\n",
    "\n",
    "rf_depth_model.fit(X_train, y_train_depth)\n",
    "y_pred_depth= rf_depth_model.predict(X_val)"
   ]
  },
  {
   "cell_type": "code",
   "execution_count": 152,
   "metadata": {},
   "outputs": [],
   "source": [
    "rf_depth_model.fit(X_train, y_train_depth)\n",
    "y_pred_depth= rf_depth_model.predict(X_val)"
   ]
  },
  {
   "cell_type": "code",
   "execution_count": 147,
   "metadata": {},
   "outputs": [
    {
     "data": {
      "text/plain": [
       "0.9999998891114567"
      ]
     },
     "execution_count": 147,
     "metadata": {},
     "output_type": "execute_result"
    },
    {
     "data": {
      "image/png": "[encoded data removed]",
      "text/plain": [
       "<Figure size 432x288 with 1 Axes>"
      ]
     },
     "metadata": {
      "needs_background": "light"
     },
     "output_type": "display_data"
    }
   ],
   "source": [
    "plt.scatter(y_val_length, y_pred_length)\n",
    "r2_score(y_val_length, y_pred_length)"
   ]
  },
  {
   "cell_type": "code",
   "execution_count": 154,
   "metadata": {},
   "outputs": [
    {
     "data": {
      "text/plain": [
       "1.0"
      ]
     },
     "execution_count": 154,
     "metadata": {},
     "output_type": "execute_result"
    },
    {
     "data": {
      "image/png": "[encoded data removed]",
      "text/plain": [
       "<Figure size 432x288 with 1 Axes>"
      ]
     },
     "metadata": {
      "needs_background": "light"
     },
     "output_type": "display_data"
    }
   ],
   "source": [
    "plt.scatter(y_val_width, y_pred_width)\n",
    "r2_score(y_val_width, y_pred_width)"
   ]
  },
  {
   "cell_type": "code",
   "execution_count": 153,
   "metadata": {},
   "outputs": [
    {
     "data": {
      "text/plain": [
       "1.0"
      ]
     },
     "execution_count": 153,
     "metadata": {},
     "output_type": "execute_result"
    },
    {
     "data": {
      "image/png": "[encoded data removed]",
      "text/plain": [
       "<Figure size 432x288 with 1 Axes>"
      ]
     },
     "metadata": {
      "needs_background": "light"
     },
     "output_type": "display_data"
    }
   ],
   "source": [
    "plt.scatter(y_val_depth, y_pred_depth)\n",
    "r2_score(y_val_depth, y_pred_depth)"
   ]
  },
  {
   "cell_type": "markdown",
   "metadata": {},
   "source": [
    "## NON-Leakage version"
   ]
  },
  {
   "cell_type": "code",
   "execution_count": 162,
   "metadata": {},
   "outputs": [
    {
     "data": {
      "text/html": [
       "<div>\n",
       "<style scoped>\n",
       "    .dataframe tbody tr th:only-of-type {\n",
       "        vertical-align: middle;\n",
       "    }\n",
       "\n",
       "    .dataframe tbody tr th {\n",
       "        vertical-align: top;\n",
       "    }\n",
       "\n",
       "    .dataframe thead th {\n",
       "        text-align: right;\n",
       "    }\n",
       "</style>\n",
       "<table border=\"1\" class=\"dataframe\">\n",
       "  <thead>\n",
       "    <tr style=\"text-align: right;\">\n",
       "      <th></th>\n",
       "      <th>X_Coord</th>\n",
       "      <th>Y_Coord</th>\n",
       "      <th>Z_Coord</th>\n",
       "      <th>Temp</th>\n",
       "      <th>Laser_Speed</th>\n",
       "      <th>Laser_Power</th>\n",
       "      <th>Melt_Pool_Length</th>\n",
       "      <th>Melt_Pool_Width</th>\n",
       "      <th>Melt_Pool_Depth</th>\n",
       "    </tr>\n",
       "  </thead>\n",
       "  <tbody>\n",
       "    <tr>\n",
       "      <td>0</td>\n",
       "      <td>0.18</td>\n",
       "      <td>-0.21</td>\n",
       "      <td>0.0</td>\n",
       "      <td>0.00009</td>\n",
       "      <td>0.65</td>\n",
       "      <td>250</td>\n",
       "      <td>0.5172</td>\n",
       "      <td>0.6458</td>\n",
       "      <td>0.6286</td>\n",
       "    </tr>\n",
       "    <tr>\n",
       "      <td>1</td>\n",
       "      <td>0.15</td>\n",
       "      <td>-0.21</td>\n",
       "      <td>0.0</td>\n",
       "      <td>0.00009</td>\n",
       "      <td>0.65</td>\n",
       "      <td>250</td>\n",
       "      <td>0.5172</td>\n",
       "      <td>0.6458</td>\n",
       "      <td>0.6286</td>\n",
       "    </tr>\n",
       "    <tr>\n",
       "      <td>2</td>\n",
       "      <td>0.12</td>\n",
       "      <td>-0.21</td>\n",
       "      <td>0.0</td>\n",
       "      <td>0.00010</td>\n",
       "      <td>0.65</td>\n",
       "      <td>250</td>\n",
       "      <td>0.5172</td>\n",
       "      <td>0.6458</td>\n",
       "      <td>0.6286</td>\n",
       "    </tr>\n",
       "    <tr>\n",
       "      <td>3</td>\n",
       "      <td>0.09</td>\n",
       "      <td>-0.21</td>\n",
       "      <td>0.0</td>\n",
       "      <td>0.00011</td>\n",
       "      <td>0.65</td>\n",
       "      <td>250</td>\n",
       "      <td>0.5172</td>\n",
       "      <td>0.6458</td>\n",
       "      <td>0.6286</td>\n",
       "    </tr>\n",
       "    <tr>\n",
       "      <td>4</td>\n",
       "      <td>0.06</td>\n",
       "      <td>-0.21</td>\n",
       "      <td>0.0</td>\n",
       "      <td>0.00015</td>\n",
       "      <td>0.65</td>\n",
       "      <td>250</td>\n",
       "      <td>0.5172</td>\n",
       "      <td>0.6458</td>\n",
       "      <td>0.6286</td>\n",
       "    </tr>\n",
       "  </tbody>\n",
       "</table>\n",
       "</div>"
      ],
      "text/plain": [
       "   X_Coord  Y_Coord  Z_Coord     Temp  Laser_Speed  Laser_Power  \\\n",
       "0     0.18    -0.21      0.0  0.00009         0.65          250   \n",
       "1     0.15    -0.21      0.0  0.00009         0.65          250   \n",
       "2     0.12    -0.21      0.0  0.00010         0.65          250   \n",
       "3     0.09    -0.21      0.0  0.00011         0.65          250   \n",
       "4     0.06    -0.21      0.0  0.00015         0.65          250   \n",
       "\n",
       "   Melt_Pool_Length  Melt_Pool_Width  Melt_Pool_Depth  \n",
       "0            0.5172           0.6458           0.6286  \n",
       "1            0.5172           0.6458           0.6286  \n",
       "2            0.5172           0.6458           0.6286  \n",
       "3            0.5172           0.6458           0.6286  \n",
       "4            0.5172           0.6458           0.6286  "
      ]
     },
     "execution_count": 162,
     "metadata": {},
     "output_type": "execute_result"
    }
   ],
   "source": [
    "df_cv.head()"
   ]
  },
  {
   "cell_type": "code",
   "execution_count": 416,
   "metadata": {},
   "outputs": [],
   "source": [
    "df_train = pd.read_csv(\"Joined_Melt_Pool.csv\", index_col=False)\n",
    "df_train.drop(columns=[\"Unnamed: 0\"], inplace=True)\n",
    "df_cv = pd.read_csv(\"Joined_Melt_Pool_cv.csv\", index_col=False)\n",
    "df_cv.drop(columns=[\"Unnamed: 0\"], inplace=True)\n",
    "df_cv.head()\n",
    "\n",
    "X_train = df_train.drop(columns=[\"Melt_Pool_Length\",\"Melt_Pool_Width\",\"Melt_Pool_Depth\"])\n",
    "y_train = df_train[[\"Melt_Pool_Length\",\"Melt_Pool_Width\",\"Melt_Pool_Depth\"]]\n",
    "\n",
    "X_val = df_cv.drop(columns=[\"Melt_Pool_Length\",\"Melt_Pool_Width\",\"Melt_Pool_Depth\"])\n",
    "y_val = df_cv[[\"Melt_Pool_Length\",\"Melt_Pool_Width\",\"Melt_Pool_Depth\"]]"
   ]
  },
  {
   "cell_type": "code",
   "execution_count": 417,
   "metadata": {},
   "outputs": [],
   "source": [
    "y_train_length = y_train[\"Melt_Pool_Length\"]\n",
    "y_train_width = y_train[\"Melt_Pool_Width\"]\n",
    "y_train_depth = y_train[\"Melt_Pool_Depth\"]\n",
    "\n",
    "y_val_length = y_val[\"Melt_Pool_Length\"]\n",
    "y_val_width = y_val[\"Melt_Pool_Width\"]\n",
    "y_val_depth = y_val[\"Melt_Pool_Depth\"]\n",
    "\n",
    "rf_length_model = CatBoostRegressor(iterations=600,\n",
    "                                        learning_rate=0.1,\n",
    "                                        depth=12, \n",
    "                                        logging_level=\"Silent\")\n",
    "rf_width_model = CatBoostRegressor(iterations=600,\n",
    "                                        learning_rate=0.1,\n",
    "                                        depth=8, \n",
    "                                        logging_level=\"Silent\")\n",
    "rf_depth_model = CatBoostRegressor(iterations=600,\n",
    "                                        learning_rate=0.1,\n",
    "                                        depth=8, \n",
    "                                        logging_level=\"Silent\")\n"
   ]
  },
  {
   "cell_type": "code",
   "execution_count": null,
   "metadata": {},
   "outputs": [],
   "source": [
    "import pickle\n",
    "filename = 'cat_1b_length.sav'\n",
    "pickle.dump(rf_length_model, open(filename, 'wb'))"
   ]
  },
  {
   "cell_type": "markdown",
   "metadata": {},
   "source": [
    "### Length Model"
   ]
  },
  {
   "cell_type": "code",
   "execution_count": 418,
   "metadata": {},
   "outputs": [
    {
     "name": "stdout",
     "output_type": "stream",
     "text": [
      "min =  0.0\n",
      "max =  1.0\n"
     ]
    },
    {
     "data": {
      "image/png": "[encoded data removed]",
      "text/plain": [
       "<Figure size 360x360 with 1 Axes>"
      ]
     },
     "metadata": {
      "needs_background": "light"
     },
     "output_type": "display_data"
    },
    {
     "data": {
      "text/plain": [
       "0.9992951023403244"
      ]
     },
     "execution_count": 418,
     "metadata": {},
     "output_type": "execute_result"
    }
   ],
   "source": [
    "rf_length_model.fit(X_train, y_train_length)\n",
    "y_pred_length = rf_length_model.predict(X_val)\n",
    "scatter_plot(y_val_length, y_pred_length, 10)\n",
    "r2_score(y_val_length, y_pred_length)"
   ]
  },
  {
   "cell_type": "code",
   "execution_count": 354,
   "metadata": {},
   "outputs": [],
   "source": []
  },
  {
   "cell_type": "markdown",
   "metadata": {},
   "source": [
    "### Width"
   ]
  },
  {
   "cell_type": "code",
   "execution_count": 401,
   "metadata": {},
   "outputs": [
    {
     "name": "stdout",
     "output_type": "stream",
     "text": [
      "min =  0.0\n",
      "max =  1.0\n"
     ]
    },
    {
     "data": {
      "image/png": "[encoded data removed]",
      "text/plain": [
       "<Figure size 360x360 with 1 Axes>"
      ]
     },
     "metadata": {
      "needs_background": "light"
     },
     "output_type": "display_data"
    },
    {
     "data": {
      "text/plain": [
       "0.999851653311943"
      ]
     },
     "execution_count": 401,
     "metadata": {},
     "output_type": "execute_result"
    }
   ],
   "source": [
    "rf_width_model.fit(X_train, y_train_width)\n",
    "y_pred_width = rf_width_model.predict(X_val)\n",
    "\n",
    "scatter_plot(y_val_width, y_pred_width, 10)\n",
    "r2_score(y_val_width, y_pred_width)"
   ]
  },
  {
   "cell_type": "code",
   "execution_count": 355,
   "metadata": {},
   "outputs": [],
   "source": [
    "import pickle\n",
    "filename = 'cat_1b_width.sav'\n",
    "pickle.dump(rf_width_model, open(filename, 'wb'))"
   ]
  },
  {
   "cell_type": "markdown",
   "metadata": {},
   "source": [
    "### Depth"
   ]
  },
  {
   "cell_type": "code",
   "execution_count": 402,
   "metadata": {},
   "outputs": [
    {
     "name": "stdout",
     "output_type": "stream",
     "text": [
      "min =  0.0\n",
      "max =  1.0\n"
     ]
    },
    {
     "data": {
      "image/png": "[encoded data removed]",
      "text/plain": [
       "<Figure size 360x360 with 1 Axes>"
      ]
     },
     "metadata": {
      "needs_background": "light"
     },
     "output_type": "display_data"
    },
    {
     "data": {
      "text/plain": [
       "0.9998264428498155"
      ]
     },
     "execution_count": 402,
     "metadata": {},
     "output_type": "execute_result"
    }
   ],
   "source": [
    "rf_depth_model.fit(X_train, y_train_depth)\n",
    "y_pred_depth= rf_depth_model.predict(X_val)\n",
    "\n",
    "scatter_plot(y_val_depth, y_pred_depth, 10)\n",
    "r2_score(y_val_depth, y_pred_depth)"
   ]
  },
  {
   "cell_type": "code",
   "execution_count": 356,
   "metadata": {},
   "outputs": [],
   "source": [
    "import pickle\n",
    "filename = 'cat_1b_depth.sav'\n",
    "pickle.dump(rf_depth_model, open(filename, 'wb'))"
   ]
  },
  {
   "cell_type": "code",
   "execution_count": 210,
   "metadata": {},
   "outputs": [],
   "source": [
    "def run_cat(X_train, y_train, X_test, y_test):\n",
    "    cat_model = CatBoostRegressor(iterations=600,\n",
    "                                        learning_rate=0.1,\n",
    "                                        depth=10, \n",
    "                                        logging_level=\"Silent\")\n",
    "    \n",
    "    cat_model.fit(X_train, y_train)\n",
    "    y_pred = cat_model.predict(X_test)\n",
    "    plt.scatter(y_test, y_pred)\n",
    "    plt.show()\n",
    "    r2 = r2_score(y_test, y_pred)\n",
    "    print(\"R2:\", r2)\n",
    "    return cat_model, r2"
   ]
  },
  {
   "cell_type": "markdown",
   "metadata": {},
   "source": [
    "# Task 2"
   ]
  },
  {
   "cell_type": "code",
   "execution_count": 215,
   "metadata": {},
   "outputs": [],
   "source": [
    "df2_train = pd.read_csv(\"random_samples_temp_50.csv\", index_col=False)"
   ]
  },
  {
   "cell_type": "code",
   "execution_count": 216,
   "metadata": {},
   "outputs": [
    {
     "data": {
      "text/html": [
       "<div>\n",
       "<style scoped>\n",
       "    .dataframe tbody tr th:only-of-type {\n",
       "        vertical-align: middle;\n",
       "    }\n",
       "\n",
       "    .dataframe tbody tr th {\n",
       "        vertical-align: top;\n",
       "    }\n",
       "\n",
       "    .dataframe thead th {\n",
       "        text-align: right;\n",
       "    }\n",
       "</style>\n",
       "<table border=\"1\" class=\"dataframe\">\n",
       "  <thead>\n",
       "    <tr style=\"text-align: right;\">\n",
       "      <th></th>\n",
       "      <th>X_Coord</th>\n",
       "      <th>Y_Coord</th>\n",
       "      <th>Z_Coord</th>\n",
       "      <th>Edge_Distance</th>\n",
       "      <th>Laser_Direction</th>\n",
       "      <th>Temp</th>\n",
       "      <th>LasPower</th>\n",
       "      <th>LasSpeed</th>\n",
       "      <th>LasAngle</th>\n",
       "    </tr>\n",
       "  </thead>\n",
       "  <tbody>\n",
       "    <tr>\n",
       "      <td>0</td>\n",
       "      <td>0.176231</td>\n",
       "      <td>-0.200626</td>\n",
       "      <td>0.00</td>\n",
       "      <td>0.0658</td>\n",
       "      <td>-1</td>\n",
       "      <td>0.00091</td>\n",
       "      <td>200.0</td>\n",
       "      <td>0.6</td>\n",
       "      <td>70</td>\n",
       "    </tr>\n",
       "    <tr>\n",
       "      <td>1</td>\n",
       "      <td>0.176231</td>\n",
       "      <td>-0.200626</td>\n",
       "      <td>-0.03</td>\n",
       "      <td>0.0658</td>\n",
       "      <td>-1</td>\n",
       "      <td>0.00088</td>\n",
       "      <td>200.0</td>\n",
       "      <td>0.6</td>\n",
       "      <td>70</td>\n",
       "    </tr>\n",
       "    <tr>\n",
       "      <td>2</td>\n",
       "      <td>0.176231</td>\n",
       "      <td>-0.200626</td>\n",
       "      <td>-0.06</td>\n",
       "      <td>0.0658</td>\n",
       "      <td>-1</td>\n",
       "      <td>0.00078</td>\n",
       "      <td>200.0</td>\n",
       "      <td>0.6</td>\n",
       "      <td>70</td>\n",
       "    </tr>\n",
       "    <tr>\n",
       "      <td>3</td>\n",
       "      <td>0.176231</td>\n",
       "      <td>-0.200626</td>\n",
       "      <td>-0.09</td>\n",
       "      <td>0.0658</td>\n",
       "      <td>-1</td>\n",
       "      <td>0.00072</td>\n",
       "      <td>200.0</td>\n",
       "      <td>0.6</td>\n",
       "      <td>70</td>\n",
       "    </tr>\n",
       "    <tr>\n",
       "      <td>4</td>\n",
       "      <td>0.176231</td>\n",
       "      <td>-0.200626</td>\n",
       "      <td>-0.12</td>\n",
       "      <td>0.0658</td>\n",
       "      <td>-1</td>\n",
       "      <td>0.00068</td>\n",
       "      <td>200.0</td>\n",
       "      <td>0.6</td>\n",
       "      <td>70</td>\n",
       "    </tr>\n",
       "  </tbody>\n",
       "</table>\n",
       "</div>"
      ],
      "text/plain": [
       "    X_Coord   Y_Coord  Z_Coord  Edge_Distance  Laser_Direction     Temp  \\\n",
       "0  0.176231 -0.200626     0.00         0.0658               -1  0.00091   \n",
       "1  0.176231 -0.200626    -0.03         0.0658               -1  0.00088   \n",
       "2  0.176231 -0.200626    -0.06         0.0658               -1  0.00078   \n",
       "3  0.176231 -0.200626    -0.09         0.0658               -1  0.00072   \n",
       "4  0.176231 -0.200626    -0.12         0.0658               -1  0.00068   \n",
       "\n",
       "   LasPower  LasSpeed  LasAngle  \n",
       "0     200.0       0.6        70  \n",
       "1     200.0       0.6        70  \n",
       "2     200.0       0.6        70  \n",
       "3     200.0       0.6        70  \n",
       "4     200.0       0.6        70  "
      ]
     },
     "execution_count": 216,
     "metadata": {},
     "output_type": "execute_result"
    }
   ],
   "source": [
    "df2_train.drop(columns=[\"Unnamed: 0\"], inplace=True)\n",
    "df2_train.head()"
   ]
  },
  {
   "cell_type": "code",
   "execution_count": 217,
   "metadata": {},
   "outputs": [],
   "source": [
    "X = df2_train.drop(columns=[\"Temp\"])\n",
    "y = df2_train[\"Temp\"]\n",
    "\n",
    "X_train, X_val, y_train, y_val = train_test_split(X, y, test_size=0.25, random_state=42)"
   ]
  },
  {
   "cell_type": "code",
   "execution_count": 218,
   "metadata": {},
   "outputs": [
    {
     "name": "stdout",
     "output_type": "stream",
     "text": [
      "(2586176, 8) (862059, 8) (2586176,) (862059,)\n"
     ]
    }
   ],
   "source": [
    "print(X_train.shape, X_val.shape, y_train.shape, y_val.shape)"
   ]
  },
  {
   "cell_type": "code",
   "execution_count": 211,
   "metadata": {},
   "outputs": [
    {
     "data": {
      "image/png": "[encoded data removed]",
      "text/plain": [
       "<Figure size 432x288 with 1 Axes>"
      ]
     },
     "metadata": {
      "needs_background": "light"
     },
     "output_type": "display_data"
    },
    {
     "name": "stdout",
     "output_type": "stream",
     "text": [
      "R2: 0.9939780857034547\n"
     ]
    },
    {
     "data": {
      "text/plain": [
       "(<catboost.core.CatBoostRegressor at 0x1a1b204b90>, 0.9939780857034547)"
      ]
     },
     "execution_count": 211,
     "metadata": {},
     "output_type": "execute_result"
    }
   ],
   "source": [
    "run_cat(X_train, y_train, X_val, y_val)"
   ]
  },
  {
   "cell_type": "code",
   "execution_count": 212,
   "metadata": {},
   "outputs": [
    {
     "ename": "AttributeError",
     "evalue": "module 'matplotlib.pyplot' has no attribute 'scatterplot'",
     "output_type": "error",
     "traceback": [
      "\u001b[0;31m---------------------------------------------------------------------------\u001b[0m",
      "\u001b[0;31mAttributeError\u001b[0m                            Traceback (most recent call last)",
      "\u001b[0;32m<ipython-input-212-43d13e255cc0>\u001b[0m in \u001b[0;36m<module>\u001b[0;34m\u001b[0m\n\u001b[1;32m      5\u001b[0m \u001b[0mmodel\u001b[0m\u001b[0;34m.\u001b[0m\u001b[0mfit\u001b[0m\u001b[0;34m(\u001b[0m\u001b[0mX_train\u001b[0m\u001b[0;34m,\u001b[0m \u001b[0my_train\u001b[0m\u001b[0;34m)\u001b[0m\u001b[0;34m\u001b[0m\u001b[0;34m\u001b[0m\u001b[0m\n\u001b[1;32m      6\u001b[0m \u001b[0mpre\u001b[0m \u001b[0;34m=\u001b[0m \u001b[0mmodel\u001b[0m\u001b[0;34m.\u001b[0m\u001b[0mpredict\u001b[0m\u001b[0;34m(\u001b[0m\u001b[0mX_val\u001b[0m\u001b[0;34m)\u001b[0m\u001b[0;34m\u001b[0m\u001b[0;34m\u001b[0m\u001b[0m\n\u001b[0;32m----> 7\u001b[0;31m \u001b[0mplt\u001b[0m\u001b[0;34m.\u001b[0m\u001b[0mscatterplot\u001b[0m\u001b[0;34m(\u001b[0m\u001b[0my_val\u001b[0m\u001b[0;34m,\u001b[0m \u001b[0mpre\u001b[0m\u001b[0;34m)\u001b[0m\u001b[0;34m\u001b[0m\u001b[0;34m\u001b[0m\u001b[0m\n\u001b[0m\u001b[1;32m      8\u001b[0m \u001b[0mplt\u001b[0m\u001b[0;34m.\u001b[0m\u001b[0mshow\u001b[0m\u001b[0;34m(\u001b[0m\u001b[0;34m)\u001b[0m\u001b[0;34m\u001b[0m\u001b[0;34m\u001b[0m\u001b[0m\n\u001b[1;32m      9\u001b[0m \u001b[0mr2_score\u001b[0m\u001b[0;34m(\u001b[0m\u001b[0my_test\u001b[0m\u001b[0;34m,\u001b[0m \u001b[0mpre\u001b[0m\u001b[0;34m)\u001b[0m\u001b[0;34m\u001b[0m\u001b[0;34m\u001b[0m\u001b[0m\n",
      "\u001b[0;31mAttributeError\u001b[0m: module 'matplotlib.pyplot' has no attribute 'scatterplot'"
     ]
    }
   ],
   "source": [
    "model = CatBoostRegressor(iterations=600,\n",
    "                            learning_rate=0.1,\n",
    "                            depth=12, \n",
    "                            logging_level=\"Silent\")\n",
    "model.fit(X_train, y_train)\n",
    "pre = model.predict(X_val)"
   ]
  },
  {
   "cell_type": "code",
   "execution_count": 214,
   "metadata": {},
   "outputs": [
    {
     "data": {
      "image/png": "[encoded data removed]",
      "text/plain": [
       "<Figure size 432x288 with 1 Axes>"
      ]
     },
     "metadata": {
      "needs_background": "light"
     },
     "output_type": "display_data"
    },
    {
     "data": {
      "text/plain": [
       "0.9960940156791467"
      ]
     },
     "execution_count": 214,
     "metadata": {},
     "output_type": "execute_result"
    }
   ],
   "source": [
    "plt.scatter(y_val, pre)\n",
    "plt.show()\n",
    "r2_score(y_val, pre)"
   ]
  },
  {
   "cell_type": "markdown",
   "metadata": {},
   "source": [
    "## 50 train 10 val"
   ]
  },
  {
   "cell_type": "code",
   "execution_count": 312,
   "metadata": {},
   "outputs": [],
   "source": [
    "df2_train = pd.read_csv(\"random_samples_temp_200.csv\", index_col=False)\n",
    "df2_val = pd.read_csv(\"random_samples_temp_50.csv\", index_col=False)"
   ]
  },
  {
   "cell_type": "code",
   "execution_count": 313,
   "metadata": {},
   "outputs": [
    {
     "data": {
      "text/html": [
       "<div>\n",
       "<style scoped>\n",
       "    .dataframe tbody tr th:only-of-type {\n",
       "        vertical-align: middle;\n",
       "    }\n",
       "\n",
       "    .dataframe tbody tr th {\n",
       "        vertical-align: top;\n",
       "    }\n",
       "\n",
       "    .dataframe thead th {\n",
       "        text-align: right;\n",
       "    }\n",
       "</style>\n",
       "<table border=\"1\" class=\"dataframe\">\n",
       "  <thead>\n",
       "    <tr style=\"text-align: right;\">\n",
       "      <th></th>\n",
       "      <th>X_Coord</th>\n",
       "      <th>Y_Coord</th>\n",
       "      <th>Z_Coord</th>\n",
       "      <th>Edge_Distance</th>\n",
       "      <th>Laser_Direction</th>\n",
       "      <th>Temp</th>\n",
       "      <th>LasPower</th>\n",
       "      <th>LasSpeed</th>\n",
       "      <th>LasAngle</th>\n",
       "    </tr>\n",
       "  </thead>\n",
       "  <tbody>\n",
       "    <tr>\n",
       "      <td>0</td>\n",
       "      <td>0.170365</td>\n",
       "      <td>-0.209347</td>\n",
       "      <td>0.00</td>\n",
       "      <td>0.0642</td>\n",
       "      <td>-1</td>\n",
       "      <td>0.00076</td>\n",
       "      <td>100.0</td>\n",
       "      <td>0.6</td>\n",
       "      <td>10</td>\n",
       "    </tr>\n",
       "    <tr>\n",
       "      <td>1</td>\n",
       "      <td>0.170365</td>\n",
       "      <td>-0.209347</td>\n",
       "      <td>-0.03</td>\n",
       "      <td>0.0642</td>\n",
       "      <td>-1</td>\n",
       "      <td>0.00074</td>\n",
       "      <td>100.0</td>\n",
       "      <td>0.6</td>\n",
       "      <td>10</td>\n",
       "    </tr>\n",
       "    <tr>\n",
       "      <td>2</td>\n",
       "      <td>0.170365</td>\n",
       "      <td>-0.209347</td>\n",
       "      <td>-0.06</td>\n",
       "      <td>0.0642</td>\n",
       "      <td>-1</td>\n",
       "      <td>0.00070</td>\n",
       "      <td>100.0</td>\n",
       "      <td>0.6</td>\n",
       "      <td>10</td>\n",
       "    </tr>\n",
       "    <tr>\n",
       "      <td>3</td>\n",
       "      <td>0.170365</td>\n",
       "      <td>-0.209347</td>\n",
       "      <td>-0.09</td>\n",
       "      <td>0.0642</td>\n",
       "      <td>-1</td>\n",
       "      <td>0.00067</td>\n",
       "      <td>100.0</td>\n",
       "      <td>0.6</td>\n",
       "      <td>10</td>\n",
       "    </tr>\n",
       "    <tr>\n",
       "      <td>4</td>\n",
       "      <td>0.170365</td>\n",
       "      <td>-0.209347</td>\n",
       "      <td>-0.12</td>\n",
       "      <td>0.0642</td>\n",
       "      <td>-1</td>\n",
       "      <td>0.00065</td>\n",
       "      <td>100.0</td>\n",
       "      <td>0.6</td>\n",
       "      <td>10</td>\n",
       "    </tr>\n",
       "  </tbody>\n",
       "</table>\n",
       "</div>"
      ],
      "text/plain": [
       "    X_Coord   Y_Coord  Z_Coord  Edge_Distance  Laser_Direction     Temp  \\\n",
       "0  0.170365 -0.209347     0.00         0.0642               -1  0.00076   \n",
       "1  0.170365 -0.209347    -0.03         0.0642               -1  0.00074   \n",
       "2  0.170365 -0.209347    -0.06         0.0642               -1  0.00070   \n",
       "3  0.170365 -0.209347    -0.09         0.0642               -1  0.00067   \n",
       "4  0.170365 -0.209347    -0.12         0.0642               -1  0.00065   \n",
       "\n",
       "   LasPower  LasSpeed  LasAngle  \n",
       "0     100.0       0.6        10  \n",
       "1     100.0       0.6        10  \n",
       "2     100.0       0.6        10  \n",
       "3     100.0       0.6        10  \n",
       "4     100.0       0.6        10  "
      ]
     },
     "execution_count": 313,
     "metadata": {},
     "output_type": "execute_result"
    }
   ],
   "source": [
    "df2_train.drop(columns=[\"Unnamed: 0\"], inplace=True)\n",
    "df2_train.head()"
   ]
  },
  {
   "cell_type": "code",
   "execution_count": 314,
   "metadata": {},
   "outputs": [
    {
     "data": {
      "text/html": [
       "<div>\n",
       "<style scoped>\n",
       "    .dataframe tbody tr th:only-of-type {\n",
       "        vertical-align: middle;\n",
       "    }\n",
       "\n",
       "    .dataframe tbody tr th {\n",
       "        vertical-align: top;\n",
       "    }\n",
       "\n",
       "    .dataframe thead th {\n",
       "        text-align: right;\n",
       "    }\n",
       "</style>\n",
       "<table border=\"1\" class=\"dataframe\">\n",
       "  <thead>\n",
       "    <tr style=\"text-align: right;\">\n",
       "      <th></th>\n",
       "      <th>X_Coord</th>\n",
       "      <th>Y_Coord</th>\n",
       "      <th>Z_Coord</th>\n",
       "      <th>Edge_Distance</th>\n",
       "      <th>Laser_Direction</th>\n",
       "      <th>Temp</th>\n",
       "      <th>LasPower</th>\n",
       "      <th>LasSpeed</th>\n",
       "      <th>LasAngle</th>\n",
       "    </tr>\n",
       "  </thead>\n",
       "  <tbody>\n",
       "    <tr>\n",
       "      <td>0</td>\n",
       "      <td>0.176231</td>\n",
       "      <td>-0.200626</td>\n",
       "      <td>0.00</td>\n",
       "      <td>0.0658</td>\n",
       "      <td>-1</td>\n",
       "      <td>0.00091</td>\n",
       "      <td>200.0</td>\n",
       "      <td>0.6</td>\n",
       "      <td>70</td>\n",
       "    </tr>\n",
       "    <tr>\n",
       "      <td>1</td>\n",
       "      <td>0.176231</td>\n",
       "      <td>-0.200626</td>\n",
       "      <td>-0.03</td>\n",
       "      <td>0.0658</td>\n",
       "      <td>-1</td>\n",
       "      <td>0.00088</td>\n",
       "      <td>200.0</td>\n",
       "      <td>0.6</td>\n",
       "      <td>70</td>\n",
       "    </tr>\n",
       "    <tr>\n",
       "      <td>2</td>\n",
       "      <td>0.176231</td>\n",
       "      <td>-0.200626</td>\n",
       "      <td>-0.06</td>\n",
       "      <td>0.0658</td>\n",
       "      <td>-1</td>\n",
       "      <td>0.00078</td>\n",
       "      <td>200.0</td>\n",
       "      <td>0.6</td>\n",
       "      <td>70</td>\n",
       "    </tr>\n",
       "    <tr>\n",
       "      <td>3</td>\n",
       "      <td>0.176231</td>\n",
       "      <td>-0.200626</td>\n",
       "      <td>-0.09</td>\n",
       "      <td>0.0658</td>\n",
       "      <td>-1</td>\n",
       "      <td>0.00072</td>\n",
       "      <td>200.0</td>\n",
       "      <td>0.6</td>\n",
       "      <td>70</td>\n",
       "    </tr>\n",
       "    <tr>\n",
       "      <td>4</td>\n",
       "      <td>0.176231</td>\n",
       "      <td>-0.200626</td>\n",
       "      <td>-0.12</td>\n",
       "      <td>0.0658</td>\n",
       "      <td>-1</td>\n",
       "      <td>0.00068</td>\n",
       "      <td>200.0</td>\n",
       "      <td>0.6</td>\n",
       "      <td>70</td>\n",
       "    </tr>\n",
       "  </tbody>\n",
       "</table>\n",
       "</div>"
      ],
      "text/plain": [
       "    X_Coord   Y_Coord  Z_Coord  Edge_Distance  Laser_Direction     Temp  \\\n",
       "0  0.176231 -0.200626     0.00         0.0658               -1  0.00091   \n",
       "1  0.176231 -0.200626    -0.03         0.0658               -1  0.00088   \n",
       "2  0.176231 -0.200626    -0.06         0.0658               -1  0.00078   \n",
       "3  0.176231 -0.200626    -0.09         0.0658               -1  0.00072   \n",
       "4  0.176231 -0.200626    -0.12         0.0658               -1  0.00068   \n",
       "\n",
       "   LasPower  LasSpeed  LasAngle  \n",
       "0     200.0       0.6        70  \n",
       "1     200.0       0.6        70  \n",
       "2     200.0       0.6        70  \n",
       "3     200.0       0.6        70  \n",
       "4     200.0       0.6        70  "
      ]
     },
     "execution_count": 314,
     "metadata": {},
     "output_type": "execute_result"
    }
   ],
   "source": [
    "df2_val.drop(columns=[\"Unnamed: 0\"], inplace=True)\n",
    "df2_val.head()"
   ]
  },
  {
   "cell_type": "code",
   "execution_count": 315,
   "metadata": {},
   "outputs": [
    {
     "name": "stdout",
     "output_type": "stream",
     "text": [
      "(12544154, 9) (3448235, 9)\n"
     ]
    }
   ],
   "source": [
    "print(df2_train.shape, df2_val.shape)"
   ]
  },
  {
   "cell_type": "code",
   "execution_count": 316,
   "metadata": {},
   "outputs": [
    {
     "name": "stdout",
     "output_type": "stream",
     "text": [
      "(12544154, 9) (3448235, 9)\n"
     ]
    }
   ],
   "source": [
    "X_train = df2_train.drop(columns=[\"Temp\"])\n",
    "y_train = df2_train[\"Temp\"]\n",
    "\n",
    "X_val = df2_val.drop(columns=[\"Temp\"])\n",
    "y_val = df2_val[\"Temp\"]\n",
    "\n",
    "print(df2_train.shape, df2_val.shape)"
   ]
  },
  {
   "cell_type": "code",
   "execution_count": 317,
   "metadata": {},
   "outputs": [
    {
     "name": "stdout",
     "output_type": "stream",
     "text": [
      "(12544154, 8) (3448235, 8) (12544154,) (3448235,)\n"
     ]
    }
   ],
   "source": [
    "print(X_train.shape, X_val.shape, y_train.shape, y_val.shape)"
   ]
  },
  {
   "cell_type": "code",
   "execution_count": 318,
   "metadata": {},
   "outputs": [],
   "source": [
    "model = CatBoostRegressor(iterations=900,\n",
    "                            learning_rate=0.07,\n",
    "                            depth=14, \n",
    "                            logging_level=\"Silent\")\n",
    "model.fit(X_train, y_train)\n",
    "pre = model.predict(X_val)"
   ]
  },
  {
   "cell_type": "code",
   "execution_count": 319,
   "metadata": {},
   "outputs": [
    {
     "name": "stdout",
     "output_type": "stream",
     "text": [
      "min =  -0.036946540154875765\n",
      "max =  1.0\n"
     ]
    },
    {
     "data": {
      "image/png": "[encoded data removed]",
      "text/plain": [
       "<Figure size 360x360 with 1 Axes>"
      ]
     },
     "metadata": {
      "needs_background": "light"
     },
     "output_type": "display_data"
    },
    {
     "data": {
      "text/plain": [
       "0.9922857772200838"
      ]
     },
     "execution_count": 319,
     "metadata": {},
     "output_type": "execute_result"
    }
   ],
   "source": [
    "scatter_plot(y_val, pre)\n",
    "r2_score(y_val, pre)"
   ]
  },
  {
   "cell_type": "code",
   "execution_count": 323,
   "metadata": {},
   "outputs": [],
   "source": [
    "import pickle\n",
    "filename = 'cat_900_0.07_14.sav'\n",
    "pickle.dump(model, open(filename, 'wb'))"
   ]
  },
  {
   "cell_type": "code",
   "execution_count": 271,
   "metadata": {},
   "outputs": [],
   "source": [
    "import pickle\n",
    "filename = 'cat_800_0.07_14.sav'\n",
    "pickle.dump(model, open(filename, 'wb'))"
   ]
  },
  {
   "cell_type": "code",
   "execution_count": 255,
   "metadata": {},
   "outputs": [],
   "source": [
    "import pickle\n",
    "filename = 'cat_800_0.07_12.sav'\n",
    "pickle.dump(model, open(filename, 'wb'))"
   ]
  },
  {
   "cell_type": "code",
   "execution_count": 256,
   "metadata": {},
   "outputs": [],
   "source": [
    "loaded_model = pickle.load(open(\"cat_800_0.07_12.sav\", 'rb'))"
   ]
  },
  {
   "cell_type": "code",
   "execution_count": 379,
   "metadata": {},
   "outputs": [],
   "source": [
    "def scatter_plot(arX, arY, size):\n",
    "    loLineStart = min(0.0, arX.min(), arY.min())\n",
    "    loLineEnd = max(1.0, arX.max(), arY.max())\n",
    "\n",
    "    print(\"min = \", loLineStart)\n",
    "    print(\"max = \", loLineEnd)\n",
    "\n",
    "    plt.figure(figsize=(5,5))\n",
    "    plt.scatter(arX, arY, s=size)\n",
    "    plt.plot([loLineStart, loLineEnd], [loLineStart, loLineEnd], 'k-', color='r')\n",
    "    plt.title('Scatter plot')\n",
    "    plt.xlabel('real val')\n",
    "    plt.ylabel('pred val')\n",
    "\n",
    "\n",
    "    plt.xlim(loLineStart, loLineEnd)\n",
    "    plt.ylim(loLineStart, loLineEnd)\n",
    "\n",
    "    plt.show()"
   ]
  },
  {
   "cell_type": "code",
   "execution_count": 268,
   "metadata": {},
   "outputs": [
    {
     "name": "stdout",
     "output_type": "stream",
     "text": [
      "min =  -0.06112625655630948\n",
      "max =  1.0\n"
     ]
    },
    {
     "data": {
      "image/png": "[encoded data removed]",
      "text/plain": [
       "<Figure size 360x360 with 1 Axes>"
      ]
     },
     "metadata": {
      "needs_background": "light"
     },
     "output_type": "display_data"
    }
   ],
   "source": [
    "scatter_plot(y_val, pre)"
   ]
  },
  {
   "cell_type": "code",
   "execution_count": null,
   "metadata": {},
   "outputs": [],
   "source": [
    "# TEST ALL TRAINING SAMPLES"
   ]
  },
  {
   "cell_type": "code",
   "execution_count": 274,
   "metadata": {},
   "outputs": [
    {
     "data": {
      "text/html": [
       "<div>\n",
       "<style scoped>\n",
       "    .dataframe tbody tr th:only-of-type {\n",
       "        vertical-align: middle;\n",
       "    }\n",
       "\n",
       "    .dataframe tbody tr th {\n",
       "        vertical-align: top;\n",
       "    }\n",
       "\n",
       "    .dataframe thead th {\n",
       "        text-align: right;\n",
       "    }\n",
       "</style>\n",
       "<table border=\"1\" class=\"dataframe\">\n",
       "  <thead>\n",
       "    <tr style=\"text-align: right;\">\n",
       "      <th></th>\n",
       "      <th>X_Coord</th>\n",
       "      <th>Y_Coord</th>\n",
       "      <th>Z_Coord</th>\n",
       "      <th>Edge_Distance</th>\n",
       "      <th>Laser_Direction</th>\n",
       "      <th>Temp</th>\n",
       "      <th>LasPower</th>\n",
       "      <th>LasSpeed</th>\n",
       "      <th>LasAngle</th>\n",
       "    </tr>\n",
       "  </thead>\n",
       "  <tbody>\n",
       "    <tr>\n",
       "      <td>0</td>\n",
       "      <td>0.17</td>\n",
       "      <td>0.20</td>\n",
       "      <td>0.0</td>\n",
       "      <td>0.07</td>\n",
       "      <td>-1</td>\n",
       "      <td>0.01273</td>\n",
       "      <td>125.0</td>\n",
       "      <td>0.6</td>\n",
       "      <td>90</td>\n",
       "    </tr>\n",
       "    <tr>\n",
       "      <td>1</td>\n",
       "      <td>0.17</td>\n",
       "      <td>0.17</td>\n",
       "      <td>0.0</td>\n",
       "      <td>0.07</td>\n",
       "      <td>-1</td>\n",
       "      <td>0.02173</td>\n",
       "      <td>125.0</td>\n",
       "      <td>0.6</td>\n",
       "      <td>90</td>\n",
       "    </tr>\n",
       "    <tr>\n",
       "      <td>2</td>\n",
       "      <td>0.17</td>\n",
       "      <td>0.14</td>\n",
       "      <td>0.0</td>\n",
       "      <td>0.07</td>\n",
       "      <td>-1</td>\n",
       "      <td>0.03232</td>\n",
       "      <td>125.0</td>\n",
       "      <td>0.6</td>\n",
       "      <td>90</td>\n",
       "    </tr>\n",
       "    <tr>\n",
       "      <td>3</td>\n",
       "      <td>0.17</td>\n",
       "      <td>0.11</td>\n",
       "      <td>0.0</td>\n",
       "      <td>0.07</td>\n",
       "      <td>-1</td>\n",
       "      <td>0.04296</td>\n",
       "      <td>125.0</td>\n",
       "      <td>0.6</td>\n",
       "      <td>90</td>\n",
       "    </tr>\n",
       "    <tr>\n",
       "      <td>4</td>\n",
       "      <td>0.17</td>\n",
       "      <td>0.08</td>\n",
       "      <td>0.0</td>\n",
       "      <td>0.07</td>\n",
       "      <td>-1</td>\n",
       "      <td>0.04904</td>\n",
       "      <td>125.0</td>\n",
       "      <td>0.6</td>\n",
       "      <td>90</td>\n",
       "    </tr>\n",
       "  </tbody>\n",
       "</table>\n",
       "</div>"
      ],
      "text/plain": [
       "   X_Coord  Y_Coord  Z_Coord  Edge_Distance  Laser_Direction     Temp  \\\n",
       "0     0.17     0.20      0.0           0.07               -1  0.01273   \n",
       "1     0.17     0.17      0.0           0.07               -1  0.02173   \n",
       "2     0.17     0.14      0.0           0.07               -1  0.03232   \n",
       "3     0.17     0.11      0.0           0.07               -1  0.04296   \n",
       "4     0.17     0.08      0.0           0.07               -1  0.04904   \n",
       "\n",
       "   LasPower  LasSpeed  LasAngle  \n",
       "0     125.0       0.6        90  \n",
       "1     125.0       0.6        90  \n",
       "2     125.0       0.6        90  \n",
       "3     125.0       0.6        90  \n",
       "4     125.0       0.6        90  "
      ]
     },
     "execution_count": 274,
     "metadata": {},
     "output_type": "execute_result"
    }
   ],
   "source": [
    "df2_600 = pd.read_csv(\"random_samples_temp_600.csv\", index_col=False)\n",
    "df2_600.drop(columns=[\"Unnamed: 0\"], inplace=True)\n",
    "df2_600.head()"
   ]
  },
  {
   "cell_type": "code",
   "execution_count": 275,
   "metadata": {},
   "outputs": [
    {
     "data": {
      "text/plain": [
       "(34703410, 9)"
      ]
     },
     "execution_count": 275,
     "metadata": {},
     "output_type": "execute_result"
    }
   ],
   "source": [
    "df2_600.shape"
   ]
  },
  {
   "cell_type": "code",
   "execution_count": 276,
   "metadata": {},
   "outputs": [],
   "source": [
    "X_val = df2_600.drop(columns=[\"Temp\"])\n",
    "y_val = df2_600[\"Temp\"]"
   ]
  },
  {
   "cell_type": "code",
   "execution_count": 277,
   "metadata": {},
   "outputs": [],
   "source": [
    "pre = model.predict(X_val)"
   ]
  },
  {
   "cell_type": "code",
   "execution_count": 278,
   "metadata": {},
   "outputs": [
    {
     "name": "stdout",
     "output_type": "stream",
     "text": [
      "min =  -0.04020718428022635\n",
      "max =  1.0\n"
     ]
    },
    {
     "data": {
      "image/png": "[encoded data removed]",
      "text/plain": [
       "<Figure size 360x360 with 1 Axes>"
      ]
     },
     "metadata": {
      "needs_background": "light"
     },
     "output_type": "display_data"
    },
    {
     "data": {
      "text/plain": [
       "0.9948320085981419"
      ]
     },
     "execution_count": 278,
     "metadata": {},
     "output_type": "execute_result"
    }
   ],
   "source": [
    "scatter_plot(y_val, pre)\n",
    "r2_score(y_val, pre)"
   ]
  },
  {
   "cell_type": "code",
   "execution_count": 279,
   "metadata": {},
   "outputs": [],
   "source": [
    "pre = loaded_model.predict(X_val)"
   ]
  },
  {
   "cell_type": "code",
   "execution_count": 280,
   "metadata": {},
   "outputs": [
    {
     "name": "stdout",
     "output_type": "stream",
     "text": [
      "min =  -0.06112625655630948\n",
      "max =  1.0\n"
     ]
    },
    {
     "data": {
      "image/png": "[encoded data removed]",
      "text/plain": [
       "<Figure size 360x360 with 1 Axes>"
      ]
     },
     "metadata": {
      "needs_background": "light"
     },
     "output_type": "display_data"
    },
    {
     "data": {
      "text/plain": [
       "0.992786844385237"
      ]
     },
     "execution_count": 280,
     "metadata": {},
     "output_type": "execute_result"
    }
   ],
   "source": [
    "scatter_plot(y_val, pre)\n",
    "r2_score(y_val, pre)"
   ]
  },
  {
   "cell_type": "markdown",
   "metadata": {},
   "source": [
    "## VALIDATE"
   ]
  },
  {
   "cell_type": "code",
   "execution_count": 324,
   "metadata": {},
   "outputs": [],
   "source": [
    "df2_cv = pd.read_csv(\"random_samples_temp_cv.csv\", index_col=False)\n",
    "df2_cv.drop(columns=[\"Unnamed: 0\"], inplace=True)\n",
    "df2_cv.head()\n",
    "\n",
    "X_val = df2_cv.drop(columns=[\"Temp\"])\n",
    "y_val = df2_cv[\"Temp\"]\n"
   ]
  },
  {
   "cell_type": "code",
   "execution_count": 325,
   "metadata": {},
   "outputs": [],
   "source": [
    "pre = model.predict(X_val)"
   ]
  },
  {
   "cell_type": "code",
   "execution_count": 328,
   "metadata": {},
   "outputs": [
    {
     "name": "stdout",
     "output_type": "stream",
     "text": [
      "min =  -0.0415111859986796\n",
      "max =  1.0\n"
     ]
    },
    {
     "data": {
      "image/png": "[encoded data removed]",
      "text/plain": [
       "<Figure size 360x360 with 1 Axes>"
      ]
     },
     "metadata": {
      "needs_background": "light"
     },
     "output_type": "display_data"
    },
    {
     "data": {
      "text/plain": [
       "0.9948555783274456"
      ]
     },
     "execution_count": 328,
     "metadata": {},
     "output_type": "execute_result"
    }
   ],
   "source": [
    "scatter_plot(y_val, pre)\n",
    "r2_score(y_val, pre)"
   ]
  },
  {
   "cell_type": "markdown",
   "metadata": {},
   "source": [
    "##########"
   ]
  },
  {
   "cell_type": "markdown",
   "metadata": {},
   "source": [
    "### Test if laser direction 1 is bad in prediction"
   ]
  },
  {
   "cell_type": "code",
   "execution_count": 287,
   "metadata": {},
   "outputs": [
    {
     "data": {
      "text/html": [
       "<div>\n",
       "<style scoped>\n",
       "    .dataframe tbody tr th:only-of-type {\n",
       "        vertical-align: middle;\n",
       "    }\n",
       "\n",
       "    .dataframe tbody tr th {\n",
       "        vertical-align: top;\n",
       "    }\n",
       "\n",
       "    .dataframe thead th {\n",
       "        text-align: right;\n",
       "    }\n",
       "</style>\n",
       "<table border=\"1\" class=\"dataframe\">\n",
       "  <thead>\n",
       "    <tr style=\"text-align: right;\">\n",
       "      <th></th>\n",
       "      <th>X_Coord</th>\n",
       "      <th>Y_Coord</th>\n",
       "      <th>Z_Coord</th>\n",
       "      <th>Edge_Distance</th>\n",
       "      <th>Laser_Direction</th>\n",
       "      <th>Temp</th>\n",
       "      <th>LasPower</th>\n",
       "      <th>LasSpeed</th>\n",
       "      <th>LasAngle</th>\n",
       "    </tr>\n",
       "  </thead>\n",
       "  <tbody>\n",
       "    <tr>\n",
       "      <td>0</td>\n",
       "      <td>0.176231</td>\n",
       "      <td>-0.200626</td>\n",
       "      <td>0.00</td>\n",
       "      <td>0.0658</td>\n",
       "      <td>-1</td>\n",
       "      <td>0.00074</td>\n",
       "      <td>125.0</td>\n",
       "      <td>0.6</td>\n",
       "      <td>70</td>\n",
       "    </tr>\n",
       "    <tr>\n",
       "      <td>1</td>\n",
       "      <td>0.176231</td>\n",
       "      <td>-0.200626</td>\n",
       "      <td>-0.03</td>\n",
       "      <td>0.0658</td>\n",
       "      <td>-1</td>\n",
       "      <td>0.00072</td>\n",
       "      <td>125.0</td>\n",
       "      <td>0.6</td>\n",
       "      <td>70</td>\n",
       "    </tr>\n",
       "    <tr>\n",
       "      <td>2</td>\n",
       "      <td>0.176231</td>\n",
       "      <td>-0.200626</td>\n",
       "      <td>-0.06</td>\n",
       "      <td>0.0658</td>\n",
       "      <td>-1</td>\n",
       "      <td>0.00068</td>\n",
       "      <td>125.0</td>\n",
       "      <td>0.6</td>\n",
       "      <td>70</td>\n",
       "    </tr>\n",
       "    <tr>\n",
       "      <td>3</td>\n",
       "      <td>0.176231</td>\n",
       "      <td>-0.200626</td>\n",
       "      <td>-0.09</td>\n",
       "      <td>0.0658</td>\n",
       "      <td>-1</td>\n",
       "      <td>0.00066</td>\n",
       "      <td>125.0</td>\n",
       "      <td>0.6</td>\n",
       "      <td>70</td>\n",
       "    </tr>\n",
       "    <tr>\n",
       "      <td>4</td>\n",
       "      <td>0.176231</td>\n",
       "      <td>-0.200626</td>\n",
       "      <td>-0.12</td>\n",
       "      <td>0.0658</td>\n",
       "      <td>-1</td>\n",
       "      <td>0.00064</td>\n",
       "      <td>125.0</td>\n",
       "      <td>0.6</td>\n",
       "      <td>70</td>\n",
       "    </tr>\n",
       "  </tbody>\n",
       "</table>\n",
       "</div>"
      ],
      "text/plain": [
       "    X_Coord   Y_Coord  Z_Coord  Edge_Distance  Laser_Direction     Temp  \\\n",
       "0  0.176231 -0.200626     0.00         0.0658               -1  0.00074   \n",
       "1  0.176231 -0.200626    -0.03         0.0658               -1  0.00072   \n",
       "2  0.176231 -0.200626    -0.06         0.0658               -1  0.00068   \n",
       "3  0.176231 -0.200626    -0.09         0.0658               -1  0.00066   \n",
       "4  0.176231 -0.200626    -0.12         0.0658               -1  0.00064   \n",
       "\n",
       "   LasPower  LasSpeed  LasAngle  \n",
       "0     125.0       0.6        70  \n",
       "1     125.0       0.6        70  \n",
       "2     125.0       0.6        70  \n",
       "3     125.0       0.6        70  \n",
       "4     125.0       0.6        70  "
      ]
     },
     "execution_count": 287,
     "metadata": {},
     "output_type": "execute_result"
    }
   ],
   "source": [
    "df2_cv.head()"
   ]
  },
  {
   "cell_type": "code",
   "execution_count": 307,
   "metadata": {},
   "outputs": [],
   "source": [
    "df2_cv_1 = df2_cv.loc[df2_cv['LasPower'] >= 300]"
   ]
  },
  {
   "cell_type": "code",
   "execution_count": 308,
   "metadata": {},
   "outputs": [
    {
     "data": {
      "text/html": [
       "<div>\n",
       "<style scoped>\n",
       "    .dataframe tbody tr th:only-of-type {\n",
       "        vertical-align: middle;\n",
       "    }\n",
       "\n",
       "    .dataframe tbody tr th {\n",
       "        vertical-align: top;\n",
       "    }\n",
       "\n",
       "    .dataframe thead th {\n",
       "        text-align: right;\n",
       "    }\n",
       "</style>\n",
       "<table border=\"1\" class=\"dataframe\">\n",
       "  <thead>\n",
       "    <tr style=\"text-align: right;\">\n",
       "      <th></th>\n",
       "      <th>X_Coord</th>\n",
       "      <th>Y_Coord</th>\n",
       "      <th>Z_Coord</th>\n",
       "      <th>Edge_Distance</th>\n",
       "      <th>Laser_Direction</th>\n",
       "      <th>Temp</th>\n",
       "      <th>LasPower</th>\n",
       "      <th>LasSpeed</th>\n",
       "      <th>LasAngle</th>\n",
       "    </tr>\n",
       "  </thead>\n",
       "  <tbody>\n",
       "    <tr>\n",
       "      <td>366387</td>\n",
       "      <td>0.17</td>\n",
       "      <td>0.20</td>\n",
       "      <td>0.0</td>\n",
       "      <td>0.07</td>\n",
       "      <td>-1</td>\n",
       "      <td>0.03124</td>\n",
       "      <td>375.0</td>\n",
       "      <td>0.6</td>\n",
       "      <td>90</td>\n",
       "    </tr>\n",
       "    <tr>\n",
       "      <td>366388</td>\n",
       "      <td>0.17</td>\n",
       "      <td>0.17</td>\n",
       "      <td>0.0</td>\n",
       "      <td>0.07</td>\n",
       "      <td>-1</td>\n",
       "      <td>0.04675</td>\n",
       "      <td>375.0</td>\n",
       "      <td>0.6</td>\n",
       "      <td>90</td>\n",
       "    </tr>\n",
       "    <tr>\n",
       "      <td>366389</td>\n",
       "      <td>0.17</td>\n",
       "      <td>0.14</td>\n",
       "      <td>0.0</td>\n",
       "      <td>0.07</td>\n",
       "      <td>-1</td>\n",
       "      <td>0.06950</td>\n",
       "      <td>375.0</td>\n",
       "      <td>0.6</td>\n",
       "      <td>90</td>\n",
       "    </tr>\n",
       "    <tr>\n",
       "      <td>366390</td>\n",
       "      <td>0.17</td>\n",
       "      <td>0.11</td>\n",
       "      <td>0.0</td>\n",
       "      <td>0.07</td>\n",
       "      <td>-1</td>\n",
       "      <td>0.09597</td>\n",
       "      <td>375.0</td>\n",
       "      <td>0.6</td>\n",
       "      <td>90</td>\n",
       "    </tr>\n",
       "    <tr>\n",
       "      <td>366391</td>\n",
       "      <td>0.17</td>\n",
       "      <td>0.08</td>\n",
       "      <td>0.0</td>\n",
       "      <td>0.07</td>\n",
       "      <td>-1</td>\n",
       "      <td>0.11683</td>\n",
       "      <td>375.0</td>\n",
       "      <td>0.6</td>\n",
       "      <td>90</td>\n",
       "    </tr>\n",
       "    <tr>\n",
       "      <td>366392</td>\n",
       "      <td>0.17</td>\n",
       "      <td>0.05</td>\n",
       "      <td>0.0</td>\n",
       "      <td>0.07</td>\n",
       "      <td>-1</td>\n",
       "      <td>0.12046</td>\n",
       "      <td>375.0</td>\n",
       "      <td>0.6</td>\n",
       "      <td>90</td>\n",
       "    </tr>\n",
       "    <tr>\n",
       "      <td>366393</td>\n",
       "      <td>0.17</td>\n",
       "      <td>0.02</td>\n",
       "      <td>0.0</td>\n",
       "      <td>0.07</td>\n",
       "      <td>-1</td>\n",
       "      <td>0.10424</td>\n",
       "      <td>375.0</td>\n",
       "      <td>0.6</td>\n",
       "      <td>90</td>\n",
       "    </tr>\n",
       "    <tr>\n",
       "      <td>366394</td>\n",
       "      <td>0.17</td>\n",
       "      <td>-0.01</td>\n",
       "      <td>0.0</td>\n",
       "      <td>0.07</td>\n",
       "      <td>-1</td>\n",
       "      <td>0.07827</td>\n",
       "      <td>375.0</td>\n",
       "      <td>0.6</td>\n",
       "      <td>90</td>\n",
       "    </tr>\n",
       "    <tr>\n",
       "      <td>366395</td>\n",
       "      <td>0.17</td>\n",
       "      <td>-0.04</td>\n",
       "      <td>0.0</td>\n",
       "      <td>0.07</td>\n",
       "      <td>-1</td>\n",
       "      <td>0.05394</td>\n",
       "      <td>375.0</td>\n",
       "      <td>0.6</td>\n",
       "      <td>90</td>\n",
       "    </tr>\n",
       "    <tr>\n",
       "      <td>366396</td>\n",
       "      <td>0.17</td>\n",
       "      <td>-0.07</td>\n",
       "      <td>0.0</td>\n",
       "      <td>0.07</td>\n",
       "      <td>-1</td>\n",
       "      <td>0.03610</td>\n",
       "      <td>375.0</td>\n",
       "      <td>0.6</td>\n",
       "      <td>90</td>\n",
       "    </tr>\n",
       "  </tbody>\n",
       "</table>\n",
       "</div>"
      ],
      "text/plain": [
       "        X_Coord  Y_Coord  Z_Coord  Edge_Distance  Laser_Direction     Temp  \\\n",
       "366387     0.17     0.20      0.0           0.07               -1  0.03124   \n",
       "366388     0.17     0.17      0.0           0.07               -1  0.04675   \n",
       "366389     0.17     0.14      0.0           0.07               -1  0.06950   \n",
       "366390     0.17     0.11      0.0           0.07               -1  0.09597   \n",
       "366391     0.17     0.08      0.0           0.07               -1  0.11683   \n",
       "366392     0.17     0.05      0.0           0.07               -1  0.12046   \n",
       "366393     0.17     0.02      0.0           0.07               -1  0.10424   \n",
       "366394     0.17    -0.01      0.0           0.07               -1  0.07827   \n",
       "366395     0.17    -0.04      0.0           0.07               -1  0.05394   \n",
       "366396     0.17    -0.07      0.0           0.07               -1  0.03610   \n",
       "\n",
       "        LasPower  LasSpeed  LasAngle  \n",
       "366387     375.0       0.6        90  \n",
       "366388     375.0       0.6        90  \n",
       "366389     375.0       0.6        90  \n",
       "366390     375.0       0.6        90  \n",
       "366391     375.0       0.6        90  \n",
       "366392     375.0       0.6        90  \n",
       "366393     375.0       0.6        90  \n",
       "366394     375.0       0.6        90  \n",
       "366395     375.0       0.6        90  \n",
       "366396     375.0       0.6        90  "
      ]
     },
     "execution_count": 308,
     "metadata": {},
     "output_type": "execute_result"
    }
   ],
   "source": [
    "df2_cv_1.head(10)"
   ]
  },
  {
   "cell_type": "code",
   "execution_count": 309,
   "metadata": {},
   "outputs": [],
   "source": [
    "X_val = df2_cv_1.drop(columns=[\"Temp\"])\n",
    "y_val = df2_cv_1[\"Temp\"]"
   ]
  },
  {
   "cell_type": "code",
   "execution_count": 310,
   "metadata": {},
   "outputs": [],
   "source": [
    "pre = model.predict(X_val)"
   ]
  },
  {
   "cell_type": "code",
   "execution_count": 311,
   "metadata": {},
   "outputs": [
    {
     "name": "stdout",
     "output_type": "stream",
     "text": [
      "min =  -0.04443321396207194\n",
      "max =  1.0\n"
     ]
    },
    {
     "data": {
      "image/png": "[encoded data removed]",
      "text/plain": [
       "<Figure size 360x360 with 1 Axes>"
      ]
     },
     "metadata": {
      "needs_background": "light"
     },
     "output_type": "display_data"
    },
    {
     "data": {
      "text/plain": [
       "0.9939406019463627"
      ]
     },
     "execution_count": 311,
     "metadata": {},
     "output_type": "execute_result"
    }
   ],
   "source": [
    "scatter_plot(y_val, pre)\n",
    "r2_score(y_val, pre)"
   ]
  },
  {
   "cell_type": "markdown",
   "metadata": {},
   "source": [
    "### Bootstrap"
   ]
  },
  {
   "cell_type": "code",
   "execution_count": 372,
   "metadata": {},
   "outputs": [
    {
     "data": {
      "text/plain": [
       "(12544154, 9)"
      ]
     },
     "execution_count": 372,
     "metadata": {},
     "output_type": "execute_result"
    }
   ],
   "source": [
    "df2_200 = pd.read_csv(\"random_samples_temp_200.csv\", index_col=False)\n",
    "df2_200.drop(columns=[\"Unnamed: 0\"], inplace=True)\n",
    "df2_200.head()\n",
    "df2_200.shape"
   ]
  },
  {
   "cell_type": "code",
   "execution_count": 373,
   "metadata": {},
   "outputs": [
    {
     "name": "stdout",
     "output_type": "stream",
     "text": [
      "(360, 9)\n",
      "(72000, 9)\n",
      "(12616154, 9)\n"
     ]
    }
   ],
   "source": [
    "df2_200_bs = df2_200.loc[df2_200['Temp'] >= 0.6]\n",
    "print(df2_200_bs.shape)\n",
    "\n",
    "df2_200_bs = df2_200_bs.sample(frac=200, replace=True, random_state=42)\n",
    "\n",
    "print(df2_200_bs.shape)\n",
    "\n",
    "df2_200 = pd.concat([df2_200, df2_200_bs])\n",
    "print(df2_200.shape)"
   ]
  },
  {
   "cell_type": "code",
   "execution_count": 374,
   "metadata": {},
   "outputs": [],
   "source": [
    "X_train = df2_200.drop(columns=[\"Temp\"])\n",
    "y_train = df2_200[\"Temp\"]"
   ]
  },
  {
   "cell_type": "code",
   "execution_count": 380,
   "metadata": {},
   "outputs": [
    {
     "data": {
      "text/plain": [
       "<catboost.core.CatBoostRegressor at 0x1a37341dd0>"
      ]
     },
     "execution_count": 380,
     "metadata": {},
     "output_type": "execute_result"
    }
   ],
   "source": [
    "model_bs = CatBoostRegressor(iterations=800,\n",
    "                            learning_rate=0.1,\n",
    "                            depth=10, \n",
    "                            logging_level=\"Silent\")\n",
    "model_bs.fit(X_train, y_train)"
   ]
  },
  {
   "cell_type": "code",
   "execution_count": 381,
   "metadata": {},
   "outputs": [],
   "source": [
    "X_val = df2_cv.drop(columns=[\"Temp\"])\n",
    "y_val = df2_cv[\"Temp\"]"
   ]
  },
  {
   "cell_type": "code",
   "execution_count": 382,
   "metadata": {},
   "outputs": [],
   "source": [
    "pre = model_bs.predict(X_val)"
   ]
  },
  {
   "cell_type": "code",
   "execution_count": 384,
   "metadata": {},
   "outputs": [
    {
     "name": "stdout",
     "output_type": "stream",
     "text": [
      "min =  -0.08556374096977934\n",
      "max =  1.0\n"
     ]
    },
    {
     "data": {
      "image/png": "[encoded data removed]",
      "text/plain": [
       "<Figure size 360x360 with 1 Axes>"
      ]
     },
     "metadata": {
      "needs_background": "light"
     },
     "output_type": "display_data"
    },
    {
     "data": {
      "text/plain": [
       "0.98973193281625"
      ]
     },
     "execution_count": 384,
     "metadata": {},
     "output_type": "execute_result"
    }
   ],
   "source": [
    "scatter_plot(y_val, pre, 0.02)\n",
    "r2_score(y_val, pre)"
   ]
  },
  {
   "cell_type": "code",
   "execution_count": 370,
   "metadata": {},
   "outputs": [],
   "source": [
    "import pickle\n",
    "filename = 'cat_2b_bs1.sav'\n",
    "pickle.dump(model_bs, open(filename, 'wb'))"
   ]
  },
  {
   "cell_type": "markdown",
   "metadata": {},
   "source": [
    "## 2b"
   ]
  },
  {
   "cell_type": "code",
   "execution_count": 557,
   "metadata": {},
   "outputs": [
    {
     "data": {
      "text/html": [
       "<div>\n",
       "<style scoped>\n",
       "    .dataframe tbody tr th:only-of-type {\n",
       "        vertical-align: middle;\n",
       "    }\n",
       "\n",
       "    .dataframe tbody tr th {\n",
       "        vertical-align: top;\n",
       "    }\n",
       "\n",
       "    .dataframe thead th {\n",
       "        text-align: right;\n",
       "    }\n",
       "</style>\n",
       "<table border=\"1\" class=\"dataframe\">\n",
       "  <thead>\n",
       "    <tr style=\"text-align: right;\">\n",
       "      <th></th>\n",
       "      <th>Laser_Speed</th>\n",
       "      <th>Laser_Power</th>\n",
       "      <th>Edge_Angle</th>\n",
       "      <th>Edge_Distance</th>\n",
       "      <th>Laser_Direction</th>\n",
       "      <th>Melt_Pool_Length</th>\n",
       "      <th>Melt_Pool_Width</th>\n",
       "      <th>Melt_Pool_Depth</th>\n",
       "    </tr>\n",
       "  </thead>\n",
       "  <tbody>\n",
       "    <tr>\n",
       "      <td>0</td>\n",
       "      <td>0.6</td>\n",
       "      <td>100</td>\n",
       "      <td>90</td>\n",
       "      <td>0.10</td>\n",
       "      <td>-1</td>\n",
       "      <td>0.0576</td>\n",
       "      <td>0.3142</td>\n",
       "      <td>0.1141</td>\n",
       "    </tr>\n",
       "    <tr>\n",
       "      <td>1</td>\n",
       "      <td>0.6</td>\n",
       "      <td>100</td>\n",
       "      <td>90</td>\n",
       "      <td>0.13</td>\n",
       "      <td>-1</td>\n",
       "      <td>0.0297</td>\n",
       "      <td>0.3349</td>\n",
       "      <td>0.1531</td>\n",
       "    </tr>\n",
       "    <tr>\n",
       "      <td>2</td>\n",
       "      <td>0.6</td>\n",
       "      <td>100</td>\n",
       "      <td>90</td>\n",
       "      <td>0.16</td>\n",
       "      <td>-1</td>\n",
       "      <td>0.0295</td>\n",
       "      <td>0.3369</td>\n",
       "      <td>0.1669</td>\n",
       "    </tr>\n",
       "    <tr>\n",
       "      <td>3</td>\n",
       "      <td>0.6</td>\n",
       "      <td>100</td>\n",
       "      <td>90</td>\n",
       "      <td>0.19</td>\n",
       "      <td>-1</td>\n",
       "      <td>0.0492</td>\n",
       "      <td>0.3352</td>\n",
       "      <td>0.1769</td>\n",
       "    </tr>\n",
       "    <tr>\n",
       "      <td>4</td>\n",
       "      <td>0.6</td>\n",
       "      <td>100</td>\n",
       "      <td>90</td>\n",
       "      <td>0.22</td>\n",
       "      <td>-1</td>\n",
       "      <td>0.0683</td>\n",
       "      <td>0.3296</td>\n",
       "      <td>0.1761</td>\n",
       "    </tr>\n",
       "  </tbody>\n",
       "</table>\n",
       "</div>"
      ],
      "text/plain": [
       "   Laser_Speed  Laser_Power  Edge_Angle  Edge_Distance  Laser_Direction  \\\n",
       "0          0.6          100          90           0.10               -1   \n",
       "1          0.6          100          90           0.13               -1   \n",
       "2          0.6          100          90           0.16               -1   \n",
       "3          0.6          100          90           0.19               -1   \n",
       "4          0.6          100          90           0.22               -1   \n",
       "\n",
       "   Melt_Pool_Length  Melt_Pool_Width  Melt_Pool_Depth  \n",
       "0            0.0576           0.3142           0.1141  \n",
       "1            0.0297           0.3349           0.1531  \n",
       "2            0.0295           0.3369           0.1669  \n",
       "3            0.0492           0.3352           0.1769  \n",
       "4            0.0683           0.3296           0.1761  "
      ]
     },
     "execution_count": 557,
     "metadata": {},
     "output_type": "execute_result"
    }
   ],
   "source": [
    "df2b_train = pd.read_csv(\"Melt_Pool_Dimensions_2b_train.csv\", index_col=False)\n",
    "df2b_val = pd.read_csv(\"Melt_Pool_Dimensions_2b_CV.csv\", index_col=False)\n",
    "df2b_train.head()"
   ]
  },
  {
   "cell_type": "code",
   "execution_count": 555,
   "metadata": {},
   "outputs": [],
   "source": [
    "X_train = df2b_train.drop(columns=[\"Melt_Pool_Length\",\"Melt_Pool_Width\",\"Melt_Pool_Depth\"])\n",
    "y_train = df2b_train[[\"Melt_Pool_Length\",\"Melt_Pool_Width\",\"Melt_Pool_Depth\"]]\n",
    "\n",
    "X_val = df2b_val.drop(columns=[\"Melt_Pool_Length\",\"Melt_Pool_Width\",\"Melt_Pool_Depth\"])\n",
    "y_val = df2b_val[[\"Melt_Pool_Length\",\"Melt_Pool_Width\",\"Melt_Pool_Depth\"]]\n",
    "\n",
    "y_train_length = y_train[\"Melt_Pool_Length\"]\n",
    "y_train_width = y_train[\"Melt_Pool_Width\"]\n",
    "y_train_depth = y_train[\"Melt_Pool_Depth\"]\n",
    "\n",
    "y_val_length = y_val[\"Melt_Pool_Length\"]\n",
    "y_val_width = y_val[\"Melt_Pool_Width\"]\n",
    "y_val_depth = y_val[\"Melt_Pool_Depth\"]"
   ]
  },
  {
   "cell_type": "code",
   "execution_count": 563,
   "metadata": {},
   "outputs": [],
   "source": [
    "x = pd.read_csv(\"Melt_Pool_Dimensions_2b_train.csv\", index_col=False)\n",
    "\n",
    "x = x.assign(volumn=lambda x: 1/np.sin(x.Edge_Angle/180*np.pi)*x.Edge_Distance**3)\n",
    "x = x.assign(surface=lambda x: 1/np.sin(x.Edge_Angle/180*np.pi)*x.Edge_Distance**2)\n",
    "x = x.assign(distance=lambda x: 1/np.sin(x.Edge_Angle/180*np.pi)*x.Edge_Distance**1)\n",
    "x = x.assign(sin=lambda x: 1/np.sin(x.Edge_Angle/180*np.pi))\n",
    "\n",
    "x1 = x[(x.Edge_Angle==70)|(x.Laser_Speed==0.9)|(x.Laser_Power==150)]\n",
    "x2 = x[(x.Edge_Angle!=70)&(x.Laser_Speed!=0.9)&(x.Laser_Power!=150)]\n",
    "\n",
    "\n",
    "X_train = x2.drop(columns=[\"Melt_Pool_Length\",\"Melt_Pool_Width\",\"Melt_Pool_Depth\"])\n",
    "y_train = x2[[\"Melt_Pool_Length\",\"Melt_Pool_Width\",\"Melt_Pool_Depth\"]]\n",
    "\n",
    "X_val = x1.drop(columns=[\"Melt_Pool_Length\",\"Melt_Pool_Width\",\"Melt_Pool_Depth\"])\n",
    "y_val = x1[[\"Melt_Pool_Length\",\"Melt_Pool_Width\",\"Melt_Pool_Depth\"]]\n",
    "\n",
    "y_train_length = y_train[\"Melt_Pool_Length\"]\n",
    "y_train_width = y_train[\"Melt_Pool_Width\"]\n",
    "y_train_depth = y_train[\"Melt_Pool_Depth\"]\n",
    "\n",
    "y_val_length = y_val[\"Melt_Pool_Length\"]\n",
    "y_val_width = y_val[\"Melt_Pool_Width\"]\n",
    "y_val_depth = y_val[\"Melt_Pool_Depth\"]\n"
   ]
  },
  {
   "cell_type": "code",
   "execution_count": 564,
   "metadata": {},
   "outputs": [],
   "source": [
    "rf_length_model2 = CatBoostRegressor(iterations=1200,\n",
    "                                        learning_rate=0.06,\n",
    "                                        depth=10, \n",
    "                                        logging_level=\"Silent\")\n",
    "rf_width_model2 = CatBoostRegressor(iterations=1200,\n",
    "                                        learning_rate=0.1,\n",
    "                                        depth=12, \n",
    "                                        logging_level=\"Silent\")\n",
    "rf_depth_model2 = CatBoostRegressor(iterations=1000,\n",
    "                                        learning_rate=0.07,\n",
    "                                        depth=8, \n",
    "                                        logging_level=\"Silent\")"
   ]
  },
  {
   "cell_type": "code",
   "execution_count": 560,
   "metadata": {},
   "outputs": [
    {
     "name": "stdout",
     "output_type": "stream",
     "text": [
      "min =  0.0\n",
      "max =  1.0\n"
     ]
    },
    {
     "data": {
      "image/png": "[encoded data removed]",
      "text/plain": [
       "<Figure size 360x360 with 1 Axes>"
      ]
     },
     "metadata": {
      "needs_background": "light"
     },
     "output_type": "display_data"
    },
    {
     "data": {
      "text/plain": [
       "0.9001879838296852"
      ]
     },
     "execution_count": 560,
     "metadata": {},
     "output_type": "execute_result"
    }
   ],
   "source": [
    "rf_length_model2.fit(X_train, y_train_length)\n",
    "y_pred_length = rf_length_model2.predict(X_val)\n",
    "scatter_plot(y_val_length, y_pred_length,4)\n",
    "r2_score(y_val_length, y_pred_length)"
   ]
  },
  {
   "cell_type": "code",
   "execution_count": 561,
   "metadata": {},
   "outputs": [
    {
     "name": "stdout",
     "output_type": "stream",
     "text": [
      "min =  0.0\n",
      "max =  1.0\n"
     ]
    },
    {
     "data": {
      "image/png": "[encoded data removed]",
      "text/plain": [
       "<Figure size 360x360 with 1 Axes>"
      ]
     },
     "metadata": {
      "needs_background": "light"
     },
     "output_type": "display_data"
    },
    {
     "data": {
      "text/plain": [
       "0.8777489528230189"
      ]
     },
     "execution_count": 561,
     "metadata": {},
     "output_type": "execute_result"
    }
   ],
   "source": [
    "rf_width_model2.fit(X_train, y_train_width)\n",
    "y_pred_width = rf_width_model2.predict(X_val)\n",
    "scatter_plot(y_val_width, y_pred_width, 4)\n",
    "r2_score(y_val_width, y_pred_width)"
   ]
  },
  {
   "cell_type": "code",
   "execution_count": 565,
   "metadata": {},
   "outputs": [
    {
     "name": "stdout",
     "output_type": "stream",
     "text": [
      "min =  0.0\n",
      "max =  1.0\n"
     ]
    },
    {
     "data": {
      "image/png": "[encoded data removed]",
      "text/plain": [
       "<Figure size 360x360 with 1 Axes>"
      ]
     },
     "metadata": {
      "needs_background": "light"
     },
     "output_type": "display_data"
    },
    {
     "data": {
      "text/plain": [
       "0.9684804853835859"
      ]
     },
     "execution_count": 565,
     "metadata": {},
     "output_type": "execute_result"
    }
   ],
   "source": [
    "rf_depth_model2.fit(X_train, y_train_depth)\n",
    "y_pred_depth= rf_depth_model2.predict(X_val)\n",
    "scatter_plot(y_val_depth, y_pred_depth, 4)\n",
    "r2_score(y_val_depth, y_pred_depth)"
   ]
  },
  {
   "cell_type": "code",
   "execution_count": 479,
   "metadata": {},
   "outputs": [],
   "source": [
    "import pickle\n",
    "filename = 'cat_2b_length.sav'\n",
    "pickle.dump(rf_length_model2, open(filename, 'wb'))\n",
    "\n",
    "filename = 'cat_2b_width.sav'\n",
    "pickle.dump(rf_width_model2, open(filename, 'wb'))\n",
    "\n",
    "filename = 'cat_2b_depth.sav'\n",
    "pickle.dump(rf_depth_model2, open(filename, 'wb'))"
   ]
  },
  {
   "cell_type": "code",
   "execution_count": 552,
   "metadata": {},
   "outputs": [],
   "source": [
    "X_2_test = pd.read_csv(\"Melt_Pool_Dimensions_test.csv\")\n",
    "\n",
    "X_2_test = X_2_test.assign(volumn=lambda x: 1/np.sin(x.Edge_Angle/180*np.pi)*x.Edge_Distance**3)\n",
    "X_2_test = X_2_test.assign(surface=lambda x: 1/np.sin(x.Edge_Angle/180*np.pi)*x.Edge_Distance**2)\n",
    "X_2_test = X_2_test.assign(distance=lambda x: 1/np.sin(x.Edge_Angle/180*np.pi)*x.Edge_Distance**1)\n",
    "X_2_test = X_2_test.assign(sin=lambda x: 1/np.sin(x.Edge_Angle/180*np.pi))\n",
    "\n",
    "\n",
    "rf_length_model2.fit(X_train, y_train_length)\n",
    "rf_width_model2.fit(X_train, y_train_width)\n",
    "rf_depth_model2.fit(X_train, y_train_depth)\n",
    "\n",
    "y_2_test_pred_depth = rf_depth_model2.predict(X_2_test)\n",
    "y_2_test_pred_width = rf_width_model2.predict(X_2_test)\n",
    "y_2_test_pred_length = rf_length_model2.predict(X_2_test)"
   ]
  },
  {
   "cell_type": "code",
   "execution_count": 487,
   "metadata": {},
   "outputs": [
    {
     "data": {
      "text/plain": [
       "(2676,)"
      ]
     },
     "execution_count": 487,
     "metadata": {},
     "output_type": "execute_result"
    }
   ],
   "source": [
    "y_2_test_pred_width .shape"
   ]
  },
  {
   "cell_type": "code",
   "execution_count": 554,
   "metadata": {},
   "outputs": [],
   "source": [
    "X_2_test[\"Melt_Pool_Length\"] = y_2_test_pred_length\n",
    "X_2_test[\"Melt_Pool_Width\"] = y_2_test_pred_width\n",
    "X_2_test[\"Melt_Pool_Depth\"] = y_2_test_pred_depth\n",
    "X_2_test.to_csv(\"Melt_Pool_Dimensions_test_1.csv\", index=False)"
   ]
  },
  {
   "cell_type": "code",
   "execution_count": null,
   "metadata": {},
   "outputs": [],
   "source": []
  }
 ],
 "metadata": {
  "kernelspec": {
   "display_name": "Python 3",
   "language": "python",
   "name": "python3"
  },
  "language_info": {
   "codemirror_mode": {
    "name": "ipython",
    "version": 3
   },
   "file_extension": ".py",
   "mimetype": "text/x-python",
   "name": "python",
   "nbconvert_exporter": "python",
   "pygments_lexer": "ipython3",
   "version": "3.7.4"
  }
 },
 "nbformat": 4,
 "nbformat_minor": 2
}
